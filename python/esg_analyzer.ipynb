{
 "cells": [
  {
   "cell_type": "markdown",
   "metadata": {},
   "source": [
    "This notebook provides tools for analyzing the existing ESG database.\n",
    "It uses a pre-built version of the database; see `extract_esg_data2`\n",
    "in `esg_loader.py`"
   ]
  },
  {
   "cell_type": "code",
   "execution_count": 30,
   "metadata": {},
   "outputs": [
    {
     "data": {
      "application/javascript": [
       "IPython.OutputArea.auto_scroll_threshold = 9999;\n"
      ],
      "text/plain": [
       "<IPython.core.display.Javascript object>"
      ]
     },
     "metadata": {},
     "output_type": "display_data"
    }
   ],
   "source": [
    "%%javascript\n",
    "IPython.OutputArea.auto_scroll_threshold = 9999;"
   ]
  },
  {
   "cell_type": "code",
   "execution_count": 31,
   "metadata": {},
   "outputs": [],
   "source": [
    "%matplotlib inline\n",
    "import numpy as np\n",
    "import pandas as pd\n",
    "import wbgapi as wb\n",
    "import qgrid\n",
    "import matplotlib.pyplot as plt\n",
    "import plotly.express as px\n",
    "from IPython.core.display import display, HTML\n",
    "\n",
    "import ipywidgets as widgets\n",
    "from ipywidgets import interact, interact_manual"
   ]
  },
  {
   "cell_type": "code",
   "execution_count": null,
   "metadata": {},
   "outputs": [],
   "source": [
    "# This cell loads data for analysis. You can change the load function\n",
    "# (typically read_csv or read_feather) and source file as required\n",
    "\n",
    "# data = pd.read_feather('../data/ESG_wbg.feather')\n",
    "data = pd.read_csv('../data/ESG_wbg_202107.csv')"
   ]
  },
  {
   "cell_type": "code",
   "execution_count": 32,
   "metadata": {},
   "outputs": [],
   "source": [
    "# reshape data to exclude years outside the analysis range\n",
    "data = data[(data.date>=2000) & (data.date<2050)]\n",
    "data['date'] = data['date'].apply(lambda x: int(x))\n",
    "\n",
    "# arrays of indicators for each pillar\n",
    "env = data[data.sector=='ENV'].indicatorID.unique()\n",
    "soc = data[data.sector=='SOC'].indicatorID.unique()\n",
    "gov = data[data.sector=='GOV'].indicatorID.unique()\n",
    "\n",
    "\n",
    "# this pivot table provides number of observations (countries) per indicator and year\n",
    "counts = data.pivot_table(index='indicatorID', columns='date', values='value', aggfunc='count')\n",
    "counts.columns.rename('Year', inplace=True)\n",
    "counts.index.rename('Indicators', inplace=True)\n",
    "\n",
    "# Extract just the indicator names\n",
    "names = data[['indicatorID', 'indicator']].drop_duplicates().set_index('indicatorID')['indicator']\n",
    "sectors = data[['indicatorID', 'sector']].drop_duplicates().set_index('indicatorID')['sector']\n",
    "\n",
    "# We need incomeLevels (from the API) expressed as integers\n",
    "incomeLevelVals = {'HIC': 4, 'UMC': 3, 'LMC': 2, 'LIC': 1, 'INX': 0}\n",
    "economies = wb.economy.DataFrame(skipAggs=True, db=75)\n",
    "economies['incomeLevelVal'] = economies['incomeLevel'].apply(lambda x: incomeLevelVals[x])"
   ]
  },
  {
   "cell_type": "code",
   "execution_count": 33,
   "metadata": {},
   "outputs": [
    {
     "data": {
      "text/html": [
       "<h3>Total Countries=193</h3>"
      ],
      "text/plain": [
       "<IPython.core.display.HTML object>"
      ]
     },
     "metadata": {},
     "output_type": "display_data"
    },
    {
     "data": {
      "application/vnd.plotly.v1+json": {
       "config": {
        "plotlyServerURL": "https://plot.ly"
       },
       "data": [
        {
         "coloraxis": "coloraxis",
         "customdata": [
          [
           "Agricultural land (% of land area)",
           "Agricultural land (% of land area)",
           "Agricultural land (% of land area)",
           "Agricultural land (% of land area)",
           "Agricultural land (% of land area)",
           "Agricultural land (% of land area)",
           "Agricultural land (% of land area)",
           "Agricultural land (% of land area)",
           "Agricultural land (% of land area)",
           "Agricultural land (% of land area)",
           "Agricultural land (% of land area)",
           "Agricultural land (% of land area)",
           "Agricultural land (% of land area)",
           "Agricultural land (% of land area)",
           "Agricultural land (% of land area)",
           "Agricultural land (% of land area)",
           "Agricultural land (% of land area)",
           "Agricultural land (% of land area)",
           "Agricultural land (% of land area)",
           "Agricultural land (% of land area)",
           "Agricultural land (% of land area)"
          ],
          [
           "Forest area (% of land area)",
           "Forest area (% of land area)",
           "Forest area (% of land area)",
           "Forest area (% of land area)",
           "Forest area (% of land area)",
           "Forest area (% of land area)",
           "Forest area (% of land area)",
           "Forest area (% of land area)",
           "Forest area (% of land area)",
           "Forest area (% of land area)",
           "Forest area (% of land area)",
           "Forest area (% of land area)",
           "Forest area (% of land area)",
           "Forest area (% of land area)",
           "Forest area (% of land area)",
           "Forest area (% of land area)",
           "Forest area (% of land area)",
           "Forest area (% of land area)",
           "Forest area (% of land area)",
           "Forest area (% of land area)",
           "Forest area (% of land area)"
          ],
          [
           "Food production index (2014-2016 = 100)",
           "Food production index (2014-2016 = 100)",
           "Food production index (2014-2016 = 100)",
           "Food production index (2014-2016 = 100)",
           "Food production index (2014-2016 = 100)",
           "Food production index (2014-2016 = 100)",
           "Food production index (2014-2016 = 100)",
           "Food production index (2014-2016 = 100)",
           "Food production index (2014-2016 = 100)",
           "Food production index (2014-2016 = 100)",
           "Food production index (2014-2016 = 100)",
           "Food production index (2014-2016 = 100)",
           "Food production index (2014-2016 = 100)",
           "Food production index (2014-2016 = 100)",
           "Food production index (2014-2016 = 100)",
           "Food production index (2014-2016 = 100)",
           "Food production index (2014-2016 = 100)",
           "Food production index (2014-2016 = 100)",
           "Food production index (2014-2016 = 100)",
           "Food production index (2014-2016 = 100)",
           "Food production index (2014-2016 = 100)"
          ],
          [
           "Energy intensity level of primary energy (MJ/$2011 PPP GDP)",
           "Energy intensity level of primary energy (MJ/$2011 PPP GDP)",
           "Energy intensity level of primary energy (MJ/$2011 PPP GDP)",
           "Energy intensity level of primary energy (MJ/$2011 PPP GDP)",
           "Energy intensity level of primary energy (MJ/$2011 PPP GDP)",
           "Energy intensity level of primary energy (MJ/$2011 PPP GDP)",
           "Energy intensity level of primary energy (MJ/$2011 PPP GDP)",
           "Energy intensity level of primary energy (MJ/$2011 PPP GDP)",
           "Energy intensity level of primary energy (MJ/$2011 PPP GDP)",
           "Energy intensity level of primary energy (MJ/$2011 PPP GDP)",
           "Energy intensity level of primary energy (MJ/$2011 PPP GDP)",
           "Energy intensity level of primary energy (MJ/$2011 PPP GDP)",
           "Energy intensity level of primary energy (MJ/$2011 PPP GDP)",
           "Energy intensity level of primary energy (MJ/$2011 PPP GDP)",
           "Energy intensity level of primary energy (MJ/$2011 PPP GDP)",
           "Energy intensity level of primary energy (MJ/$2011 PPP GDP)",
           "Energy intensity level of primary energy (MJ/$2011 PPP GDP)",
           "Energy intensity level of primary energy (MJ/$2011 PPP GDP)",
           "Energy intensity level of primary energy (MJ/$2011 PPP GDP)",
           "Energy intensity level of primary energy (MJ/$2011 PPP GDP)",
           "Energy intensity level of primary energy (MJ/$2011 PPP GDP)"
          ],
          [
           "Electricity production from coal sources (% of total)",
           "Electricity production from coal sources (% of total)",
           "Electricity production from coal sources (% of total)",
           "Electricity production from coal sources (% of total)",
           "Electricity production from coal sources (% of total)",
           "Electricity production from coal sources (% of total)",
           "Electricity production from coal sources (% of total)",
           "Electricity production from coal sources (% of total)",
           "Electricity production from coal sources (% of total)",
           "Electricity production from coal sources (% of total)",
           "Electricity production from coal sources (% of total)",
           "Electricity production from coal sources (% of total)",
           "Electricity production from coal sources (% of total)",
           "Electricity production from coal sources (% of total)",
           "Electricity production from coal sources (% of total)",
           "Electricity production from coal sources (% of total)",
           "Electricity production from coal sources (% of total)",
           "Electricity production from coal sources (% of total)",
           "Electricity production from coal sources (% of total)",
           "Electricity production from coal sources (% of total)",
           "Electricity production from coal sources (% of total)"
          ],
          [
           "Renewable electricity output (% of total electricity output)",
           "Renewable electricity output (% of total electricity output)",
           "Renewable electricity output (% of total electricity output)",
           "Renewable electricity output (% of total electricity output)",
           "Renewable electricity output (% of total electricity output)",
           "Renewable electricity output (% of total electricity output)",
           "Renewable electricity output (% of total electricity output)",
           "Renewable electricity output (% of total electricity output)",
           "Renewable electricity output (% of total electricity output)",
           "Renewable electricity output (% of total electricity output)",
           "Renewable electricity output (% of total electricity output)",
           "Renewable electricity output (% of total electricity output)",
           "Renewable electricity output (% of total electricity output)",
           "Renewable electricity output (% of total electricity output)",
           "Renewable electricity output (% of total electricity output)",
           "Renewable electricity output (% of total electricity output)",
           "Renewable electricity output (% of total electricity output)",
           "Renewable electricity output (% of total electricity output)",
           "Renewable electricity output (% of total electricity output)",
           "Renewable electricity output (% of total electricity output)",
           "Renewable electricity output (% of total electricity output)"
          ],
          [
           "Renewable energy consumption (% of total final energy consumption)",
           "Renewable energy consumption (% of total final energy consumption)",
           "Renewable energy consumption (% of total final energy consumption)",
           "Renewable energy consumption (% of total final energy consumption)",
           "Renewable energy consumption (% of total final energy consumption)",
           "Renewable energy consumption (% of total final energy consumption)",
           "Renewable energy consumption (% of total final energy consumption)",
           "Renewable energy consumption (% of total final energy consumption)",
           "Renewable energy consumption (% of total final energy consumption)",
           "Renewable energy consumption (% of total final energy consumption)",
           "Renewable energy consumption (% of total final energy consumption)",
           "Renewable energy consumption (% of total final energy consumption)",
           "Renewable energy consumption (% of total final energy consumption)",
           "Renewable energy consumption (% of total final energy consumption)",
           "Renewable energy consumption (% of total final energy consumption)",
           "Renewable energy consumption (% of total final energy consumption)",
           "Renewable energy consumption (% of total final energy consumption)",
           "Renewable energy consumption (% of total final energy consumption)",
           "Renewable energy consumption (% of total final energy consumption)",
           "Renewable energy consumption (% of total final energy consumption)",
           "Renewable energy consumption (% of total final energy consumption)"
          ],
          [
           "Energy imports, net (% of energy use)",
           "Energy imports, net (% of energy use)",
           "Energy imports, net (% of energy use)",
           "Energy imports, net (% of energy use)",
           "Energy imports, net (% of energy use)",
           "Energy imports, net (% of energy use)",
           "Energy imports, net (% of energy use)",
           "Energy imports, net (% of energy use)",
           "Energy imports, net (% of energy use)",
           "Energy imports, net (% of energy use)",
           "Energy imports, net (% of energy use)",
           "Energy imports, net (% of energy use)",
           "Energy imports, net (% of energy use)",
           "Energy imports, net (% of energy use)",
           "Energy imports, net (% of energy use)",
           "Energy imports, net (% of energy use)",
           "Energy imports, net (% of energy use)",
           "Energy imports, net (% of energy use)",
           "Energy imports, net (% of energy use)",
           "Energy imports, net (% of energy use)",
           "Energy imports, net (% of energy use)"
          ],
          [
           "Fossil fuel energy consumption (% of total)",
           "Fossil fuel energy consumption (% of total)",
           "Fossil fuel energy consumption (% of total)",
           "Fossil fuel energy consumption (% of total)",
           "Fossil fuel energy consumption (% of total)",
           "Fossil fuel energy consumption (% of total)",
           "Fossil fuel energy consumption (% of total)",
           "Fossil fuel energy consumption (% of total)",
           "Fossil fuel energy consumption (% of total)",
           "Fossil fuel energy consumption (% of total)",
           "Fossil fuel energy consumption (% of total)",
           "Fossil fuel energy consumption (% of total)",
           "Fossil fuel energy consumption (% of total)",
           "Fossil fuel energy consumption (% of total)",
           "Fossil fuel energy consumption (% of total)",
           "Fossil fuel energy consumption (% of total)",
           "Fossil fuel energy consumption (% of total)",
           "Fossil fuel energy consumption (% of total)",
           "Fossil fuel energy consumption (% of total)",
           "Fossil fuel energy consumption (% of total)",
           "Fossil fuel energy consumption (% of total)"
          ],
          [
           "Energy use (kg of oil equivalent per capita)",
           "Energy use (kg of oil equivalent per capita)",
           "Energy use (kg of oil equivalent per capita)",
           "Energy use (kg of oil equivalent per capita)",
           "Energy use (kg of oil equivalent per capita)",
           "Energy use (kg of oil equivalent per capita)",
           "Energy use (kg of oil equivalent per capita)",
           "Energy use (kg of oil equivalent per capita)",
           "Energy use (kg of oil equivalent per capita)",
           "Energy use (kg of oil equivalent per capita)",
           "Energy use (kg of oil equivalent per capita)",
           "Energy use (kg of oil equivalent per capita)",
           "Energy use (kg of oil equivalent per capita)",
           "Energy use (kg of oil equivalent per capita)",
           "Energy use (kg of oil equivalent per capita)",
           "Energy use (kg of oil equivalent per capita)",
           "Energy use (kg of oil equivalent per capita)",
           "Energy use (kg of oil equivalent per capita)",
           "Energy use (kg of oil equivalent per capita)",
           "Energy use (kg of oil equivalent per capita)",
           "Energy use (kg of oil equivalent per capita)"
          ],
          [
           "CO2 emissions (metric tons per capita)",
           "CO2 emissions (metric tons per capita)",
           "CO2 emissions (metric tons per capita)",
           "CO2 emissions (metric tons per capita)",
           "CO2 emissions (metric tons per capita)",
           "CO2 emissions (metric tons per capita)",
           "CO2 emissions (metric tons per capita)",
           "CO2 emissions (metric tons per capita)",
           "CO2 emissions (metric tons per capita)",
           "CO2 emissions (metric tons per capita)",
           "CO2 emissions (metric tons per capita)",
           "CO2 emissions (metric tons per capita)",
           "CO2 emissions (metric tons per capita)",
           "CO2 emissions (metric tons per capita)",
           "CO2 emissions (metric tons per capita)",
           "CO2 emissions (metric tons per capita)",
           "CO2 emissions (metric tons per capita)",
           "CO2 emissions (metric tons per capita)",
           "CO2 emissions (metric tons per capita)",
           "CO2 emissions (metric tons per capita)",
           "CO2 emissions (metric tons per capita)"
          ],
          [
           "Methane emissions (metric tons of CO2 equivalent per capita)",
           "Methane emissions (metric tons of CO2 equivalent per capita)",
           "Methane emissions (metric tons of CO2 equivalent per capita)",
           "Methane emissions (metric tons of CO2 equivalent per capita)",
           "Methane emissions (metric tons of CO2 equivalent per capita)",
           "Methane emissions (metric tons of CO2 equivalent per capita)",
           "Methane emissions (metric tons of CO2 equivalent per capita)",
           "Methane emissions (metric tons of CO2 equivalent per capita)",
           "Methane emissions (metric tons of CO2 equivalent per capita)",
           "Methane emissions (metric tons of CO2 equivalent per capita)",
           "Methane emissions (metric tons of CO2 equivalent per capita)",
           "Methane emissions (metric tons of CO2 equivalent per capita)",
           "Methane emissions (metric tons of CO2 equivalent per capita)",
           "Methane emissions (metric tons of CO2 equivalent per capita)",
           "Methane emissions (metric tons of CO2 equivalent per capita)",
           "Methane emissions (metric tons of CO2 equivalent per capita)",
           "Methane emissions (metric tons of CO2 equivalent per capita)",
           "Methane emissions (metric tons of CO2 equivalent per capita)",
           "Methane emissions (metric tons of CO2 equivalent per capita)",
           "Methane emissions (metric tons of CO2 equivalent per capita)",
           "Methane emissions (metric tons of CO2 equivalent per capita)"
          ],
          [
           "Nitrous oxide emissions (metric tons of CO2 equivalent per capita)",
           "Nitrous oxide emissions (metric tons of CO2 equivalent per capita)",
           "Nitrous oxide emissions (metric tons of CO2 equivalent per capita)",
           "Nitrous oxide emissions (metric tons of CO2 equivalent per capita)",
           "Nitrous oxide emissions (metric tons of CO2 equivalent per capita)",
           "Nitrous oxide emissions (metric tons of CO2 equivalent per capita)",
           "Nitrous oxide emissions (metric tons of CO2 equivalent per capita)",
           "Nitrous oxide emissions (metric tons of CO2 equivalent per capita)",
           "Nitrous oxide emissions (metric tons of CO2 equivalent per capita)",
           "Nitrous oxide emissions (metric tons of CO2 equivalent per capita)",
           "Nitrous oxide emissions (metric tons of CO2 equivalent per capita)",
           "Nitrous oxide emissions (metric tons of CO2 equivalent per capita)",
           "Nitrous oxide emissions (metric tons of CO2 equivalent per capita)",
           "Nitrous oxide emissions (metric tons of CO2 equivalent per capita)",
           "Nitrous oxide emissions (metric tons of CO2 equivalent per capita)",
           "Nitrous oxide emissions (metric tons of CO2 equivalent per capita)",
           "Nitrous oxide emissions (metric tons of CO2 equivalent per capita)",
           "Nitrous oxide emissions (metric tons of CO2 equivalent per capita)",
           "Nitrous oxide emissions (metric tons of CO2 equivalent per capita)",
           "Nitrous oxide emissions (metric tons of CO2 equivalent per capita)",
           "Nitrous oxide emissions (metric tons of CO2 equivalent per capita)"
          ],
          [
           "PM2.5 air pollution, mean annual exposure (micrograms per cubic meter)",
           "PM2.5 air pollution, mean annual exposure (micrograms per cubic meter)",
           "PM2.5 air pollution, mean annual exposure (micrograms per cubic meter)",
           "PM2.5 air pollution, mean annual exposure (micrograms per cubic meter)",
           "PM2.5 air pollution, mean annual exposure (micrograms per cubic meter)",
           "PM2.5 air pollution, mean annual exposure (micrograms per cubic meter)",
           "PM2.5 air pollution, mean annual exposure (micrograms per cubic meter)",
           "PM2.5 air pollution, mean annual exposure (micrograms per cubic meter)",
           "PM2.5 air pollution, mean annual exposure (micrograms per cubic meter)",
           "PM2.5 air pollution, mean annual exposure (micrograms per cubic meter)",
           "PM2.5 air pollution, mean annual exposure (micrograms per cubic meter)",
           "PM2.5 air pollution, mean annual exposure (micrograms per cubic meter)",
           "PM2.5 air pollution, mean annual exposure (micrograms per cubic meter)",
           "PM2.5 air pollution, mean annual exposure (micrograms per cubic meter)",
           "PM2.5 air pollution, mean annual exposure (micrograms per cubic meter)",
           "PM2.5 air pollution, mean annual exposure (micrograms per cubic meter)",
           "PM2.5 air pollution, mean annual exposure (micrograms per cubic meter)",
           "PM2.5 air pollution, mean annual exposure (micrograms per cubic meter)",
           "PM2.5 air pollution, mean annual exposure (micrograms per cubic meter)",
           "PM2.5 air pollution, mean annual exposure (micrograms per cubic meter)",
           "PM2.5 air pollution, mean annual exposure (micrograms per cubic meter)"
          ],
          [
           "GHG net emissions/removals by LUCF (Mt of CO2 equivalent)",
           "GHG net emissions/removals by LUCF (Mt of CO2 equivalent)",
           "GHG net emissions/removals by LUCF (Mt of CO2 equivalent)",
           "GHG net emissions/removals by LUCF (Mt of CO2 equivalent)",
           "GHG net emissions/removals by LUCF (Mt of CO2 equivalent)",
           "GHG net emissions/removals by LUCF (Mt of CO2 equivalent)",
           "GHG net emissions/removals by LUCF (Mt of CO2 equivalent)",
           "GHG net emissions/removals by LUCF (Mt of CO2 equivalent)",
           "GHG net emissions/removals by LUCF (Mt of CO2 equivalent)",
           "GHG net emissions/removals by LUCF (Mt of CO2 equivalent)",
           "GHG net emissions/removals by LUCF (Mt of CO2 equivalent)",
           "GHG net emissions/removals by LUCF (Mt of CO2 equivalent)",
           "GHG net emissions/removals by LUCF (Mt of CO2 equivalent)",
           "GHG net emissions/removals by LUCF (Mt of CO2 equivalent)",
           "GHG net emissions/removals by LUCF (Mt of CO2 equivalent)",
           "GHG net emissions/removals by LUCF (Mt of CO2 equivalent)",
           "GHG net emissions/removals by LUCF (Mt of CO2 equivalent)",
           "GHG net emissions/removals by LUCF (Mt of CO2 equivalent)",
           "GHG net emissions/removals by LUCF (Mt of CO2 equivalent)",
           "GHG net emissions/removals by LUCF (Mt of CO2 equivalent)",
           "GHG net emissions/removals by LUCF (Mt of CO2 equivalent)"
          ],
          [
           "Droughts, floods, extreme temperatures (% of population, average 1990-2009)",
           "Droughts, floods, extreme temperatures (% of population, average 1990-2009)",
           "Droughts, floods, extreme temperatures (% of population, average 1990-2009)",
           "Droughts, floods, extreme temperatures (% of population, average 1990-2009)",
           "Droughts, floods, extreme temperatures (% of population, average 1990-2009)",
           "Droughts, floods, extreme temperatures (% of population, average 1990-2009)",
           "Droughts, floods, extreme temperatures (% of population, average 1990-2009)",
           "Droughts, floods, extreme temperatures (% of population, average 1990-2009)",
           "Droughts, floods, extreme temperatures (% of population, average 1990-2009)",
           "Droughts, floods, extreme temperatures (% of population, average 1990-2009)",
           "Droughts, floods, extreme temperatures (% of population, average 1990-2009)",
           "Droughts, floods, extreme temperatures (% of population, average 1990-2009)",
           "Droughts, floods, extreme temperatures (% of population, average 1990-2009)",
           "Droughts, floods, extreme temperatures (% of population, average 1990-2009)",
           "Droughts, floods, extreme temperatures (% of population, average 1990-2009)",
           "Droughts, floods, extreme temperatures (% of population, average 1990-2009)",
           "Droughts, floods, extreme temperatures (% of population, average 1990-2009)",
           "Droughts, floods, extreme temperatures (% of population, average 1990-2009)",
           "Droughts, floods, extreme temperatures (% of population, average 1990-2009)",
           "Droughts, floods, extreme temperatures (% of population, average 1990-2009)",
           "Droughts, floods, extreme temperatures (% of population, average 1990-2009)"
          ],
          [
           "Mammal species, threatened",
           "Mammal species, threatened",
           "Mammal species, threatened",
           "Mammal species, threatened",
           "Mammal species, threatened",
           "Mammal species, threatened",
           "Mammal species, threatened",
           "Mammal species, threatened",
           "Mammal species, threatened",
           "Mammal species, threatened",
           "Mammal species, threatened",
           "Mammal species, threatened",
           "Mammal species, threatened",
           "Mammal species, threatened",
           "Mammal species, threatened",
           "Mammal species, threatened",
           "Mammal species, threatened",
           "Mammal species, threatened",
           "Mammal species, threatened",
           "Mammal species, threatened",
           "Mammal species, threatened"
          ],
          [
           "Population density (people per sq. km of land area)",
           "Population density (people per sq. km of land area)",
           "Population density (people per sq. km of land area)",
           "Population density (people per sq. km of land area)",
           "Population density (people per sq. km of land area)",
           "Population density (people per sq. km of land area)",
           "Population density (people per sq. km of land area)",
           "Population density (people per sq. km of land area)",
           "Population density (people per sq. km of land area)",
           "Population density (people per sq. km of land area)",
           "Population density (people per sq. km of land area)",
           "Population density (people per sq. km of land area)",
           "Population density (people per sq. km of land area)",
           "Population density (people per sq. km of land area)",
           "Population density (people per sq. km of land area)",
           "Population density (people per sq. km of land area)",
           "Population density (people per sq. km of land area)",
           "Population density (people per sq. km of land area)",
           "Population density (people per sq. km of land area)",
           "Population density (people per sq. km of land area)",
           "Population density (people per sq. km of land area)"
          ],
          [
           "Annual freshwater withdrawals, total (% of internal resources)",
           "Annual freshwater withdrawals, total (% of internal resources)",
           "Annual freshwater withdrawals, total (% of internal resources)",
           "Annual freshwater withdrawals, total (% of internal resources)",
           "Annual freshwater withdrawals, total (% of internal resources)",
           "Annual freshwater withdrawals, total (% of internal resources)",
           "Annual freshwater withdrawals, total (% of internal resources)",
           "Annual freshwater withdrawals, total (% of internal resources)",
           "Annual freshwater withdrawals, total (% of internal resources)",
           "Annual freshwater withdrawals, total (% of internal resources)",
           "Annual freshwater withdrawals, total (% of internal resources)",
           "Annual freshwater withdrawals, total (% of internal resources)",
           "Annual freshwater withdrawals, total (% of internal resources)",
           "Annual freshwater withdrawals, total (% of internal resources)",
           "Annual freshwater withdrawals, total (% of internal resources)",
           "Annual freshwater withdrawals, total (% of internal resources)",
           "Annual freshwater withdrawals, total (% of internal resources)",
           "Annual freshwater withdrawals, total (% of internal resources)",
           "Annual freshwater withdrawals, total (% of internal resources)",
           "Annual freshwater withdrawals, total (% of internal resources)",
           "Annual freshwater withdrawals, total (% of internal resources)"
          ],
          [
           "Terrestrial and marine protected areas (% of total territorial area)",
           "Terrestrial and marine protected areas (% of total territorial area)",
           "Terrestrial and marine protected areas (% of total territorial area)",
           "Terrestrial and marine protected areas (% of total territorial area)",
           "Terrestrial and marine protected areas (% of total territorial area)",
           "Terrestrial and marine protected areas (% of total territorial area)",
           "Terrestrial and marine protected areas (% of total territorial area)",
           "Terrestrial and marine protected areas (% of total territorial area)",
           "Terrestrial and marine protected areas (% of total territorial area)",
           "Terrestrial and marine protected areas (% of total territorial area)",
           "Terrestrial and marine protected areas (% of total territorial area)",
           "Terrestrial and marine protected areas (% of total territorial area)",
           "Terrestrial and marine protected areas (% of total territorial area)",
           "Terrestrial and marine protected areas (% of total territorial area)",
           "Terrestrial and marine protected areas (% of total territorial area)",
           "Terrestrial and marine protected areas (% of total territorial area)",
           "Terrestrial and marine protected areas (% of total territorial area)",
           "Terrestrial and marine protected areas (% of total territorial area)",
           "Terrestrial and marine protected areas (% of total territorial area)",
           "Terrestrial and marine protected areas (% of total territorial area)",
           "Terrestrial and marine protected areas (% of total territorial area)"
          ],
          [
           "Adjusted savings: net forest depletion (% of GNI)",
           "Adjusted savings: net forest depletion (% of GNI)",
           "Adjusted savings: net forest depletion (% of GNI)",
           "Adjusted savings: net forest depletion (% of GNI)",
           "Adjusted savings: net forest depletion (% of GNI)",
           "Adjusted savings: net forest depletion (% of GNI)",
           "Adjusted savings: net forest depletion (% of GNI)",
           "Adjusted savings: net forest depletion (% of GNI)",
           "Adjusted savings: net forest depletion (% of GNI)",
           "Adjusted savings: net forest depletion (% of GNI)",
           "Adjusted savings: net forest depletion (% of GNI)",
           "Adjusted savings: net forest depletion (% of GNI)",
           "Adjusted savings: net forest depletion (% of GNI)",
           "Adjusted savings: net forest depletion (% of GNI)",
           "Adjusted savings: net forest depletion (% of GNI)",
           "Adjusted savings: net forest depletion (% of GNI)",
           "Adjusted savings: net forest depletion (% of GNI)",
           "Adjusted savings: net forest depletion (% of GNI)",
           "Adjusted savings: net forest depletion (% of GNI)",
           "Adjusted savings: net forest depletion (% of GNI)",
           "Adjusted savings: net forest depletion (% of GNI)"
          ],
          [
           "Adjusted savings: natural resources depletion (% of GNI)",
           "Adjusted savings: natural resources depletion (% of GNI)",
           "Adjusted savings: natural resources depletion (% of GNI)",
           "Adjusted savings: natural resources depletion (% of GNI)",
           "Adjusted savings: natural resources depletion (% of GNI)",
           "Adjusted savings: natural resources depletion (% of GNI)",
           "Adjusted savings: natural resources depletion (% of GNI)",
           "Adjusted savings: natural resources depletion (% of GNI)",
           "Adjusted savings: natural resources depletion (% of GNI)",
           "Adjusted savings: natural resources depletion (% of GNI)",
           "Adjusted savings: natural resources depletion (% of GNI)",
           "Adjusted savings: natural resources depletion (% of GNI)",
           "Adjusted savings: natural resources depletion (% of GNI)",
           "Adjusted savings: natural resources depletion (% of GNI)",
           "Adjusted savings: natural resources depletion (% of GNI)",
           "Adjusted savings: natural resources depletion (% of GNI)",
           "Adjusted savings: natural resources depletion (% of GNI)",
           "Adjusted savings: natural resources depletion (% of GNI)",
           "Adjusted savings: natural resources depletion (% of GNI)",
           "Adjusted savings: natural resources depletion (% of GNI)",
           "Adjusted savings: natural resources depletion (% of GNI)"
          ]
         ],
         "hovertemplate": "Year: %{x}<br>Indicator: %{customdata}<br>CETS ID: %{y}<br>Countries: %{z}<extra></extra>",
         "type": "heatmap",
         "x": [
          2000,
          2001,
          2002,
          2003,
          2004,
          2005,
          2006,
          2007,
          2008,
          2009,
          2010,
          2011,
          2012,
          2013,
          2014,
          2015,
          2016,
          2017,
          2018,
          2019,
          2020
         ],
         "y": [
          "AG.LND.AGRI.ZS",
          "AG.LND.FRST.ZS",
          "AG.PRD.FOOD.XD",
          "EG.EGY.PRIM.PP.KD",
          "EG.ELC.COAL.ZS",
          "EG.ELC.RNEW.ZS",
          "EG.FEC.RNEW.ZS",
          "EG.IMP.CONS.ZS",
          "EG.USE.COMM.FO.ZS",
          "EG.USE.PCAP.KG.OE",
          "EN.ATM.CO2E.PC",
          "EN.ATM.METH.PC",
          "EN.ATM.NOXE.PC",
          "EN.ATM.PM25.MC.M3",
          "EN.CLC.GHGR.MT.CE",
          "EN.CLC.MDAT.ZS",
          "EN.MAM.THRD.NO",
          "EN.POP.DNST",
          "ER.H2O.FWTL.ZS",
          "ER.PTD.TOTL.ZS",
          "NY.ADJ.DFOR.GN.ZS",
          "NY.ADJ.DRES.GN.ZS"
         ],
         "z": [
          [
           188,
           188,
           188,
           188,
           188,
           188,
           190,
           190,
           190,
           190,
           190,
           192,
           192,
           192,
           192,
           192,
           192,
           192,
           192,
           null,
           null
          ],
          [
           191,
           191,
           191,
           191,
           191,
           191,
           191,
           191,
           191,
           191,
           191,
           193,
           193,
           193,
           193,
           193,
           193,
           193,
           193,
           null,
           null
          ],
          [
           186,
           186,
           186,
           186,
           186,
           186,
           188,
           188,
           188,
           188,
           188,
           188,
           189,
           189,
           189,
           189,
           189,
           189,
           189,
           null,
           null
          ],
          [
           184,
           184,
           185,
           185,
           185,
           186,
           186,
           186,
           186,
           186,
           186,
           186,
           187,
           187,
           187,
           186,
           null,
           null,
           null,
           null,
           null
          ],
          [
           136,
           136,
           136,
           136,
           136,
           137,
           137,
           137,
           137,
           137,
           137,
           137,
           138,
           138,
           138,
           138,
           null,
           null,
           null,
           null,
           null
          ],
          [
           193,
           193,
           193,
           193,
           193,
           193,
           193,
           193,
           193,
           193,
           193,
           193,
           193,
           193,
           193,
           193,
           1,
           1,
           1,
           1,
           null
          ],
          [
           187,
           187,
           188,
           188,
           188,
           189,
           189,
           190,
           190,
           190,
           190,
           190,
           191,
           191,
           191,
           191,
           null,
           null,
           null,
           null,
           null
          ],
          [
           136,
           136,
           136,
           136,
           136,
           137,
           137,
           137,
           137,
           137,
           137,
           137,
           138,
           138,
           132,
           34,
           null,
           null,
           null,
           null,
           null
          ],
          [
           132,
           133,
           132,
           134,
           163,
           163,
           163,
           166,
           134,
           135,
           131,
           134,
           133,
           136,
           131,
           34,
           null,
           null,
           null,
           null,
           null
          ],
          [
           136,
           136,
           136,
           136,
           166,
           167,
           167,
           167,
           137,
           137,
           137,
           137,
           138,
           138,
           132,
           34,
           null,
           null,
           null,
           null,
           null
          ],
          [
           191,
           191,
           191,
           191,
           191,
           191,
           191,
           191,
           191,
           191,
           191,
           191,
           191,
           191,
           191,
           191,
           191,
           191,
           191,
           null,
           null
          ],
          [
           191,
           191,
           191,
           191,
           191,
           191,
           191,
           191,
           191,
           191,
           191,
           191,
           191,
           191,
           191,
           191,
           191,
           191,
           191,
           null,
           null
          ],
          [
           190,
           190,
           190,
           190,
           190,
           190,
           190,
           190,
           190,
           190,
           190,
           191,
           191,
           191,
           191,
           191,
           191,
           191,
           191,
           null,
           null
          ],
          [
           186,
           null,
           null,
           null,
           null,
           186,
           null,
           null,
           null,
           null,
           186,
           186,
           186,
           186,
           186,
           186,
           186,
           186,
           null,
           null,
           null
          ],
          [
           58,
           42,
           43,
           45,
           45,
           47,
           43,
           43,
           41,
           41,
           null,
           null,
           null,
           null,
           null,
           null,
           null,
           null,
           null,
           null,
           null
          ],
          [
           null,
           null,
           null,
           null,
           null,
           null,
           null,
           null,
           null,
           165,
           null,
           null,
           null,
           null,
           null,
           null,
           null,
           null,
           null,
           null,
           null
          ],
          [
           null,
           null,
           null,
           null,
           null,
           null,
           null,
           null,
           null,
           null,
           null,
           null,
           null,
           null,
           null,
           null,
           null,
           null,
           193,
           null,
           null
          ],
          [
           192,
           192,
           192,
           192,
           192,
           192,
           192,
           192,
           192,
           192,
           192,
           193,
           193,
           193,
           193,
           193,
           193,
           193,
           193,
           null,
           null
          ],
          [
           null,
           null,
           158,
           null,
           null,
           null,
           null,
           166,
           null,
           null,
           null,
           null,
           174,
           null,
           null,
           null,
           null,
           174,
           null,
           null,
           null
          ],
          [
           null,
           null,
           null,
           null,
           null,
           null,
           null,
           null,
           null,
           null,
           null,
           null,
           null,
           null,
           null,
           null,
           191,
           190,
           190,
           null,
           null
          ],
          [
           168,
           169,
           171,
           171,
           173,
           173,
           176,
           176,
           175,
           176,
           176,
           179,
           177,
           177,
           177,
           176,
           175,
           174,
           174,
           169,
           null
          ],
          [
           166,
           167,
           169,
           169,
           170,
           170,
           174,
           174,
           173,
           174,
           174,
           177,
           175,
           175,
           175,
           175,
           174,
           173,
           174,
           169,
           null
          ]
         ]
        }
       ],
       "layout": {
        "coloraxis": {
         "cmax": 193,
         "cmin": 0,
         "colorscale": [
          [
           0,
           "#0d0887"
          ],
          [
           0.1111111111111111,
           "#46039f"
          ],
          [
           0.2222222222222222,
           "#7201a8"
          ],
          [
           0.3333333333333333,
           "#9c179e"
          ],
          [
           0.4444444444444444,
           "#bd3786"
          ],
          [
           0.5555555555555556,
           "#d8576b"
          ],
          [
           0.6666666666666666,
           "#ed7953"
          ],
          [
           0.7777777777777778,
           "#fb9f3a"
          ],
          [
           0.8888888888888888,
           "#fdca26"
          ],
          [
           1,
           "#f0f921"
          ]
         ]
        },
        "height": 550,
        "template": {
         "data": {
          "bar": [
           {
            "error_x": {
             "color": "#2a3f5f"
            },
            "error_y": {
             "color": "#2a3f5f"
            },
            "marker": {
             "line": {
              "color": "#E5ECF6",
              "width": 0.5
             }
            },
            "type": "bar"
           }
          ],
          "barpolar": [
           {
            "marker": {
             "line": {
              "color": "#E5ECF6",
              "width": 0.5
             }
            },
            "type": "barpolar"
           }
          ],
          "carpet": [
           {
            "aaxis": {
             "endlinecolor": "#2a3f5f",
             "gridcolor": "white",
             "linecolor": "white",
             "minorgridcolor": "white",
             "startlinecolor": "#2a3f5f"
            },
            "baxis": {
             "endlinecolor": "#2a3f5f",
             "gridcolor": "white",
             "linecolor": "white",
             "minorgridcolor": "white",
             "startlinecolor": "#2a3f5f"
            },
            "type": "carpet"
           }
          ],
          "choropleth": [
           {
            "colorbar": {
             "outlinewidth": 0,
             "ticks": ""
            },
            "type": "choropleth"
           }
          ],
          "contour": [
           {
            "colorbar": {
             "outlinewidth": 0,
             "ticks": ""
            },
            "colorscale": [
             [
              0,
              "#0d0887"
             ],
             [
              0.1111111111111111,
              "#46039f"
             ],
             [
              0.2222222222222222,
              "#7201a8"
             ],
             [
              0.3333333333333333,
              "#9c179e"
             ],
             [
              0.4444444444444444,
              "#bd3786"
             ],
             [
              0.5555555555555556,
              "#d8576b"
             ],
             [
              0.6666666666666666,
              "#ed7953"
             ],
             [
              0.7777777777777778,
              "#fb9f3a"
             ],
             [
              0.8888888888888888,
              "#fdca26"
             ],
             [
              1,
              "#f0f921"
             ]
            ],
            "type": "contour"
           }
          ],
          "contourcarpet": [
           {
            "colorbar": {
             "outlinewidth": 0,
             "ticks": ""
            },
            "type": "contourcarpet"
           }
          ],
          "heatmap": [
           {
            "colorbar": {
             "outlinewidth": 0,
             "ticks": ""
            },
            "colorscale": [
             [
              0,
              "#0d0887"
             ],
             [
              0.1111111111111111,
              "#46039f"
             ],
             [
              0.2222222222222222,
              "#7201a8"
             ],
             [
              0.3333333333333333,
              "#9c179e"
             ],
             [
              0.4444444444444444,
              "#bd3786"
             ],
             [
              0.5555555555555556,
              "#d8576b"
             ],
             [
              0.6666666666666666,
              "#ed7953"
             ],
             [
              0.7777777777777778,
              "#fb9f3a"
             ],
             [
              0.8888888888888888,
              "#fdca26"
             ],
             [
              1,
              "#f0f921"
             ]
            ],
            "type": "heatmap"
           }
          ],
          "heatmapgl": [
           {
            "colorbar": {
             "outlinewidth": 0,
             "ticks": ""
            },
            "colorscale": [
             [
              0,
              "#0d0887"
             ],
             [
              0.1111111111111111,
              "#46039f"
             ],
             [
              0.2222222222222222,
              "#7201a8"
             ],
             [
              0.3333333333333333,
              "#9c179e"
             ],
             [
              0.4444444444444444,
              "#bd3786"
             ],
             [
              0.5555555555555556,
              "#d8576b"
             ],
             [
              0.6666666666666666,
              "#ed7953"
             ],
             [
              0.7777777777777778,
              "#fb9f3a"
             ],
             [
              0.8888888888888888,
              "#fdca26"
             ],
             [
              1,
              "#f0f921"
             ]
            ],
            "type": "heatmapgl"
           }
          ],
          "histogram": [
           {
            "marker": {
             "colorbar": {
              "outlinewidth": 0,
              "ticks": ""
             }
            },
            "type": "histogram"
           }
          ],
          "histogram2d": [
           {
            "colorbar": {
             "outlinewidth": 0,
             "ticks": ""
            },
            "colorscale": [
             [
              0,
              "#0d0887"
             ],
             [
              0.1111111111111111,
              "#46039f"
             ],
             [
              0.2222222222222222,
              "#7201a8"
             ],
             [
              0.3333333333333333,
              "#9c179e"
             ],
             [
              0.4444444444444444,
              "#bd3786"
             ],
             [
              0.5555555555555556,
              "#d8576b"
             ],
             [
              0.6666666666666666,
              "#ed7953"
             ],
             [
              0.7777777777777778,
              "#fb9f3a"
             ],
             [
              0.8888888888888888,
              "#fdca26"
             ],
             [
              1,
              "#f0f921"
             ]
            ],
            "type": "histogram2d"
           }
          ],
          "histogram2dcontour": [
           {
            "colorbar": {
             "outlinewidth": 0,
             "ticks": ""
            },
            "colorscale": [
             [
              0,
              "#0d0887"
             ],
             [
              0.1111111111111111,
              "#46039f"
             ],
             [
              0.2222222222222222,
              "#7201a8"
             ],
             [
              0.3333333333333333,
              "#9c179e"
             ],
             [
              0.4444444444444444,
              "#bd3786"
             ],
             [
              0.5555555555555556,
              "#d8576b"
             ],
             [
              0.6666666666666666,
              "#ed7953"
             ],
             [
              0.7777777777777778,
              "#fb9f3a"
             ],
             [
              0.8888888888888888,
              "#fdca26"
             ],
             [
              1,
              "#f0f921"
             ]
            ],
            "type": "histogram2dcontour"
           }
          ],
          "mesh3d": [
           {
            "colorbar": {
             "outlinewidth": 0,
             "ticks": ""
            },
            "type": "mesh3d"
           }
          ],
          "parcoords": [
           {
            "line": {
             "colorbar": {
              "outlinewidth": 0,
              "ticks": ""
             }
            },
            "type": "parcoords"
           }
          ],
          "pie": [
           {
            "automargin": true,
            "type": "pie"
           }
          ],
          "scatter": [
           {
            "marker": {
             "colorbar": {
              "outlinewidth": 0,
              "ticks": ""
             }
            },
            "type": "scatter"
           }
          ],
          "scatter3d": [
           {
            "line": {
             "colorbar": {
              "outlinewidth": 0,
              "ticks": ""
             }
            },
            "marker": {
             "colorbar": {
              "outlinewidth": 0,
              "ticks": ""
             }
            },
            "type": "scatter3d"
           }
          ],
          "scattercarpet": [
           {
            "marker": {
             "colorbar": {
              "outlinewidth": 0,
              "ticks": ""
             }
            },
            "type": "scattercarpet"
           }
          ],
          "scattergeo": [
           {
            "marker": {
             "colorbar": {
              "outlinewidth": 0,
              "ticks": ""
             }
            },
            "type": "scattergeo"
           }
          ],
          "scattergl": [
           {
            "marker": {
             "colorbar": {
              "outlinewidth": 0,
              "ticks": ""
             }
            },
            "type": "scattergl"
           }
          ],
          "scattermapbox": [
           {
            "marker": {
             "colorbar": {
              "outlinewidth": 0,
              "ticks": ""
             }
            },
            "type": "scattermapbox"
           }
          ],
          "scatterpolar": [
           {
            "marker": {
             "colorbar": {
              "outlinewidth": 0,
              "ticks": ""
             }
            },
            "type": "scatterpolar"
           }
          ],
          "scatterpolargl": [
           {
            "marker": {
             "colorbar": {
              "outlinewidth": 0,
              "ticks": ""
             }
            },
            "type": "scatterpolargl"
           }
          ],
          "scatterternary": [
           {
            "marker": {
             "colorbar": {
              "outlinewidth": 0,
              "ticks": ""
             }
            },
            "type": "scatterternary"
           }
          ],
          "surface": [
           {
            "colorbar": {
             "outlinewidth": 0,
             "ticks": ""
            },
            "colorscale": [
             [
              0,
              "#0d0887"
             ],
             [
              0.1111111111111111,
              "#46039f"
             ],
             [
              0.2222222222222222,
              "#7201a8"
             ],
             [
              0.3333333333333333,
              "#9c179e"
             ],
             [
              0.4444444444444444,
              "#bd3786"
             ],
             [
              0.5555555555555556,
              "#d8576b"
             ],
             [
              0.6666666666666666,
              "#ed7953"
             ],
             [
              0.7777777777777778,
              "#fb9f3a"
             ],
             [
              0.8888888888888888,
              "#fdca26"
             ],
             [
              1,
              "#f0f921"
             ]
            ],
            "type": "surface"
           }
          ],
          "table": [
           {
            "cells": {
             "fill": {
              "color": "#EBF0F8"
             },
             "line": {
              "color": "white"
             }
            },
            "header": {
             "fill": {
              "color": "#C8D4E3"
             },
             "line": {
              "color": "white"
             }
            },
            "type": "table"
           }
          ]
         },
         "layout": {
          "annotationdefaults": {
           "arrowcolor": "#2a3f5f",
           "arrowhead": 0,
           "arrowwidth": 1
          },
          "coloraxis": {
           "colorbar": {
            "outlinewidth": 0,
            "ticks": ""
           }
          },
          "colorscale": {
           "diverging": [
            [
             0,
             "#8e0152"
            ],
            [
             0.1,
             "#c51b7d"
            ],
            [
             0.2,
             "#de77ae"
            ],
            [
             0.3,
             "#f1b6da"
            ],
            [
             0.4,
             "#fde0ef"
            ],
            [
             0.5,
             "#f7f7f7"
            ],
            [
             0.6,
             "#e6f5d0"
            ],
            [
             0.7,
             "#b8e186"
            ],
            [
             0.8,
             "#7fbc41"
            ],
            [
             0.9,
             "#4d9221"
            ],
            [
             1,
             "#276419"
            ]
           ],
           "sequential": [
            [
             0,
             "#0d0887"
            ],
            [
             0.1111111111111111,
             "#46039f"
            ],
            [
             0.2222222222222222,
             "#7201a8"
            ],
            [
             0.3333333333333333,
             "#9c179e"
            ],
            [
             0.4444444444444444,
             "#bd3786"
            ],
            [
             0.5555555555555556,
             "#d8576b"
            ],
            [
             0.6666666666666666,
             "#ed7953"
            ],
            [
             0.7777777777777778,
             "#fb9f3a"
            ],
            [
             0.8888888888888888,
             "#fdca26"
            ],
            [
             1,
             "#f0f921"
            ]
           ],
           "sequentialminus": [
            [
             0,
             "#0d0887"
            ],
            [
             0.1111111111111111,
             "#46039f"
            ],
            [
             0.2222222222222222,
             "#7201a8"
            ],
            [
             0.3333333333333333,
             "#9c179e"
            ],
            [
             0.4444444444444444,
             "#bd3786"
            ],
            [
             0.5555555555555556,
             "#d8576b"
            ],
            [
             0.6666666666666666,
             "#ed7953"
            ],
            [
             0.7777777777777778,
             "#fb9f3a"
            ],
            [
             0.8888888888888888,
             "#fdca26"
            ],
            [
             1,
             "#f0f921"
            ]
           ]
          },
          "colorway": [
           "#636efa",
           "#EF553B",
           "#00cc96",
           "#ab63fa",
           "#FFA15A",
           "#19d3f3",
           "#FF6692",
           "#B6E880",
           "#FF97FF",
           "#FECB52"
          ],
          "font": {
           "color": "#2a3f5f"
          },
          "geo": {
           "bgcolor": "white",
           "lakecolor": "white",
           "landcolor": "#E5ECF6",
           "showlakes": true,
           "showland": true,
           "subunitcolor": "white"
          },
          "hoverlabel": {
           "align": "left"
          },
          "hovermode": "closest",
          "mapbox": {
           "style": "light"
          },
          "paper_bgcolor": "white",
          "plot_bgcolor": "#E5ECF6",
          "polar": {
           "angularaxis": {
            "gridcolor": "white",
            "linecolor": "white",
            "ticks": ""
           },
           "bgcolor": "#E5ECF6",
           "radialaxis": {
            "gridcolor": "white",
            "linecolor": "white",
            "ticks": ""
           }
          },
          "scene": {
           "xaxis": {
            "backgroundcolor": "#E5ECF6",
            "gridcolor": "white",
            "gridwidth": 2,
            "linecolor": "white",
            "showbackground": true,
            "ticks": "",
            "zerolinecolor": "white"
           },
           "yaxis": {
            "backgroundcolor": "#E5ECF6",
            "gridcolor": "white",
            "gridwidth": 2,
            "linecolor": "white",
            "showbackground": true,
            "ticks": "",
            "zerolinecolor": "white"
           },
           "zaxis": {
            "backgroundcolor": "#E5ECF6",
            "gridcolor": "white",
            "gridwidth": 2,
            "linecolor": "white",
            "showbackground": true,
            "ticks": "",
            "zerolinecolor": "white"
           }
          },
          "shapedefaults": {
           "line": {
            "color": "#2a3f5f"
           }
          },
          "ternary": {
           "aaxis": {
            "gridcolor": "white",
            "linecolor": "white",
            "ticks": ""
           },
           "baxis": {
            "gridcolor": "white",
            "linecolor": "white",
            "ticks": ""
           },
           "bgcolor": "#E5ECF6",
           "caxis": {
            "gridcolor": "white",
            "linecolor": "white",
            "ticks": ""
           }
          },
          "title": {
           "x": 0.05
          },
          "xaxis": {
           "automargin": true,
           "gridcolor": "white",
           "linecolor": "white",
           "ticks": "",
           "title": {
            "standoff": 15
           },
           "zerolinecolor": "white",
           "zerolinewidth": 2
          },
          "yaxis": {
           "automargin": true,
           "gridcolor": "white",
           "linecolor": "white",
           "ticks": "",
           "title": {
            "standoff": 15
           },
           "zerolinecolor": "white",
           "zerolinewidth": 2
          }
         }
        },
        "title": {
         "text": "Environment Pillar (22)"
        },
        "xaxis": {
         "constrain": "domain",
         "scaleanchor": "y",
         "tickmode": "array",
         "tickvals": [
          2000,
          2001,
          2002,
          2003,
          2004,
          2005,
          2006,
          2007,
          2008,
          2009,
          2010,
          2011,
          2012,
          2013,
          2014,
          2015,
          2016,
          2017,
          2018,
          2019,
          2020
         ],
         "title": {
          "text": "Year"
         }
        },
        "yaxis": {
         "autorange": "reversed",
         "constrain": "domain",
         "tickmode": "array",
         "tickvals": [
          "AG.LND.AGRI.ZS",
          "AG.LND.FRST.ZS",
          "AG.PRD.FOOD.XD",
          "EG.EGY.PRIM.PP.KD",
          "EG.ELC.COAL.ZS",
          "EG.ELC.RNEW.ZS",
          "EG.FEC.RNEW.ZS",
          "EG.IMP.CONS.ZS",
          "EG.USE.COMM.FO.ZS",
          "EG.USE.PCAP.KG.OE",
          "EN.ATM.CO2E.PC",
          "EN.ATM.METH.PC",
          "EN.ATM.NOXE.PC",
          "EN.ATM.PM25.MC.M3",
          "EN.CLC.GHGR.MT.CE",
          "EN.CLC.MDAT.ZS",
          "EN.MAM.THRD.NO",
          "EN.POP.DNST",
          "ER.H2O.FWTL.ZS",
          "ER.PTD.TOTL.ZS",
          "NY.ADJ.DFOR.GN.ZS",
          "NY.ADJ.DRES.GN.ZS"
         ],
         "title": {
          "text": "Indicators"
         }
        }
       }
      },
      "text/html": [
       "<div>                            <div id=\"32165786-5256-4178-a8d6-0743f0754c1d\" class=\"plotly-graph-div\" style=\"height:550px; width:100%;\"></div>            <script type=\"text/javascript\">                require([\"plotly\"], function(Plotly) {                    window.PLOTLYENV=window.PLOTLYENV || {};                                    if (document.getElementById(\"32165786-5256-4178-a8d6-0743f0754c1d\")) {                    Plotly.newPlot(                        \"32165786-5256-4178-a8d6-0743f0754c1d\",                        [{\"coloraxis\": \"coloraxis\", \"customdata\": [[\"Agricultural land (% of land area)\", \"Agricultural land (% of land area)\", \"Agricultural land (% of land area)\", \"Agricultural land (% of land area)\", \"Agricultural land (% of land area)\", \"Agricultural land (% of land area)\", \"Agricultural land (% of land area)\", \"Agricultural land (% of land area)\", \"Agricultural land (% of land area)\", \"Agricultural land (% of land area)\", \"Agricultural land (% of land area)\", \"Agricultural land (% of land area)\", \"Agricultural land (% of land area)\", \"Agricultural land (% of land area)\", \"Agricultural land (% of land area)\", \"Agricultural land (% of land area)\", \"Agricultural land (% of land area)\", \"Agricultural land (% of land area)\", \"Agricultural land (% of land area)\", \"Agricultural land (% of land area)\", \"Agricultural land (% of land area)\"], [\"Forest area (% of land area)\", \"Forest area (% of land area)\", \"Forest area (% of land area)\", \"Forest area (% of land area)\", \"Forest area (% of land area)\", \"Forest area (% of land area)\", \"Forest area (% of land area)\", \"Forest area (% of land area)\", \"Forest area (% of land area)\", \"Forest area (% of land area)\", \"Forest area (% of land area)\", \"Forest area (% of land area)\", \"Forest area (% of land area)\", \"Forest area (% of land area)\", \"Forest area (% of land area)\", \"Forest area (% of land area)\", \"Forest area (% of land area)\", \"Forest area (% of land area)\", \"Forest area (% of land area)\", \"Forest area (% of land area)\", \"Forest area (% of land area)\"], [\"Food production index (2014-2016 = 100)\", \"Food production index (2014-2016 = 100)\", \"Food production index (2014-2016 = 100)\", \"Food production index (2014-2016 = 100)\", \"Food production index (2014-2016 = 100)\", \"Food production index (2014-2016 = 100)\", \"Food production index (2014-2016 = 100)\", \"Food production index (2014-2016 = 100)\", \"Food production index (2014-2016 = 100)\", \"Food production index (2014-2016 = 100)\", \"Food production index (2014-2016 = 100)\", \"Food production index (2014-2016 = 100)\", \"Food production index (2014-2016 = 100)\", \"Food production index (2014-2016 = 100)\", \"Food production index (2014-2016 = 100)\", \"Food production index (2014-2016 = 100)\", \"Food production index (2014-2016 = 100)\", \"Food production index (2014-2016 = 100)\", \"Food production index (2014-2016 = 100)\", \"Food production index (2014-2016 = 100)\", \"Food production index (2014-2016 = 100)\"], [\"Energy intensity level of primary energy (MJ/$2011 PPP GDP)\", \"Energy intensity level of primary energy (MJ/$2011 PPP GDP)\", \"Energy intensity level of primary energy (MJ/$2011 PPP GDP)\", \"Energy intensity level of primary energy (MJ/$2011 PPP GDP)\", \"Energy intensity level of primary energy (MJ/$2011 PPP GDP)\", \"Energy intensity level of primary energy (MJ/$2011 PPP GDP)\", \"Energy intensity level of primary energy (MJ/$2011 PPP GDP)\", \"Energy intensity level of primary energy (MJ/$2011 PPP GDP)\", \"Energy intensity level of primary energy (MJ/$2011 PPP GDP)\", \"Energy intensity level of primary energy (MJ/$2011 PPP GDP)\", \"Energy intensity level of primary energy (MJ/$2011 PPP GDP)\", \"Energy intensity level of primary energy (MJ/$2011 PPP GDP)\", \"Energy intensity level of primary energy (MJ/$2011 PPP GDP)\", \"Energy intensity level of primary energy (MJ/$2011 PPP GDP)\", \"Energy intensity level of primary energy (MJ/$2011 PPP GDP)\", \"Energy intensity level of primary energy (MJ/$2011 PPP GDP)\", \"Energy intensity level of primary energy (MJ/$2011 PPP GDP)\", \"Energy intensity level of primary energy (MJ/$2011 PPP GDP)\", \"Energy intensity level of primary energy (MJ/$2011 PPP GDP)\", \"Energy intensity level of primary energy (MJ/$2011 PPP GDP)\", \"Energy intensity level of primary energy (MJ/$2011 PPP GDP)\"], [\"Electricity production from coal sources (% of total)\", \"Electricity production from coal sources (% of total)\", \"Electricity production from coal sources (% of total)\", \"Electricity production from coal sources (% of total)\", \"Electricity production from coal sources (% of total)\", \"Electricity production from coal sources (% of total)\", \"Electricity production from coal sources (% of total)\", \"Electricity production from coal sources (% of total)\", \"Electricity production from coal sources (% of total)\", \"Electricity production from coal sources (% of total)\", \"Electricity production from coal sources (% of total)\", \"Electricity production from coal sources (% of total)\", \"Electricity production from coal sources (% of total)\", \"Electricity production from coal sources (% of total)\", \"Electricity production from coal sources (% of total)\", \"Electricity production from coal sources (% of total)\", \"Electricity production from coal sources (% of total)\", \"Electricity production from coal sources (% of total)\", \"Electricity production from coal sources (% of total)\", \"Electricity production from coal sources (% of total)\", \"Electricity production from coal sources (% of total)\"], [\"Renewable electricity output (% of total electricity output)\", \"Renewable electricity output (% of total electricity output)\", \"Renewable electricity output (% of total electricity output)\", \"Renewable electricity output (% of total electricity output)\", \"Renewable electricity output (% of total electricity output)\", \"Renewable electricity output (% of total electricity output)\", \"Renewable electricity output (% of total electricity output)\", \"Renewable electricity output (% of total electricity output)\", \"Renewable electricity output (% of total electricity output)\", \"Renewable electricity output (% of total electricity output)\", \"Renewable electricity output (% of total electricity output)\", \"Renewable electricity output (% of total electricity output)\", \"Renewable electricity output (% of total electricity output)\", \"Renewable electricity output (% of total electricity output)\", \"Renewable electricity output (% of total electricity output)\", \"Renewable electricity output (% of total electricity output)\", \"Renewable electricity output (% of total electricity output)\", \"Renewable electricity output (% of total electricity output)\", \"Renewable electricity output (% of total electricity output)\", \"Renewable electricity output (% of total electricity output)\", \"Renewable electricity output (% of total electricity output)\"], [\"Renewable energy consumption (% of total final energy consumption)\", \"Renewable energy consumption (% of total final energy consumption)\", \"Renewable energy consumption (% of total final energy consumption)\", \"Renewable energy consumption (% of total final energy consumption)\", \"Renewable energy consumption (% of total final energy consumption)\", \"Renewable energy consumption (% of total final energy consumption)\", \"Renewable energy consumption (% of total final energy consumption)\", \"Renewable energy consumption (% of total final energy consumption)\", \"Renewable energy consumption (% of total final energy consumption)\", \"Renewable energy consumption (% of total final energy consumption)\", \"Renewable energy consumption (% of total final energy consumption)\", \"Renewable energy consumption (% of total final energy consumption)\", \"Renewable energy consumption (% of total final energy consumption)\", \"Renewable energy consumption (% of total final energy consumption)\", \"Renewable energy consumption (% of total final energy consumption)\", \"Renewable energy consumption (% of total final energy consumption)\", \"Renewable energy consumption (% of total final energy consumption)\", \"Renewable energy consumption (% of total final energy consumption)\", \"Renewable energy consumption (% of total final energy consumption)\", \"Renewable energy consumption (% of total final energy consumption)\", \"Renewable energy consumption (% of total final energy consumption)\"], [\"Energy imports, net (% of energy use)\", \"Energy imports, net (% of energy use)\", \"Energy imports, net (% of energy use)\", \"Energy imports, net (% of energy use)\", \"Energy imports, net (% of energy use)\", \"Energy imports, net (% of energy use)\", \"Energy imports, net (% of energy use)\", \"Energy imports, net (% of energy use)\", \"Energy imports, net (% of energy use)\", \"Energy imports, net (% of energy use)\", \"Energy imports, net (% of energy use)\", \"Energy imports, net (% of energy use)\", \"Energy imports, net (% of energy use)\", \"Energy imports, net (% of energy use)\", \"Energy imports, net (% of energy use)\", \"Energy imports, net (% of energy use)\", \"Energy imports, net (% of energy use)\", \"Energy imports, net (% of energy use)\", \"Energy imports, net (% of energy use)\", \"Energy imports, net (% of energy use)\", \"Energy imports, net (% of energy use)\"], [\"Fossil fuel energy consumption (% of total)\", \"Fossil fuel energy consumption (% of total)\", \"Fossil fuel energy consumption (% of total)\", \"Fossil fuel energy consumption (% of total)\", \"Fossil fuel energy consumption (% of total)\", \"Fossil fuel energy consumption (% of total)\", \"Fossil fuel energy consumption (% of total)\", \"Fossil fuel energy consumption (% of total)\", \"Fossil fuel energy consumption (% of total)\", \"Fossil fuel energy consumption (% of total)\", \"Fossil fuel energy consumption (% of total)\", \"Fossil fuel energy consumption (% of total)\", \"Fossil fuel energy consumption (% of total)\", \"Fossil fuel energy consumption (% of total)\", \"Fossil fuel energy consumption (% of total)\", \"Fossil fuel energy consumption (% of total)\", \"Fossil fuel energy consumption (% of total)\", \"Fossil fuel energy consumption (% of total)\", \"Fossil fuel energy consumption (% of total)\", \"Fossil fuel energy consumption (% of total)\", \"Fossil fuel energy consumption (% of total)\"], [\"Energy use (kg of oil equivalent per capita)\", \"Energy use (kg of oil equivalent per capita)\", \"Energy use (kg of oil equivalent per capita)\", \"Energy use (kg of oil equivalent per capita)\", \"Energy use (kg of oil equivalent per capita)\", \"Energy use (kg of oil equivalent per capita)\", \"Energy use (kg of oil equivalent per capita)\", \"Energy use (kg of oil equivalent per capita)\", \"Energy use (kg of oil equivalent per capita)\", \"Energy use (kg of oil equivalent per capita)\", \"Energy use (kg of oil equivalent per capita)\", \"Energy use (kg of oil equivalent per capita)\", \"Energy use (kg of oil equivalent per capita)\", \"Energy use (kg of oil equivalent per capita)\", \"Energy use (kg of oil equivalent per capita)\", \"Energy use (kg of oil equivalent per capita)\", \"Energy use (kg of oil equivalent per capita)\", \"Energy use (kg of oil equivalent per capita)\", \"Energy use (kg of oil equivalent per capita)\", \"Energy use (kg of oil equivalent per capita)\", \"Energy use (kg of oil equivalent per capita)\"], [\"CO2 emissions (metric tons per capita)\", \"CO2 emissions (metric tons per capita)\", \"CO2 emissions (metric tons per capita)\", \"CO2 emissions (metric tons per capita)\", \"CO2 emissions (metric tons per capita)\", \"CO2 emissions (metric tons per capita)\", \"CO2 emissions (metric tons per capita)\", \"CO2 emissions (metric tons per capita)\", \"CO2 emissions (metric tons per capita)\", \"CO2 emissions (metric tons per capita)\", \"CO2 emissions (metric tons per capita)\", \"CO2 emissions (metric tons per capita)\", \"CO2 emissions (metric tons per capita)\", \"CO2 emissions (metric tons per capita)\", \"CO2 emissions (metric tons per capita)\", \"CO2 emissions (metric tons per capita)\", \"CO2 emissions (metric tons per capita)\", \"CO2 emissions (metric tons per capita)\", \"CO2 emissions (metric tons per capita)\", \"CO2 emissions (metric tons per capita)\", \"CO2 emissions (metric tons per capita)\"], [\"Methane emissions (metric tons of CO2 equivalent per capita)\", \"Methane emissions (metric tons of CO2 equivalent per capita)\", \"Methane emissions (metric tons of CO2 equivalent per capita)\", \"Methane emissions (metric tons of CO2 equivalent per capita)\", \"Methane emissions (metric tons of CO2 equivalent per capita)\", \"Methane emissions (metric tons of CO2 equivalent per capita)\", \"Methane emissions (metric tons of CO2 equivalent per capita)\", \"Methane emissions (metric tons of CO2 equivalent per capita)\", \"Methane emissions (metric tons of CO2 equivalent per capita)\", \"Methane emissions (metric tons of CO2 equivalent per capita)\", \"Methane emissions (metric tons of CO2 equivalent per capita)\", \"Methane emissions (metric tons of CO2 equivalent per capita)\", \"Methane emissions (metric tons of CO2 equivalent per capita)\", \"Methane emissions (metric tons of CO2 equivalent per capita)\", \"Methane emissions (metric tons of CO2 equivalent per capita)\", \"Methane emissions (metric tons of CO2 equivalent per capita)\", \"Methane emissions (metric tons of CO2 equivalent per capita)\", \"Methane emissions (metric tons of CO2 equivalent per capita)\", \"Methane emissions (metric tons of CO2 equivalent per capita)\", \"Methane emissions (metric tons of CO2 equivalent per capita)\", \"Methane emissions (metric tons of CO2 equivalent per capita)\"], [\"Nitrous oxide emissions (metric tons of CO2 equivalent per capita)\", \"Nitrous oxide emissions (metric tons of CO2 equivalent per capita)\", \"Nitrous oxide emissions (metric tons of CO2 equivalent per capita)\", \"Nitrous oxide emissions (metric tons of CO2 equivalent per capita)\", \"Nitrous oxide emissions (metric tons of CO2 equivalent per capita)\", \"Nitrous oxide emissions (metric tons of CO2 equivalent per capita)\", \"Nitrous oxide emissions (metric tons of CO2 equivalent per capita)\", \"Nitrous oxide emissions (metric tons of CO2 equivalent per capita)\", \"Nitrous oxide emissions (metric tons of CO2 equivalent per capita)\", \"Nitrous oxide emissions (metric tons of CO2 equivalent per capita)\", \"Nitrous oxide emissions (metric tons of CO2 equivalent per capita)\", \"Nitrous oxide emissions (metric tons of CO2 equivalent per capita)\", \"Nitrous oxide emissions (metric tons of CO2 equivalent per capita)\", \"Nitrous oxide emissions (metric tons of CO2 equivalent per capita)\", \"Nitrous oxide emissions (metric tons of CO2 equivalent per capita)\", \"Nitrous oxide emissions (metric tons of CO2 equivalent per capita)\", \"Nitrous oxide emissions (metric tons of CO2 equivalent per capita)\", \"Nitrous oxide emissions (metric tons of CO2 equivalent per capita)\", \"Nitrous oxide emissions (metric tons of CO2 equivalent per capita)\", \"Nitrous oxide emissions (metric tons of CO2 equivalent per capita)\", \"Nitrous oxide emissions (metric tons of CO2 equivalent per capita)\"], [\"PM2.5 air pollution, mean annual exposure (micrograms per cubic meter)\", \"PM2.5 air pollution, mean annual exposure (micrograms per cubic meter)\", \"PM2.5 air pollution, mean annual exposure (micrograms per cubic meter)\", \"PM2.5 air pollution, mean annual exposure (micrograms per cubic meter)\", \"PM2.5 air pollution, mean annual exposure (micrograms per cubic meter)\", \"PM2.5 air pollution, mean annual exposure (micrograms per cubic meter)\", \"PM2.5 air pollution, mean annual exposure (micrograms per cubic meter)\", \"PM2.5 air pollution, mean annual exposure (micrograms per cubic meter)\", \"PM2.5 air pollution, mean annual exposure (micrograms per cubic meter)\", \"PM2.5 air pollution, mean annual exposure (micrograms per cubic meter)\", \"PM2.5 air pollution, mean annual exposure (micrograms per cubic meter)\", \"PM2.5 air pollution, mean annual exposure (micrograms per cubic meter)\", \"PM2.5 air pollution, mean annual exposure (micrograms per cubic meter)\", \"PM2.5 air pollution, mean annual exposure (micrograms per cubic meter)\", \"PM2.5 air pollution, mean annual exposure (micrograms per cubic meter)\", \"PM2.5 air pollution, mean annual exposure (micrograms per cubic meter)\", \"PM2.5 air pollution, mean annual exposure (micrograms per cubic meter)\", \"PM2.5 air pollution, mean annual exposure (micrograms per cubic meter)\", \"PM2.5 air pollution, mean annual exposure (micrograms per cubic meter)\", \"PM2.5 air pollution, mean annual exposure (micrograms per cubic meter)\", \"PM2.5 air pollution, mean annual exposure (micrograms per cubic meter)\"], [\"GHG net emissions/removals by LUCF (Mt of CO2 equivalent)\", \"GHG net emissions/removals by LUCF (Mt of CO2 equivalent)\", \"GHG net emissions/removals by LUCF (Mt of CO2 equivalent)\", \"GHG net emissions/removals by LUCF (Mt of CO2 equivalent)\", \"GHG net emissions/removals by LUCF (Mt of CO2 equivalent)\", \"GHG net emissions/removals by LUCF (Mt of CO2 equivalent)\", \"GHG net emissions/removals by LUCF (Mt of CO2 equivalent)\", \"GHG net emissions/removals by LUCF (Mt of CO2 equivalent)\", \"GHG net emissions/removals by LUCF (Mt of CO2 equivalent)\", \"GHG net emissions/removals by LUCF (Mt of CO2 equivalent)\", \"GHG net emissions/removals by LUCF (Mt of CO2 equivalent)\", \"GHG net emissions/removals by LUCF (Mt of CO2 equivalent)\", \"GHG net emissions/removals by LUCF (Mt of CO2 equivalent)\", \"GHG net emissions/removals by LUCF (Mt of CO2 equivalent)\", \"GHG net emissions/removals by LUCF (Mt of CO2 equivalent)\", \"GHG net emissions/removals by LUCF (Mt of CO2 equivalent)\", \"GHG net emissions/removals by LUCF (Mt of CO2 equivalent)\", \"GHG net emissions/removals by LUCF (Mt of CO2 equivalent)\", \"GHG net emissions/removals by LUCF (Mt of CO2 equivalent)\", \"GHG net emissions/removals by LUCF (Mt of CO2 equivalent)\", \"GHG net emissions/removals by LUCF (Mt of CO2 equivalent)\"], [\"Droughts, floods, extreme temperatures (% of population, average 1990-2009)\", \"Droughts, floods, extreme temperatures (% of population, average 1990-2009)\", \"Droughts, floods, extreme temperatures (% of population, average 1990-2009)\", \"Droughts, floods, extreme temperatures (% of population, average 1990-2009)\", \"Droughts, floods, extreme temperatures (% of population, average 1990-2009)\", \"Droughts, floods, extreme temperatures (% of population, average 1990-2009)\", \"Droughts, floods, extreme temperatures (% of population, average 1990-2009)\", \"Droughts, floods, extreme temperatures (% of population, average 1990-2009)\", \"Droughts, floods, extreme temperatures (% of population, average 1990-2009)\", \"Droughts, floods, extreme temperatures (% of population, average 1990-2009)\", \"Droughts, floods, extreme temperatures (% of population, average 1990-2009)\", \"Droughts, floods, extreme temperatures (% of population, average 1990-2009)\", \"Droughts, floods, extreme temperatures (% of population, average 1990-2009)\", \"Droughts, floods, extreme temperatures (% of population, average 1990-2009)\", \"Droughts, floods, extreme temperatures (% of population, average 1990-2009)\", \"Droughts, floods, extreme temperatures (% of population, average 1990-2009)\", \"Droughts, floods, extreme temperatures (% of population, average 1990-2009)\", \"Droughts, floods, extreme temperatures (% of population, average 1990-2009)\", \"Droughts, floods, extreme temperatures (% of population, average 1990-2009)\", \"Droughts, floods, extreme temperatures (% of population, average 1990-2009)\", \"Droughts, floods, extreme temperatures (% of population, average 1990-2009)\"], [\"Mammal species, threatened\", \"Mammal species, threatened\", \"Mammal species, threatened\", \"Mammal species, threatened\", \"Mammal species, threatened\", \"Mammal species, threatened\", \"Mammal species, threatened\", \"Mammal species, threatened\", \"Mammal species, threatened\", \"Mammal species, threatened\", \"Mammal species, threatened\", \"Mammal species, threatened\", \"Mammal species, threatened\", \"Mammal species, threatened\", \"Mammal species, threatened\", \"Mammal species, threatened\", \"Mammal species, threatened\", \"Mammal species, threatened\", \"Mammal species, threatened\", \"Mammal species, threatened\", \"Mammal species, threatened\"], [\"Population density (people per sq. km of land area)\", \"Population density (people per sq. km of land area)\", \"Population density (people per sq. km of land area)\", \"Population density (people per sq. km of land area)\", \"Population density (people per sq. km of land area)\", \"Population density (people per sq. km of land area)\", \"Population density (people per sq. km of land area)\", \"Population density (people per sq. km of land area)\", \"Population density (people per sq. km of land area)\", \"Population density (people per sq. km of land area)\", \"Population density (people per sq. km of land area)\", \"Population density (people per sq. km of land area)\", \"Population density (people per sq. km of land area)\", \"Population density (people per sq. km of land area)\", \"Population density (people per sq. km of land area)\", \"Population density (people per sq. km of land area)\", \"Population density (people per sq. km of land area)\", \"Population density (people per sq. km of land area)\", \"Population density (people per sq. km of land area)\", \"Population density (people per sq. km of land area)\", \"Population density (people per sq. km of land area)\"], [\"Annual freshwater withdrawals, total (% of internal resources)\", \"Annual freshwater withdrawals, total (% of internal resources)\", \"Annual freshwater withdrawals, total (% of internal resources)\", \"Annual freshwater withdrawals, total (% of internal resources)\", \"Annual freshwater withdrawals, total (% of internal resources)\", \"Annual freshwater withdrawals, total (% of internal resources)\", \"Annual freshwater withdrawals, total (% of internal resources)\", \"Annual freshwater withdrawals, total (% of internal resources)\", \"Annual freshwater withdrawals, total (% of internal resources)\", \"Annual freshwater withdrawals, total (% of internal resources)\", \"Annual freshwater withdrawals, total (% of internal resources)\", \"Annual freshwater withdrawals, total (% of internal resources)\", \"Annual freshwater withdrawals, total (% of internal resources)\", \"Annual freshwater withdrawals, total (% of internal resources)\", \"Annual freshwater withdrawals, total (% of internal resources)\", \"Annual freshwater withdrawals, total (% of internal resources)\", \"Annual freshwater withdrawals, total (% of internal resources)\", \"Annual freshwater withdrawals, total (% of internal resources)\", \"Annual freshwater withdrawals, total (% of internal resources)\", \"Annual freshwater withdrawals, total (% of internal resources)\", \"Annual freshwater withdrawals, total (% of internal resources)\"], [\"Terrestrial and marine protected areas (% of total territorial area)\", \"Terrestrial and marine protected areas (% of total territorial area)\", \"Terrestrial and marine protected areas (% of total territorial area)\", \"Terrestrial and marine protected areas (% of total territorial area)\", \"Terrestrial and marine protected areas (% of total territorial area)\", \"Terrestrial and marine protected areas (% of total territorial area)\", \"Terrestrial and marine protected areas (% of total territorial area)\", \"Terrestrial and marine protected areas (% of total territorial area)\", \"Terrestrial and marine protected areas (% of total territorial area)\", \"Terrestrial and marine protected areas (% of total territorial area)\", \"Terrestrial and marine protected areas (% of total territorial area)\", \"Terrestrial and marine protected areas (% of total territorial area)\", \"Terrestrial and marine protected areas (% of total territorial area)\", \"Terrestrial and marine protected areas (% of total territorial area)\", \"Terrestrial and marine protected areas (% of total territorial area)\", \"Terrestrial and marine protected areas (% of total territorial area)\", \"Terrestrial and marine protected areas (% of total territorial area)\", \"Terrestrial and marine protected areas (% of total territorial area)\", \"Terrestrial and marine protected areas (% of total territorial area)\", \"Terrestrial and marine protected areas (% of total territorial area)\", \"Terrestrial and marine protected areas (% of total territorial area)\"], [\"Adjusted savings: net forest depletion (% of GNI)\", \"Adjusted savings: net forest depletion (% of GNI)\", \"Adjusted savings: net forest depletion (% of GNI)\", \"Adjusted savings: net forest depletion (% of GNI)\", \"Adjusted savings: net forest depletion (% of GNI)\", \"Adjusted savings: net forest depletion (% of GNI)\", \"Adjusted savings: net forest depletion (% of GNI)\", \"Adjusted savings: net forest depletion (% of GNI)\", \"Adjusted savings: net forest depletion (% of GNI)\", \"Adjusted savings: net forest depletion (% of GNI)\", \"Adjusted savings: net forest depletion (% of GNI)\", \"Adjusted savings: net forest depletion (% of GNI)\", \"Adjusted savings: net forest depletion (% of GNI)\", \"Adjusted savings: net forest depletion (% of GNI)\", \"Adjusted savings: net forest depletion (% of GNI)\", \"Adjusted savings: net forest depletion (% of GNI)\", \"Adjusted savings: net forest depletion (% of GNI)\", \"Adjusted savings: net forest depletion (% of GNI)\", \"Adjusted savings: net forest depletion (% of GNI)\", \"Adjusted savings: net forest depletion (% of GNI)\", \"Adjusted savings: net forest depletion (% of GNI)\"], [\"Adjusted savings: natural resources depletion (% of GNI)\", \"Adjusted savings: natural resources depletion (% of GNI)\", \"Adjusted savings: natural resources depletion (% of GNI)\", \"Adjusted savings: natural resources depletion (% of GNI)\", \"Adjusted savings: natural resources depletion (% of GNI)\", \"Adjusted savings: natural resources depletion (% of GNI)\", \"Adjusted savings: natural resources depletion (% of GNI)\", \"Adjusted savings: natural resources depletion (% of GNI)\", \"Adjusted savings: natural resources depletion (% of GNI)\", \"Adjusted savings: natural resources depletion (% of GNI)\", \"Adjusted savings: natural resources depletion (% of GNI)\", \"Adjusted savings: natural resources depletion (% of GNI)\", \"Adjusted savings: natural resources depletion (% of GNI)\", \"Adjusted savings: natural resources depletion (% of GNI)\", \"Adjusted savings: natural resources depletion (% of GNI)\", \"Adjusted savings: natural resources depletion (% of GNI)\", \"Adjusted savings: natural resources depletion (% of GNI)\", \"Adjusted savings: natural resources depletion (% of GNI)\", \"Adjusted savings: natural resources depletion (% of GNI)\", \"Adjusted savings: natural resources depletion (% of GNI)\", \"Adjusted savings: natural resources depletion (% of GNI)\"]], \"hovertemplate\": \"Year: %{x}<br>Indicator: %{customdata}<br>CETS ID: %{y}<br>Countries: %{z}<extra></extra>\", \"type\": \"heatmap\", \"x\": [2000, 2001, 2002, 2003, 2004, 2005, 2006, 2007, 2008, 2009, 2010, 2011, 2012, 2013, 2014, 2015, 2016, 2017, 2018, 2019, 2020], \"y\": [\"AG.LND.AGRI.ZS\", \"AG.LND.FRST.ZS\", \"AG.PRD.FOOD.XD\", \"EG.EGY.PRIM.PP.KD\", \"EG.ELC.COAL.ZS\", \"EG.ELC.RNEW.ZS\", \"EG.FEC.RNEW.ZS\", \"EG.IMP.CONS.ZS\", \"EG.USE.COMM.FO.ZS\", \"EG.USE.PCAP.KG.OE\", \"EN.ATM.CO2E.PC\", \"EN.ATM.METH.PC\", \"EN.ATM.NOXE.PC\", \"EN.ATM.PM25.MC.M3\", \"EN.CLC.GHGR.MT.CE\", \"EN.CLC.MDAT.ZS\", \"EN.MAM.THRD.NO\", \"EN.POP.DNST\", \"ER.H2O.FWTL.ZS\", \"ER.PTD.TOTL.ZS\", \"NY.ADJ.DFOR.GN.ZS\", \"NY.ADJ.DRES.GN.ZS\"], \"z\": [[188.0, 188.0, 188.0, 188.0, 188.0, 188.0, 190.0, 190.0, 190.0, 190.0, 190.0, 192.0, 192.0, 192.0, 192.0, 192.0, 192.0, 192.0, 192.0, null, null], [191.0, 191.0, 191.0, 191.0, 191.0, 191.0, 191.0, 191.0, 191.0, 191.0, 191.0, 193.0, 193.0, 193.0, 193.0, 193.0, 193.0, 193.0, 193.0, null, null], [186.0, 186.0, 186.0, 186.0, 186.0, 186.0, 188.0, 188.0, 188.0, 188.0, 188.0, 188.0, 189.0, 189.0, 189.0, 189.0, 189.0, 189.0, 189.0, null, null], [184.0, 184.0, 185.0, 185.0, 185.0, 186.0, 186.0, 186.0, 186.0, 186.0, 186.0, 186.0, 187.0, 187.0, 187.0, 186.0, null, null, null, null, null], [136.0, 136.0, 136.0, 136.0, 136.0, 137.0, 137.0, 137.0, 137.0, 137.0, 137.0, 137.0, 138.0, 138.0, 138.0, 138.0, null, null, null, null, null], [193.0, 193.0, 193.0, 193.0, 193.0, 193.0, 193.0, 193.0, 193.0, 193.0, 193.0, 193.0, 193.0, 193.0, 193.0, 193.0, 1.0, 1.0, 1.0, 1.0, null], [187.0, 187.0, 188.0, 188.0, 188.0, 189.0, 189.0, 190.0, 190.0, 190.0, 190.0, 190.0, 191.0, 191.0, 191.0, 191.0, null, null, null, null, null], [136.0, 136.0, 136.0, 136.0, 136.0, 137.0, 137.0, 137.0, 137.0, 137.0, 137.0, 137.0, 138.0, 138.0, 132.0, 34.0, null, null, null, null, null], [132.0, 133.0, 132.0, 134.0, 163.0, 163.0, 163.0, 166.0, 134.0, 135.0, 131.0, 134.0, 133.0, 136.0, 131.0, 34.0, null, null, null, null, null], [136.0, 136.0, 136.0, 136.0, 166.0, 167.0, 167.0, 167.0, 137.0, 137.0, 137.0, 137.0, 138.0, 138.0, 132.0, 34.0, null, null, null, null, null], [191.0, 191.0, 191.0, 191.0, 191.0, 191.0, 191.0, 191.0, 191.0, 191.0, 191.0, 191.0, 191.0, 191.0, 191.0, 191.0, 191.0, 191.0, 191.0, null, null], [191.0, 191.0, 191.0, 191.0, 191.0, 191.0, 191.0, 191.0, 191.0, 191.0, 191.0, 191.0, 191.0, 191.0, 191.0, 191.0, 191.0, 191.0, 191.0, null, null], [190.0, 190.0, 190.0, 190.0, 190.0, 190.0, 190.0, 190.0, 190.0, 190.0, 190.0, 191.0, 191.0, 191.0, 191.0, 191.0, 191.0, 191.0, 191.0, null, null], [186.0, null, null, null, null, 186.0, null, null, null, null, 186.0, 186.0, 186.0, 186.0, 186.0, 186.0, 186.0, 186.0, null, null, null], [58.0, 42.0, 43.0, 45.0, 45.0, 47.0, 43.0, 43.0, 41.0, 41.0, null, null, null, null, null, null, null, null, null, null, null], [null, null, null, null, null, null, null, null, null, 165.0, null, null, null, null, null, null, null, null, null, null, null], [null, null, null, null, null, null, null, null, null, null, null, null, null, null, null, null, null, null, 193.0, null, null], [192.0, 192.0, 192.0, 192.0, 192.0, 192.0, 192.0, 192.0, 192.0, 192.0, 192.0, 193.0, 193.0, 193.0, 193.0, 193.0, 193.0, 193.0, 193.0, null, null], [null, null, 158.0, null, null, null, null, 166.0, null, null, null, null, 174.0, null, null, null, null, 174.0, null, null, null], [null, null, null, null, null, null, null, null, null, null, null, null, null, null, null, null, 191.0, 190.0, 190.0, null, null], [168.0, 169.0, 171.0, 171.0, 173.0, 173.0, 176.0, 176.0, 175.0, 176.0, 176.0, 179.0, 177.0, 177.0, 177.0, 176.0, 175.0, 174.0, 174.0, 169.0, null], [166.0, 167.0, 169.0, 169.0, 170.0, 170.0, 174.0, 174.0, 173.0, 174.0, 174.0, 177.0, 175.0, 175.0, 175.0, 175.0, 174.0, 173.0, 174.0, 169.0, null]]}],                        {\"coloraxis\": {\"cmax\": 193, \"cmin\": 0, \"colorscale\": [[0.0, \"#0d0887\"], [0.1111111111111111, \"#46039f\"], [0.2222222222222222, \"#7201a8\"], [0.3333333333333333, \"#9c179e\"], [0.4444444444444444, \"#bd3786\"], [0.5555555555555556, \"#d8576b\"], [0.6666666666666666, \"#ed7953\"], [0.7777777777777778, \"#fb9f3a\"], [0.8888888888888888, \"#fdca26\"], [1.0, \"#f0f921\"]]}, \"height\": 550, \"template\": {\"data\": {\"bar\": [{\"error_x\": {\"color\": \"#2a3f5f\"}, \"error_y\": {\"color\": \"#2a3f5f\"}, \"marker\": {\"line\": {\"color\": \"#E5ECF6\", \"width\": 0.5}}, \"type\": \"bar\"}], \"barpolar\": [{\"marker\": {\"line\": {\"color\": \"#E5ECF6\", \"width\": 0.5}}, \"type\": \"barpolar\"}], \"carpet\": [{\"aaxis\": {\"endlinecolor\": \"#2a3f5f\", \"gridcolor\": \"white\", \"linecolor\": \"white\", \"minorgridcolor\": \"white\", \"startlinecolor\": \"#2a3f5f\"}, \"baxis\": {\"endlinecolor\": \"#2a3f5f\", \"gridcolor\": \"white\", \"linecolor\": \"white\", \"minorgridcolor\": \"white\", \"startlinecolor\": \"#2a3f5f\"}, \"type\": \"carpet\"}], \"choropleth\": [{\"colorbar\": {\"outlinewidth\": 0, \"ticks\": \"\"}, \"type\": \"choropleth\"}], \"contour\": [{\"colorbar\": {\"outlinewidth\": 0, \"ticks\": \"\"}, \"colorscale\": [[0.0, \"#0d0887\"], [0.1111111111111111, \"#46039f\"], [0.2222222222222222, \"#7201a8\"], [0.3333333333333333, \"#9c179e\"], [0.4444444444444444, \"#bd3786\"], [0.5555555555555556, \"#d8576b\"], [0.6666666666666666, \"#ed7953\"], [0.7777777777777778, \"#fb9f3a\"], [0.8888888888888888, \"#fdca26\"], [1.0, \"#f0f921\"]], \"type\": \"contour\"}], \"contourcarpet\": [{\"colorbar\": {\"outlinewidth\": 0, \"ticks\": \"\"}, \"type\": \"contourcarpet\"}], \"heatmap\": [{\"colorbar\": {\"outlinewidth\": 0, \"ticks\": \"\"}, \"colorscale\": [[0.0, \"#0d0887\"], [0.1111111111111111, \"#46039f\"], [0.2222222222222222, \"#7201a8\"], [0.3333333333333333, \"#9c179e\"], [0.4444444444444444, \"#bd3786\"], [0.5555555555555556, \"#d8576b\"], [0.6666666666666666, \"#ed7953\"], [0.7777777777777778, \"#fb9f3a\"], [0.8888888888888888, \"#fdca26\"], [1.0, \"#f0f921\"]], \"type\": \"heatmap\"}], \"heatmapgl\": [{\"colorbar\": {\"outlinewidth\": 0, \"ticks\": \"\"}, \"colorscale\": [[0.0, \"#0d0887\"], [0.1111111111111111, \"#46039f\"], [0.2222222222222222, \"#7201a8\"], [0.3333333333333333, \"#9c179e\"], [0.4444444444444444, \"#bd3786\"], [0.5555555555555556, \"#d8576b\"], [0.6666666666666666, \"#ed7953\"], [0.7777777777777778, \"#fb9f3a\"], [0.8888888888888888, \"#fdca26\"], [1.0, \"#f0f921\"]], \"type\": \"heatmapgl\"}], \"histogram\": [{\"marker\": {\"colorbar\": {\"outlinewidth\": 0, \"ticks\": \"\"}}, \"type\": \"histogram\"}], \"histogram2d\": [{\"colorbar\": {\"outlinewidth\": 0, \"ticks\": \"\"}, \"colorscale\": [[0.0, \"#0d0887\"], [0.1111111111111111, \"#46039f\"], [0.2222222222222222, \"#7201a8\"], [0.3333333333333333, \"#9c179e\"], [0.4444444444444444, \"#bd3786\"], [0.5555555555555556, \"#d8576b\"], [0.6666666666666666, \"#ed7953\"], [0.7777777777777778, \"#fb9f3a\"], [0.8888888888888888, \"#fdca26\"], [1.0, \"#f0f921\"]], \"type\": \"histogram2d\"}], \"histogram2dcontour\": [{\"colorbar\": {\"outlinewidth\": 0, \"ticks\": \"\"}, \"colorscale\": [[0.0, \"#0d0887\"], [0.1111111111111111, \"#46039f\"], [0.2222222222222222, \"#7201a8\"], [0.3333333333333333, \"#9c179e\"], [0.4444444444444444, \"#bd3786\"], [0.5555555555555556, \"#d8576b\"], [0.6666666666666666, \"#ed7953\"], [0.7777777777777778, \"#fb9f3a\"], [0.8888888888888888, \"#fdca26\"], [1.0, \"#f0f921\"]], \"type\": \"histogram2dcontour\"}], \"mesh3d\": [{\"colorbar\": {\"outlinewidth\": 0, \"ticks\": \"\"}, \"type\": \"mesh3d\"}], \"parcoords\": [{\"line\": {\"colorbar\": {\"outlinewidth\": 0, \"ticks\": \"\"}}, \"type\": \"parcoords\"}], \"pie\": [{\"automargin\": true, \"type\": \"pie\"}], \"scatter\": [{\"marker\": {\"colorbar\": {\"outlinewidth\": 0, \"ticks\": \"\"}}, \"type\": \"scatter\"}], \"scatter3d\": [{\"line\": {\"colorbar\": {\"outlinewidth\": 0, \"ticks\": \"\"}}, \"marker\": {\"colorbar\": {\"outlinewidth\": 0, \"ticks\": \"\"}}, \"type\": \"scatter3d\"}], \"scattercarpet\": [{\"marker\": {\"colorbar\": {\"outlinewidth\": 0, \"ticks\": \"\"}}, \"type\": \"scattercarpet\"}], \"scattergeo\": [{\"marker\": {\"colorbar\": {\"outlinewidth\": 0, \"ticks\": \"\"}}, \"type\": \"scattergeo\"}], \"scattergl\": [{\"marker\": {\"colorbar\": {\"outlinewidth\": 0, \"ticks\": \"\"}}, \"type\": \"scattergl\"}], \"scattermapbox\": [{\"marker\": {\"colorbar\": {\"outlinewidth\": 0, \"ticks\": \"\"}}, \"type\": \"scattermapbox\"}], \"scatterpolar\": [{\"marker\": {\"colorbar\": {\"outlinewidth\": 0, \"ticks\": \"\"}}, \"type\": \"scatterpolar\"}], \"scatterpolargl\": [{\"marker\": {\"colorbar\": {\"outlinewidth\": 0, \"ticks\": \"\"}}, \"type\": \"scatterpolargl\"}], \"scatterternary\": [{\"marker\": {\"colorbar\": {\"outlinewidth\": 0, \"ticks\": \"\"}}, \"type\": \"scatterternary\"}], \"surface\": [{\"colorbar\": {\"outlinewidth\": 0, \"ticks\": \"\"}, \"colorscale\": [[0.0, \"#0d0887\"], [0.1111111111111111, \"#46039f\"], [0.2222222222222222, \"#7201a8\"], [0.3333333333333333, \"#9c179e\"], [0.4444444444444444, \"#bd3786\"], [0.5555555555555556, \"#d8576b\"], [0.6666666666666666, \"#ed7953\"], [0.7777777777777778, \"#fb9f3a\"], [0.8888888888888888, \"#fdca26\"], [1.0, \"#f0f921\"]], \"type\": \"surface\"}], \"table\": [{\"cells\": {\"fill\": {\"color\": \"#EBF0F8\"}, \"line\": {\"color\": \"white\"}}, \"header\": {\"fill\": {\"color\": \"#C8D4E3\"}, \"line\": {\"color\": \"white\"}}, \"type\": \"table\"}]}, \"layout\": {\"annotationdefaults\": {\"arrowcolor\": \"#2a3f5f\", \"arrowhead\": 0, \"arrowwidth\": 1}, \"coloraxis\": {\"colorbar\": {\"outlinewidth\": 0, \"ticks\": \"\"}}, \"colorscale\": {\"diverging\": [[0, \"#8e0152\"], [0.1, \"#c51b7d\"], [0.2, \"#de77ae\"], [0.3, \"#f1b6da\"], [0.4, \"#fde0ef\"], [0.5, \"#f7f7f7\"], [0.6, \"#e6f5d0\"], [0.7, \"#b8e186\"], [0.8, \"#7fbc41\"], [0.9, \"#4d9221\"], [1, \"#276419\"]], \"sequential\": [[0.0, \"#0d0887\"], [0.1111111111111111, \"#46039f\"], [0.2222222222222222, \"#7201a8\"], [0.3333333333333333, \"#9c179e\"], [0.4444444444444444, \"#bd3786\"], [0.5555555555555556, \"#d8576b\"], [0.6666666666666666, \"#ed7953\"], [0.7777777777777778, \"#fb9f3a\"], [0.8888888888888888, \"#fdca26\"], [1.0, \"#f0f921\"]], \"sequentialminus\": [[0.0, \"#0d0887\"], [0.1111111111111111, \"#46039f\"], [0.2222222222222222, \"#7201a8\"], [0.3333333333333333, \"#9c179e\"], [0.4444444444444444, \"#bd3786\"], [0.5555555555555556, \"#d8576b\"], [0.6666666666666666, \"#ed7953\"], [0.7777777777777778, \"#fb9f3a\"], [0.8888888888888888, \"#fdca26\"], [1.0, \"#f0f921\"]]}, \"colorway\": [\"#636efa\", \"#EF553B\", \"#00cc96\", \"#ab63fa\", \"#FFA15A\", \"#19d3f3\", \"#FF6692\", \"#B6E880\", \"#FF97FF\", \"#FECB52\"], \"font\": {\"color\": \"#2a3f5f\"}, \"geo\": {\"bgcolor\": \"white\", \"lakecolor\": \"white\", \"landcolor\": \"#E5ECF6\", \"showlakes\": true, \"showland\": true, \"subunitcolor\": \"white\"}, \"hoverlabel\": {\"align\": \"left\"}, \"hovermode\": \"closest\", \"mapbox\": {\"style\": \"light\"}, \"paper_bgcolor\": \"white\", \"plot_bgcolor\": \"#E5ECF6\", \"polar\": {\"angularaxis\": {\"gridcolor\": \"white\", \"linecolor\": \"white\", \"ticks\": \"\"}, \"bgcolor\": \"#E5ECF6\", \"radialaxis\": {\"gridcolor\": \"white\", \"linecolor\": \"white\", \"ticks\": \"\"}}, \"scene\": {\"xaxis\": {\"backgroundcolor\": \"#E5ECF6\", \"gridcolor\": \"white\", \"gridwidth\": 2, \"linecolor\": \"white\", \"showbackground\": true, \"ticks\": \"\", \"zerolinecolor\": \"white\"}, \"yaxis\": {\"backgroundcolor\": \"#E5ECF6\", \"gridcolor\": \"white\", \"gridwidth\": 2, \"linecolor\": \"white\", \"showbackground\": true, \"ticks\": \"\", \"zerolinecolor\": \"white\"}, \"zaxis\": {\"backgroundcolor\": \"#E5ECF6\", \"gridcolor\": \"white\", \"gridwidth\": 2, \"linecolor\": \"white\", \"showbackground\": true, \"ticks\": \"\", \"zerolinecolor\": \"white\"}}, \"shapedefaults\": {\"line\": {\"color\": \"#2a3f5f\"}}, \"ternary\": {\"aaxis\": {\"gridcolor\": \"white\", \"linecolor\": \"white\", \"ticks\": \"\"}, \"baxis\": {\"gridcolor\": \"white\", \"linecolor\": \"white\", \"ticks\": \"\"}, \"bgcolor\": \"#E5ECF6\", \"caxis\": {\"gridcolor\": \"white\", \"linecolor\": \"white\", \"ticks\": \"\"}}, \"title\": {\"x\": 0.05}, \"xaxis\": {\"automargin\": true, \"gridcolor\": \"white\", \"linecolor\": \"white\", \"ticks\": \"\", \"title\": {\"standoff\": 15}, \"zerolinecolor\": \"white\", \"zerolinewidth\": 2}, \"yaxis\": {\"automargin\": true, \"gridcolor\": \"white\", \"linecolor\": \"white\", \"ticks\": \"\", \"title\": {\"standoff\": 15}, \"zerolinecolor\": \"white\", \"zerolinewidth\": 2}}}, \"title\": {\"text\": \"Environment Pillar (22)\"}, \"xaxis\": {\"constrain\": \"domain\", \"scaleanchor\": \"y\", \"tickmode\": \"array\", \"tickvals\": [2000, 2001, 2002, 2003, 2004, 2005, 2006, 2007, 2008, 2009, 2010, 2011, 2012, 2013, 2014, 2015, 2016, 2017, 2018, 2019, 2020], \"title\": {\"text\": \"Year\"}}, \"yaxis\": {\"autorange\": \"reversed\", \"constrain\": \"domain\", \"tickmode\": \"array\", \"tickvals\": [\"AG.LND.AGRI.ZS\", \"AG.LND.FRST.ZS\", \"AG.PRD.FOOD.XD\", \"EG.EGY.PRIM.PP.KD\", \"EG.ELC.COAL.ZS\", \"EG.ELC.RNEW.ZS\", \"EG.FEC.RNEW.ZS\", \"EG.IMP.CONS.ZS\", \"EG.USE.COMM.FO.ZS\", \"EG.USE.PCAP.KG.OE\", \"EN.ATM.CO2E.PC\", \"EN.ATM.METH.PC\", \"EN.ATM.NOXE.PC\", \"EN.ATM.PM25.MC.M3\", \"EN.CLC.GHGR.MT.CE\", \"EN.CLC.MDAT.ZS\", \"EN.MAM.THRD.NO\", \"EN.POP.DNST\", \"ER.H2O.FWTL.ZS\", \"ER.PTD.TOTL.ZS\", \"NY.ADJ.DFOR.GN.ZS\", \"NY.ADJ.DRES.GN.ZS\"], \"title\": {\"text\": \"Indicators\"}}},                        {\"responsive\": true}                    ).then(function(){\n",
       "                            \n",
       "var gd = document.getElementById('32165786-5256-4178-a8d6-0743f0754c1d');\n",
       "var x = new MutationObserver(function (mutations, observer) {{\n",
       "        var display = window.getComputedStyle(gd).display;\n",
       "        if (!display || display === 'none') {{\n",
       "            console.log([gd, 'removed!']);\n",
       "            Plotly.purge(gd);\n",
       "            observer.disconnect();\n",
       "        }}\n",
       "}});\n",
       "\n",
       "// Listen for the removal of the full notebook cells\n",
       "var notebookContainer = gd.closest('#notebook-container');\n",
       "if (notebookContainer) {{\n",
       "    x.observe(notebookContainer, {childList: true});\n",
       "}}\n",
       "\n",
       "// Listen for the clearing of the current output cell\n",
       "var outputEl = gd.closest('.output');\n",
       "if (outputEl) {{\n",
       "    x.observe(outputEl, {childList: true});\n",
       "}}\n",
       "\n",
       "                        })                };                });            </script>        </div>"
      ]
     },
     "metadata": {},
     "output_type": "display_data"
    },
    {
     "data": {
      "application/vnd.plotly.v1+json": {
       "config": {
        "plotlyServerURL": "https://plot.ly"
       },
       "data": [
        {
         "coloraxis": "coloraxis",
         "customdata": [
          [
           "Access to clean fuels and technologies for cooking (% of population)",
           "Access to clean fuels and technologies for cooking (% of population)",
           "Access to clean fuels and technologies for cooking (% of population)",
           "Access to clean fuels and technologies for cooking (% of population)",
           "Access to clean fuels and technologies for cooking (% of population)",
           "Access to clean fuels and technologies for cooking (% of population)",
           "Access to clean fuels and technologies for cooking (% of population)",
           "Access to clean fuels and technologies for cooking (% of population)",
           "Access to clean fuels and technologies for cooking (% of population)",
           "Access to clean fuels and technologies for cooking (% of population)",
           "Access to clean fuels and technologies for cooking (% of population)",
           "Access to clean fuels and technologies for cooking (% of population)",
           "Access to clean fuels and technologies for cooking (% of population)",
           "Access to clean fuels and technologies for cooking (% of population)",
           "Access to clean fuels and technologies for cooking (% of population)",
           "Access to clean fuels and technologies for cooking (% of population)",
           "Access to clean fuels and technologies for cooking (% of population)",
           "Access to clean fuels and technologies for cooking (% of population)",
           "Access to clean fuels and technologies for cooking (% of population)",
           "Access to clean fuels and technologies for cooking (% of population)",
           "Access to clean fuels and technologies for cooking (% of population)"
          ],
          [
           "Access to electricity (% of population)",
           "Access to electricity (% of population)",
           "Access to electricity (% of population)",
           "Access to electricity (% of population)",
           "Access to electricity (% of population)",
           "Access to electricity (% of population)",
           "Access to electricity (% of population)",
           "Access to electricity (% of population)",
           "Access to electricity (% of population)",
           "Access to electricity (% of population)",
           "Access to electricity (% of population)",
           "Access to electricity (% of population)",
           "Access to electricity (% of population)",
           "Access to electricity (% of population)",
           "Access to electricity (% of population)",
           "Access to electricity (% of population)",
           "Access to electricity (% of population)",
           "Access to electricity (% of population)",
           "Access to electricity (% of population)",
           "Access to electricity (% of population)",
           "Access to electricity (% of population)"
          ],
          [
           "Scientific and technical journal articles",
           "Scientific and technical journal articles",
           "Scientific and technical journal articles",
           "Scientific and technical journal articles",
           "Scientific and technical journal articles",
           "Scientific and technical journal articles",
           "Scientific and technical journal articles",
           "Scientific and technical journal articles",
           "Scientific and technical journal articles",
           "Scientific and technical journal articles",
           "Scientific and technical journal articles",
           "Scientific and technical journal articles",
           "Scientific and technical journal articles",
           "Scientific and technical journal articles",
           "Scientific and technical journal articles",
           "Scientific and technical journal articles",
           "Scientific and technical journal articles",
           "Scientific and technical journal articles",
           "Scientific and technical journal articles",
           "Scientific and technical journal articles",
           "Scientific and technical journal articles"
          ],
          [
           "Agriculture, forestry, and fishing, value added (% of GDP)",
           "Agriculture, forestry, and fishing, value added (% of GDP)",
           "Agriculture, forestry, and fishing, value added (% of GDP)",
           "Agriculture, forestry, and fishing, value added (% of GDP)",
           "Agriculture, forestry, and fishing, value added (% of GDP)",
           "Agriculture, forestry, and fishing, value added (% of GDP)",
           "Agriculture, forestry, and fishing, value added (% of GDP)",
           "Agriculture, forestry, and fishing, value added (% of GDP)",
           "Agriculture, forestry, and fishing, value added (% of GDP)",
           "Agriculture, forestry, and fishing, value added (% of GDP)",
           "Agriculture, forestry, and fishing, value added (% of GDP)",
           "Agriculture, forestry, and fishing, value added (% of GDP)",
           "Agriculture, forestry, and fishing, value added (% of GDP)",
           "Agriculture, forestry, and fishing, value added (% of GDP)",
           "Agriculture, forestry, and fishing, value added (% of GDP)",
           "Agriculture, forestry, and fishing, value added (% of GDP)",
           "Agriculture, forestry, and fishing, value added (% of GDP)",
           "Agriculture, forestry, and fishing, value added (% of GDP)",
           "Agriculture, forestry, and fishing, value added (% of GDP)",
           "Agriculture, forestry, and fishing, value added (% of GDP)",
           "Agriculture, forestry, and fishing, value added (% of GDP)"
          ],
          [
           "GDP growth (annual %)",
           "GDP growth (annual %)",
           "GDP growth (annual %)",
           "GDP growth (annual %)",
           "GDP growth (annual %)",
           "GDP growth (annual %)",
           "GDP growth (annual %)",
           "GDP growth (annual %)",
           "GDP growth (annual %)",
           "GDP growth (annual %)",
           "GDP growth (annual %)",
           "GDP growth (annual %)",
           "GDP growth (annual %)",
           "GDP growth (annual %)",
           "GDP growth (annual %)",
           "GDP growth (annual %)",
           "GDP growth (annual %)",
           "GDP growth (annual %)",
           "GDP growth (annual %)",
           "GDP growth (annual %)",
           "GDP growth (annual %)"
          ],
          [
           "Literacy rate, adult total (% of people ages 15 and above)",
           "Literacy rate, adult total (% of people ages 15 and above)",
           "Literacy rate, adult total (% of people ages 15 and above)",
           "Literacy rate, adult total (% of people ages 15 and above)",
           "Literacy rate, adult total (% of people ages 15 and above)",
           "Literacy rate, adult total (% of people ages 15 and above)",
           "Literacy rate, adult total (% of people ages 15 and above)",
           "Literacy rate, adult total (% of people ages 15 and above)",
           "Literacy rate, adult total (% of people ages 15 and above)",
           "Literacy rate, adult total (% of people ages 15 and above)",
           "Literacy rate, adult total (% of people ages 15 and above)",
           "Literacy rate, adult total (% of people ages 15 and above)",
           "Literacy rate, adult total (% of people ages 15 and above)",
           "Literacy rate, adult total (% of people ages 15 and above)",
           "Literacy rate, adult total (% of people ages 15 and above)",
           "Literacy rate, adult total (% of people ages 15 and above)",
           "Literacy rate, adult total (% of people ages 15 and above)",
           "Literacy rate, adult total (% of people ages 15 and above)",
           "Literacy rate, adult total (% of people ages 15 and above)",
           "Literacy rate, adult total (% of people ages 15 and above)",
           "Literacy rate, adult total (% of people ages 15 and above)"
          ],
          [
           "School enrollment, primary and secondary (gross), gender parity index (GPI)",
           "School enrollment, primary and secondary (gross), gender parity index (GPI)",
           "School enrollment, primary and secondary (gross), gender parity index (GPI)",
           "School enrollment, primary and secondary (gross), gender parity index (GPI)",
           "School enrollment, primary and secondary (gross), gender parity index (GPI)",
           "School enrollment, primary and secondary (gross), gender parity index (GPI)",
           "School enrollment, primary and secondary (gross), gender parity index (GPI)",
           "School enrollment, primary and secondary (gross), gender parity index (GPI)",
           "School enrollment, primary and secondary (gross), gender parity index (GPI)",
           "School enrollment, primary and secondary (gross), gender parity index (GPI)",
           "School enrollment, primary and secondary (gross), gender parity index (GPI)",
           "School enrollment, primary and secondary (gross), gender parity index (GPI)",
           "School enrollment, primary and secondary (gross), gender parity index (GPI)",
           "School enrollment, primary and secondary (gross), gender parity index (GPI)",
           "School enrollment, primary and secondary (gross), gender parity index (GPI)",
           "School enrollment, primary and secondary (gross), gender parity index (GPI)",
           "School enrollment, primary and secondary (gross), gender parity index (GPI)",
           "School enrollment, primary and secondary (gross), gender parity index (GPI)",
           "School enrollment, primary and secondary (gross), gender parity index (GPI)",
           "School enrollment, primary and secondary (gross), gender parity index (GPI)",
           "School enrollment, primary and secondary (gross), gender parity index (GPI)"
          ],
          [
           "School enrollment, primary (% gross)",
           "School enrollment, primary (% gross)",
           "School enrollment, primary (% gross)",
           "School enrollment, primary (% gross)",
           "School enrollment, primary (% gross)",
           "School enrollment, primary (% gross)",
           "School enrollment, primary (% gross)",
           "School enrollment, primary (% gross)",
           "School enrollment, primary (% gross)",
           "School enrollment, primary (% gross)",
           "School enrollment, primary (% gross)",
           "School enrollment, primary (% gross)",
           "School enrollment, primary (% gross)",
           "School enrollment, primary (% gross)",
           "School enrollment, primary (% gross)",
           "School enrollment, primary (% gross)",
           "School enrollment, primary (% gross)",
           "School enrollment, primary (% gross)",
           "School enrollment, primary (% gross)",
           "School enrollment, primary (% gross)",
           "School enrollment, primary (% gross)"
          ],
          [
           "Government expenditure on education, total (% of government expenditure)",
           "Government expenditure on education, total (% of government expenditure)",
           "Government expenditure on education, total (% of government expenditure)",
           "Government expenditure on education, total (% of government expenditure)",
           "Government expenditure on education, total (% of government expenditure)",
           "Government expenditure on education, total (% of government expenditure)",
           "Government expenditure on education, total (% of government expenditure)",
           "Government expenditure on education, total (% of government expenditure)",
           "Government expenditure on education, total (% of government expenditure)",
           "Government expenditure on education, total (% of government expenditure)",
           "Government expenditure on education, total (% of government expenditure)",
           "Government expenditure on education, total (% of government expenditure)",
           "Government expenditure on education, total (% of government expenditure)",
           "Government expenditure on education, total (% of government expenditure)",
           "Government expenditure on education, total (% of government expenditure)",
           "Government expenditure on education, total (% of government expenditure)",
           "Government expenditure on education, total (% of government expenditure)",
           "Government expenditure on education, total (% of government expenditure)",
           "Government expenditure on education, total (% of government expenditure)",
           "Government expenditure on education, total (% of government expenditure)",
           "Government expenditure on education, total (% of government expenditure)"
          ],
          [
           "Proportion of seats held by women in national parliaments (%)",
           "Proportion of seats held by women in national parliaments (%)",
           "Proportion of seats held by women in national parliaments (%)",
           "Proportion of seats held by women in national parliaments (%)",
           "Proportion of seats held by women in national parliaments (%)",
           "Proportion of seats held by women in national parliaments (%)",
           "Proportion of seats held by women in national parliaments (%)",
           "Proportion of seats held by women in national parliaments (%)",
           "Proportion of seats held by women in national parliaments (%)",
           "Proportion of seats held by women in national parliaments (%)",
           "Proportion of seats held by women in national parliaments (%)",
           "Proportion of seats held by women in national parliaments (%)",
           "Proportion of seats held by women in national parliaments (%)",
           "Proportion of seats held by women in national parliaments (%)",
           "Proportion of seats held by women in national parliaments (%)",
           "Proportion of seats held by women in national parliaments (%)",
           "Proportion of seats held by women in national parliaments (%)",
           "Proportion of seats held by women in national parliaments (%)",
           "Proportion of seats held by women in national parliaments (%)",
           "Proportion of seats held by women in national parliaments (%)",
           "Proportion of seats held by women in national parliaments (%)"
          ],
          [
           "Cause of death, by communicable diseases and maternal, prenatal and nutrition conditions (% of total)",
           "Cause of death, by communicable diseases and maternal, prenatal and nutrition conditions (% of total)",
           "Cause of death, by communicable diseases and maternal, prenatal and nutrition conditions (% of total)",
           "Cause of death, by communicable diseases and maternal, prenatal and nutrition conditions (% of total)",
           "Cause of death, by communicable diseases and maternal, prenatal and nutrition conditions (% of total)",
           "Cause of death, by communicable diseases and maternal, prenatal and nutrition conditions (% of total)",
           "Cause of death, by communicable diseases and maternal, prenatal and nutrition conditions (% of total)",
           "Cause of death, by communicable diseases and maternal, prenatal and nutrition conditions (% of total)",
           "Cause of death, by communicable diseases and maternal, prenatal and nutrition conditions (% of total)",
           "Cause of death, by communicable diseases and maternal, prenatal and nutrition conditions (% of total)",
           "Cause of death, by communicable diseases and maternal, prenatal and nutrition conditions (% of total)",
           "Cause of death, by communicable diseases and maternal, prenatal and nutrition conditions (% of total)",
           "Cause of death, by communicable diseases and maternal, prenatal and nutrition conditions (% of total)",
           "Cause of death, by communicable diseases and maternal, prenatal and nutrition conditions (% of total)",
           "Cause of death, by communicable diseases and maternal, prenatal and nutrition conditions (% of total)",
           "Cause of death, by communicable diseases and maternal, prenatal and nutrition conditions (% of total)",
           "Cause of death, by communicable diseases and maternal, prenatal and nutrition conditions (% of total)",
           "Cause of death, by communicable diseases and maternal, prenatal and nutrition conditions (% of total)",
           "Cause of death, by communicable diseases and maternal, prenatal and nutrition conditions (% of total)",
           "Cause of death, by communicable diseases and maternal, prenatal and nutrition conditions (% of total)",
           "Cause of death, by communicable diseases and maternal, prenatal and nutrition conditions (% of total)"
          ],
          [
           "Mortality rate, under-5 (per 1,000 live births)",
           "Mortality rate, under-5 (per 1,000 live births)",
           "Mortality rate, under-5 (per 1,000 live births)",
           "Mortality rate, under-5 (per 1,000 live births)",
           "Mortality rate, under-5 (per 1,000 live births)",
           "Mortality rate, under-5 (per 1,000 live births)",
           "Mortality rate, under-5 (per 1,000 live births)",
           "Mortality rate, under-5 (per 1,000 live births)",
           "Mortality rate, under-5 (per 1,000 live births)",
           "Mortality rate, under-5 (per 1,000 live births)",
           "Mortality rate, under-5 (per 1,000 live births)",
           "Mortality rate, under-5 (per 1,000 live births)",
           "Mortality rate, under-5 (per 1,000 live births)",
           "Mortality rate, under-5 (per 1,000 live births)",
           "Mortality rate, under-5 (per 1,000 live births)",
           "Mortality rate, under-5 (per 1,000 live births)",
           "Mortality rate, under-5 (per 1,000 live births)",
           "Mortality rate, under-5 (per 1,000 live births)",
           "Mortality rate, under-5 (per 1,000 live births)",
           "Mortality rate, under-5 (per 1,000 live births)",
           "Mortality rate, under-5 (per 1,000 live births)"
          ],
          [
           "People using safely managed drinking water services (% of population)",
           "People using safely managed drinking water services (% of population)",
           "People using safely managed drinking water services (% of population)",
           "People using safely managed drinking water services (% of population)",
           "People using safely managed drinking water services (% of population)",
           "People using safely managed drinking water services (% of population)",
           "People using safely managed drinking water services (% of population)",
           "People using safely managed drinking water services (% of population)",
           "People using safely managed drinking water services (% of population)",
           "People using safely managed drinking water services (% of population)",
           "People using safely managed drinking water services (% of population)",
           "People using safely managed drinking water services (% of population)",
           "People using safely managed drinking water services (% of population)",
           "People using safely managed drinking water services (% of population)",
           "People using safely managed drinking water services (% of population)",
           "People using safely managed drinking water services (% of population)",
           "People using safely managed drinking water services (% of population)",
           "People using safely managed drinking water services (% of population)",
           "People using safely managed drinking water services (% of population)",
           "People using safely managed drinking water services (% of population)",
           "People using safely managed drinking water services (% of population)"
          ],
          [
           "Hospital beds (per 1,000 people)",
           "Hospital beds (per 1,000 people)",
           "Hospital beds (per 1,000 people)",
           "Hospital beds (per 1,000 people)",
           "Hospital beds (per 1,000 people)",
           "Hospital beds (per 1,000 people)",
           "Hospital beds (per 1,000 people)",
           "Hospital beds (per 1,000 people)",
           "Hospital beds (per 1,000 people)",
           "Hospital beds (per 1,000 people)",
           "Hospital beds (per 1,000 people)",
           "Hospital beds (per 1,000 people)",
           "Hospital beds (per 1,000 people)",
           "Hospital beds (per 1,000 people)",
           "Hospital beds (per 1,000 people)",
           "Hospital beds (per 1,000 people)",
           "Hospital beds (per 1,000 people)",
           "Hospital beds (per 1,000 people)",
           "Hospital beds (per 1,000 people)",
           "Hospital beds (per 1,000 people)",
           "Hospital beds (per 1,000 people)"
          ],
          [
           "Prevalence of overweight (% of adults)",
           "Prevalence of overweight (% of adults)",
           "Prevalence of overweight (% of adults)",
           "Prevalence of overweight (% of adults)",
           "Prevalence of overweight (% of adults)",
           "Prevalence of overweight (% of adults)",
           "Prevalence of overweight (% of adults)",
           "Prevalence of overweight (% of adults)",
           "Prevalence of overweight (% of adults)",
           "Prevalence of overweight (% of adults)",
           "Prevalence of overweight (% of adults)",
           "Prevalence of overweight (% of adults)",
           "Prevalence of overweight (% of adults)",
           "Prevalence of overweight (% of adults)",
           "Prevalence of overweight (% of adults)",
           "Prevalence of overweight (% of adults)",
           "Prevalence of overweight (% of adults)",
           "Prevalence of overweight (% of adults)",
           "Prevalence of overweight (% of adults)",
           "Prevalence of overweight (% of adults)",
           "Prevalence of overweight (% of adults)"
          ],
          [
           "People using safely managed sanitation services (% of population)",
           "People using safely managed sanitation services (% of population)",
           "People using safely managed sanitation services (% of population)",
           "People using safely managed sanitation services (% of population)",
           "People using safely managed sanitation services (% of population)",
           "People using safely managed sanitation services (% of population)",
           "People using safely managed sanitation services (% of population)",
           "People using safely managed sanitation services (% of population)",
           "People using safely managed sanitation services (% of population)",
           "People using safely managed sanitation services (% of population)",
           "People using safely managed sanitation services (% of population)",
           "People using safely managed sanitation services (% of population)",
           "People using safely managed sanitation services (% of population)",
           "People using safely managed sanitation services (% of population)",
           "People using safely managed sanitation services (% of population)",
           "People using safely managed sanitation services (% of population)",
           "People using safely managed sanitation services (% of population)",
           "People using safely managed sanitation services (% of population)",
           "People using safely managed sanitation services (% of population)",
           "People using safely managed sanitation services (% of population)",
           "People using safely managed sanitation services (% of population)"
          ],
          [
           "Income share held by lowest 20%",
           "Income share held by lowest 20%",
           "Income share held by lowest 20%",
           "Income share held by lowest 20%",
           "Income share held by lowest 20%",
           "Income share held by lowest 20%",
           "Income share held by lowest 20%",
           "Income share held by lowest 20%",
           "Income share held by lowest 20%",
           "Income share held by lowest 20%",
           "Income share held by lowest 20%",
           "Income share held by lowest 20%",
           "Income share held by lowest 20%",
           "Income share held by lowest 20%",
           "Income share held by lowest 20%",
           "Income share held by lowest 20%",
           "Income share held by lowest 20%",
           "Income share held by lowest 20%",
           "Income share held by lowest 20%",
           "Income share held by lowest 20%",
           "Income share held by lowest 20%"
          ],
          [
           "Gini index (World Bank estimate)",
           "Gini index (World Bank estimate)",
           "Gini index (World Bank estimate)",
           "Gini index (World Bank estimate)",
           "Gini index (World Bank estimate)",
           "Gini index (World Bank estimate)",
           "Gini index (World Bank estimate)",
           "Gini index (World Bank estimate)",
           "Gini index (World Bank estimate)",
           "Gini index (World Bank estimate)",
           "Gini index (World Bank estimate)",
           "Gini index (World Bank estimate)",
           "Gini index (World Bank estimate)",
           "Gini index (World Bank estimate)",
           "Gini index (World Bank estimate)",
           "Gini index (World Bank estimate)",
           "Gini index (World Bank estimate)",
           "Gini index (World Bank estimate)",
           "Gini index (World Bank estimate)",
           "Gini index (World Bank estimate)",
           "Gini index (World Bank estimate)"
          ],
          [
           "Poverty headcount ratio at national poverty lines (% of population)",
           "Poverty headcount ratio at national poverty lines (% of population)",
           "Poverty headcount ratio at national poverty lines (% of population)",
           "Poverty headcount ratio at national poverty lines (% of population)",
           "Poverty headcount ratio at national poverty lines (% of population)",
           "Poverty headcount ratio at national poverty lines (% of population)",
           "Poverty headcount ratio at national poverty lines (% of population)",
           "Poverty headcount ratio at national poverty lines (% of population)",
           "Poverty headcount ratio at national poverty lines (% of population)",
           "Poverty headcount ratio at national poverty lines (% of population)",
           "Poverty headcount ratio at national poverty lines (% of population)",
           "Poverty headcount ratio at national poverty lines (% of population)",
           "Poverty headcount ratio at national poverty lines (% of population)",
           "Poverty headcount ratio at national poverty lines (% of population)",
           "Poverty headcount ratio at national poverty lines (% of population)",
           "Poverty headcount ratio at national poverty lines (% of population)",
           "Poverty headcount ratio at national poverty lines (% of population)",
           "Poverty headcount ratio at national poverty lines (% of population)",
           "Poverty headcount ratio at national poverty lines (% of population)",
           "Poverty headcount ratio at national poverty lines (% of population)",
           "Poverty headcount ratio at national poverty lines (% of population)"
          ],
          [
           "Annualized average growth rate in per capita real survey mean consumption or income, total population (%)",
           "Annualized average growth rate in per capita real survey mean consumption or income, total population (%)",
           "Annualized average growth rate in per capita real survey mean consumption or income, total population (%)",
           "Annualized average growth rate in per capita real survey mean consumption or income, total population (%)",
           "Annualized average growth rate in per capita real survey mean consumption or income, total population (%)",
           "Annualized average growth rate in per capita real survey mean consumption or income, total population (%)",
           "Annualized average growth rate in per capita real survey mean consumption or income, total population (%)",
           "Annualized average growth rate in per capita real survey mean consumption or income, total population (%)",
           "Annualized average growth rate in per capita real survey mean consumption or income, total population (%)",
           "Annualized average growth rate in per capita real survey mean consumption or income, total population (%)",
           "Annualized average growth rate in per capita real survey mean consumption or income, total population (%)",
           "Annualized average growth rate in per capita real survey mean consumption or income, total population (%)",
           "Annualized average growth rate in per capita real survey mean consumption or income, total population (%)",
           "Annualized average growth rate in per capita real survey mean consumption or income, total population (%)",
           "Annualized average growth rate in per capita real survey mean consumption or income, total population (%)",
           "Annualized average growth rate in per capita real survey mean consumption or income, total population (%)",
           "Annualized average growth rate in per capita real survey mean consumption or income, total population (%)",
           "Annualized average growth rate in per capita real survey mean consumption or income, total population (%)",
           "Annualized average growth rate in per capita real survey mean consumption or income, total population (%)",
           "Annualized average growth rate in per capita real survey mean consumption or income, total population (%)",
           "Annualized average growth rate in per capita real survey mean consumption or income, total population (%)"
          ],
          [
           "Children in employment, total (% of children ages 7-14)",
           "Children in employment, total (% of children ages 7-14)",
           "Children in employment, total (% of children ages 7-14)",
           "Children in employment, total (% of children ages 7-14)",
           "Children in employment, total (% of children ages 7-14)",
           "Children in employment, total (% of children ages 7-14)",
           "Children in employment, total (% of children ages 7-14)",
           "Children in employment, total (% of children ages 7-14)",
           "Children in employment, total (% of children ages 7-14)",
           "Children in employment, total (% of children ages 7-14)",
           "Children in employment, total (% of children ages 7-14)",
           "Children in employment, total (% of children ages 7-14)",
           "Children in employment, total (% of children ages 7-14)",
           "Children in employment, total (% of children ages 7-14)",
           "Children in employment, total (% of children ages 7-14)",
           "Children in employment, total (% of children ages 7-14)",
           "Children in employment, total (% of children ages 7-14)",
           "Children in employment, total (% of children ages 7-14)",
           "Children in employment, total (% of children ages 7-14)",
           "Children in employment, total (% of children ages 7-14)",
           "Children in employment, total (% of children ages 7-14)"
          ],
          [
           "Labor force participation rate, total (% of total population ages 15-64) (modeled ILO estimate)",
           "Labor force participation rate, total (% of total population ages 15-64) (modeled ILO estimate)",
           "Labor force participation rate, total (% of total population ages 15-64) (modeled ILO estimate)",
           "Labor force participation rate, total (% of total population ages 15-64) (modeled ILO estimate)",
           "Labor force participation rate, total (% of total population ages 15-64) (modeled ILO estimate)",
           "Labor force participation rate, total (% of total population ages 15-64) (modeled ILO estimate)",
           "Labor force participation rate, total (% of total population ages 15-64) (modeled ILO estimate)",
           "Labor force participation rate, total (% of total population ages 15-64) (modeled ILO estimate)",
           "Labor force participation rate, total (% of total population ages 15-64) (modeled ILO estimate)",
           "Labor force participation rate, total (% of total population ages 15-64) (modeled ILO estimate)",
           "Labor force participation rate, total (% of total population ages 15-64) (modeled ILO estimate)",
           "Labor force participation rate, total (% of total population ages 15-64) (modeled ILO estimate)",
           "Labor force participation rate, total (% of total population ages 15-64) (modeled ILO estimate)",
           "Labor force participation rate, total (% of total population ages 15-64) (modeled ILO estimate)",
           "Labor force participation rate, total (% of total population ages 15-64) (modeled ILO estimate)",
           "Labor force participation rate, total (% of total population ages 15-64) (modeled ILO estimate)",
           "Labor force participation rate, total (% of total population ages 15-64) (modeled ILO estimate)",
           "Labor force participation rate, total (% of total population ages 15-64) (modeled ILO estimate)",
           "Labor force participation rate, total (% of total population ages 15-64) (modeled ILO estimate)",
           "Labor force participation rate, total (% of total population ages 15-64) (modeled ILO estimate)",
           "Labor force participation rate, total (% of total population ages 15-64) (modeled ILO estimate)"
          ],
          [
           "Ratio of female to male labor force participation rate (%) (modeled ILO estimate)",
           "Ratio of female to male labor force participation rate (%) (modeled ILO estimate)",
           "Ratio of female to male labor force participation rate (%) (modeled ILO estimate)",
           "Ratio of female to male labor force participation rate (%) (modeled ILO estimate)",
           "Ratio of female to male labor force participation rate (%) (modeled ILO estimate)",
           "Ratio of female to male labor force participation rate (%) (modeled ILO estimate)",
           "Ratio of female to male labor force participation rate (%) (modeled ILO estimate)",
           "Ratio of female to male labor force participation rate (%) (modeled ILO estimate)",
           "Ratio of female to male labor force participation rate (%) (modeled ILO estimate)",
           "Ratio of female to male labor force participation rate (%) (modeled ILO estimate)",
           "Ratio of female to male labor force participation rate (%) (modeled ILO estimate)",
           "Ratio of female to male labor force participation rate (%) (modeled ILO estimate)",
           "Ratio of female to male labor force participation rate (%) (modeled ILO estimate)",
           "Ratio of female to male labor force participation rate (%) (modeled ILO estimate)",
           "Ratio of female to male labor force participation rate (%) (modeled ILO estimate)",
           "Ratio of female to male labor force participation rate (%) (modeled ILO estimate)",
           "Ratio of female to male labor force participation rate (%) (modeled ILO estimate)",
           "Ratio of female to male labor force participation rate (%) (modeled ILO estimate)",
           "Ratio of female to male labor force participation rate (%) (modeled ILO estimate)",
           "Ratio of female to male labor force participation rate (%) (modeled ILO estimate)",
           "Ratio of female to male labor force participation rate (%) (modeled ILO estimate)"
          ],
          [
           "Unemployment, total (% of total labor force) (modeled ILO estimate)",
           "Unemployment, total (% of total labor force) (modeled ILO estimate)",
           "Unemployment, total (% of total labor force) (modeled ILO estimate)",
           "Unemployment, total (% of total labor force) (modeled ILO estimate)",
           "Unemployment, total (% of total labor force) (modeled ILO estimate)",
           "Unemployment, total (% of total labor force) (modeled ILO estimate)",
           "Unemployment, total (% of total labor force) (modeled ILO estimate)",
           "Unemployment, total (% of total labor force) (modeled ILO estimate)",
           "Unemployment, total (% of total labor force) (modeled ILO estimate)",
           "Unemployment, total (% of total labor force) (modeled ILO estimate)",
           "Unemployment, total (% of total labor force) (modeled ILO estimate)",
           "Unemployment, total (% of total labor force) (modeled ILO estimate)",
           "Unemployment, total (% of total labor force) (modeled ILO estimate)",
           "Unemployment, total (% of total labor force) (modeled ILO estimate)",
           "Unemployment, total (% of total labor force) (modeled ILO estimate)",
           "Unemployment, total (% of total labor force) (modeled ILO estimate)",
           "Unemployment, total (% of total labor force) (modeled ILO estimate)",
           "Unemployment, total (% of total labor force) (modeled ILO estimate)",
           "Unemployment, total (% of total labor force) (modeled ILO estimate)",
           "Unemployment, total (% of total labor force) (modeled ILO estimate)",
           "Unemployment, total (% of total labor force) (modeled ILO estimate)"
          ],
          [
           "Net migration",
           "Net migration",
           "Net migration",
           "Net migration",
           "Net migration",
           "Net migration",
           "Net migration",
           "Net migration",
           "Net migration",
           "Net migration",
           "Net migration",
           "Net migration",
           "Net migration",
           "Net migration",
           "Net migration",
           "Net migration",
           "Net migration",
           "Net migration",
           "Net migration",
           "Net migration",
           "Net migration"
          ],
          [
           "Prevalence of undernourishment (% of population)",
           "Prevalence of undernourishment (% of population)",
           "Prevalence of undernourishment (% of population)",
           "Prevalence of undernourishment (% of population)",
           "Prevalence of undernourishment (% of population)",
           "Prevalence of undernourishment (% of population)",
           "Prevalence of undernourishment (% of population)",
           "Prevalence of undernourishment (% of population)",
           "Prevalence of undernourishment (% of population)",
           "Prevalence of undernourishment (% of population)",
           "Prevalence of undernourishment (% of population)",
           "Prevalence of undernourishment (% of population)",
           "Prevalence of undernourishment (% of population)",
           "Prevalence of undernourishment (% of population)",
           "Prevalence of undernourishment (% of population)",
           "Prevalence of undernourishment (% of population)",
           "Prevalence of undernourishment (% of population)",
           "Prevalence of undernourishment (% of population)",
           "Prevalence of undernourishment (% of population)",
           "Prevalence of undernourishment (% of population)",
           "Prevalence of undernourishment (% of population)"
          ],
          [
           "Life expectancy at birth, total (years)",
           "Life expectancy at birth, total (years)",
           "Life expectancy at birth, total (years)",
           "Life expectancy at birth, total (years)",
           "Life expectancy at birth, total (years)",
           "Life expectancy at birth, total (years)",
           "Life expectancy at birth, total (years)",
           "Life expectancy at birth, total (years)",
           "Life expectancy at birth, total (years)",
           "Life expectancy at birth, total (years)",
           "Life expectancy at birth, total (years)",
           "Life expectancy at birth, total (years)",
           "Life expectancy at birth, total (years)",
           "Life expectancy at birth, total (years)",
           "Life expectancy at birth, total (years)",
           "Life expectancy at birth, total (years)",
           "Life expectancy at birth, total (years)",
           "Life expectancy at birth, total (years)",
           "Life expectancy at birth, total (years)",
           "Life expectancy at birth, total (years)",
           "Life expectancy at birth, total (years)"
          ],
          [
           "Fertility rate, total (births per woman)",
           "Fertility rate, total (births per woman)",
           "Fertility rate, total (births per woman)",
           "Fertility rate, total (births per woman)",
           "Fertility rate, total (births per woman)",
           "Fertility rate, total (births per woman)",
           "Fertility rate, total (births per woman)",
           "Fertility rate, total (births per woman)",
           "Fertility rate, total (births per woman)",
           "Fertility rate, total (births per woman)",
           "Fertility rate, total (births per woman)",
           "Fertility rate, total (births per woman)",
           "Fertility rate, total (births per woman)",
           "Fertility rate, total (births per woman)",
           "Fertility rate, total (births per woman)",
           "Fertility rate, total (births per woman)",
           "Fertility rate, total (births per woman)",
           "Fertility rate, total (births per woman)",
           "Fertility rate, total (births per woman)",
           "Fertility rate, total (births per woman)",
           "Fertility rate, total (births per woman)"
          ],
          [
           "Population ages 65 and above (% of total population)",
           "Population ages 65 and above (% of total population)",
           "Population ages 65 and above (% of total population)",
           "Population ages 65 and above (% of total population)",
           "Population ages 65 and above (% of total population)",
           "Population ages 65 and above (% of total population)",
           "Population ages 65 and above (% of total population)",
           "Population ages 65 and above (% of total population)",
           "Population ages 65 and above (% of total population)",
           "Population ages 65 and above (% of total population)",
           "Population ages 65 and above (% of total population)",
           "Population ages 65 and above (% of total population)",
           "Population ages 65 and above (% of total population)",
           "Population ages 65 and above (% of total population)",
           "Population ages 65 and above (% of total population)",
           "Population ages 65 and above (% of total population)",
           "Population ages 65 and above (% of total population)",
           "Population ages 65 and above (% of total population)",
           "Population ages 65 and above (% of total population)",
           "Population ages 65 and above (% of total population)",
           "Population ages 65 and above (% of total population)"
          ]
         ],
         "hovertemplate": "Year: %{x}<br>Indicator: %{customdata}<br>CETS ID: %{y}<br>Countries: %{z}<extra></extra>",
         "type": "heatmap",
         "x": [
          2000,
          2001,
          2002,
          2003,
          2004,
          2005,
          2006,
          2007,
          2008,
          2009,
          2010,
          2011,
          2012,
          2013,
          2014,
          2015,
          2016,
          2017,
          2018,
          2019,
          2020
         ],
         "y": [
          "EG.CFT.ACCS.ZS",
          "EG.ELC.ACCS.ZS",
          "IP.JRN.ARTC.SC",
          "NV.AGR.TOTL.ZS",
          "NY.GDP.MKTP.KD.ZG",
          "SE.ADT.LITR.ZS",
          "SE.ENR.PRSC.FM.ZS",
          "SE.PRM.ENRR",
          "SE.XPD.TOTL.GB.ZS",
          "SG.GEN.PARL.ZS",
          "SH.DTH.COMM.ZS",
          "SH.DYN.MORT",
          "SH.H2O.SMDW.ZS",
          "SH.MED.BEDS.ZS",
          "SH.STA.OWAD.ZS",
          "SH.STA.SMSS.ZS",
          "SI.DST.FRST.20",
          "SI.POV.GINI",
          "SI.POV.NAHC",
          "SI.SPR.PCAP.ZG",
          "SL.TLF.0714.ZS",
          "SL.TLF.ACTI.ZS",
          "SL.TLF.CACT.FM.ZS",
          "SL.UEM.TOTL.ZS",
          "SM.POP.NETM",
          "SN.ITK.DEFC.ZS",
          "SP.DYN.LE00.IN",
          "SP.DYN.TFRT.IN",
          "SP.POP.65UP.TO.ZS"
         ],
         "z": [
          [
           189,
           189,
           189,
           189,
           189,
           189,
           189,
           189,
           189,
           189,
           189,
           189,
           189,
           189,
           189,
           189,
           189,
           null,
           null,
           null,
           null
          ],
          [
           167,
           173,
           179,
           179,
           181,
           184,
           186,
           186,
           188,
           191,
           192,
           193,
           193,
           193,
           193,
           193,
           193,
           193,
           193,
           193,
           null
          ],
          [
           193,
           193,
           193,
           193,
           193,
           193,
           193,
           193,
           193,
           193,
           193,
           193,
           193,
           193,
           193,
           193,
           193,
           193,
           193,
           null,
           null
          ],
          [
           175,
           176,
           178,
           179,
           179,
           178,
           181,
           180,
           180,
           180,
           179,
           179,
           180,
           182,
           182,
           182,
           179,
           179,
           178,
           168,
           145
          ],
          [
           182,
           186,
           187,
           188,
           188,
           189,
           189,
           189,
           188,
           189,
           188,
           188,
           187,
           187,
           189,
           188,
           187,
           187,
           187,
           186,
           173
          ],
          [
           44,
           30,
           20,
           12,
           24,
           22,
           27,
           35,
           33,
           34,
           50,
           57,
           45,
           33,
           51,
           41,
           34,
           32,
           77,
           1,
           null
          ],
          [
           132,
           129,
           130,
           126,
           138,
           140,
           134,
           138,
           136,
           133,
           134,
           138,
           130,
           116,
           126,
           129,
           125,
           122,
           113,
           55,
           1
          ],
          [
           161,
           159,
           164,
           158,
           162,
           166,
           158,
           168,
           164,
           161,
           153,
           158,
           158,
           145,
           151,
           155,
           153,
           145,
           133,
           71,
           2
          ],
          [
           111,
           105,
           114,
           101,
           113,
           103,
           101,
           100,
           113,
           110,
           116,
           112,
           106,
           112,
           108,
           102,
           104,
           112,
           60,
           16,
           null
          ],
          [
           157,
           167,
           161,
           174,
           181,
           185,
           189,
           188,
           187,
           187,
           187,
           188,
           189,
           184,
           187,
           189,
           192,
           190,
           191,
           192,
           190
          ],
          [
           183,
           null,
           null,
           null,
           null,
           null,
           null,
           null,
           null,
           null,
           183,
           null,
           null,
           null,
           null,
           183,
           null,
           null,
           null,
           183,
           null
          ],
          [
           192,
           192,
           192,
           192,
           192,
           192,
           192,
           192,
           192,
           192,
           192,
           192,
           192,
           192,
           192,
           192,
           192,
           192,
           192,
           192,
           null
          ],
          [
           93,
           94,
           95,
           95,
           95,
           97,
           98,
           98,
           98,
           98,
           98,
           98,
           98,
           98,
           98,
           98,
           98,
           98,
           null,
           null,
           null
          ],
          [
           99,
           103,
           113,
           108,
           109,
           132,
           133,
           119,
           114,
           126,
           139,
           134,
           118,
           112,
           112,
           107,
           104,
           98,
           36,
           8,
           null
          ],
          [
           188,
           188,
           188,
           188,
           188,
           188,
           188,
           188,
           188,
           188,
           188,
           188,
           188,
           188,
           188,
           188,
           188,
           null,
           null,
           null,
           null
          ],
          [
           85,
           87,
           87,
           87,
           87,
           88,
           89,
           89,
           89,
           89,
           89,
           89,
           89,
           89,
           89,
           89,
           89,
           89,
           null,
           null,
           null
          ],
          [
           50,
           36,
           53,
           58,
           69,
           74,
           73,
           69,
           73,
           76,
           81,
           75,
           83,
           75,
           82,
           81,
           78,
           70,
           64,
           21,
           null
          ],
          [
           50,
           36,
           53,
           58,
           69,
           74,
           73,
           69,
           73,
           76,
           81,
           75,
           83,
           75,
           82,
           81,
           79,
           71,
           64,
           22,
           null
          ],
          [
           19,
           16,
           21,
           24,
           33,
           47,
           47,
           47,
           46,
           54,
           58,
           56,
           61,
           53,
           59,
           70,
           69,
           64,
           69,
           25,
           null
          ],
          [
           null,
           null,
           null,
           null,
           null,
           null,
           null,
           null,
           null,
           null,
           null,
           null,
           null,
           null,
           null,
           1,
           11,
           12,
           42,
           19,
           null
          ],
          [
           24,
           9,
           4,
           8,
           11,
           26,
           31,
           19,
           12,
           15,
           21,
           22,
           24,
           11,
           18,
           10,
           2,
           null,
           null,
           null,
           null
          ],
          [
           178,
           178,
           178,
           178,
           178,
           178,
           178,
           178,
           178,
           178,
           178,
           178,
           178,
           178,
           178,
           178,
           178,
           178,
           178,
           178,
           null
          ],
          [
           178,
           178,
           178,
           178,
           178,
           178,
           178,
           178,
           178,
           178,
           178,
           178,
           178,
           178,
           178,
           178,
           178,
           178,
           178,
           178,
           null
          ],
          [
           178,
           178,
           178,
           178,
           178,
           178,
           178,
           178,
           178,
           178,
           178,
           178,
           178,
           178,
           178,
           178,
           178,
           178,
           178,
           178,
           178
          ],
          [
           null,
           null,
           183,
           null,
           null,
           null,
           null,
           183,
           null,
           null,
           null,
           null,
           183,
           null,
           null,
           null,
           null,
           183,
           null,
           null,
           null
          ],
          [
           null,
           150,
           150,
           150,
           150,
           150,
           150,
           150,
           150,
           150,
           150,
           150,
           150,
           150,
           150,
           150,
           150,
           150,
           150,
           null,
           null
          ],
          [
           186,
           184,
           186,
           184,
           184,
           185,
           184,
           184,
           184,
           184,
           184,
           184,
           185,
           184,
           184,
           184,
           184,
           184,
           184,
           184,
           null
          ],
          [
           185,
           184,
           186,
           185,
           184,
           186,
           186,
           186,
           185,
           185,
           185,
           185,
           186,
           184,
           184,
           185,
           184,
           184,
           184,
           184,
           null
          ],
          [
           183,
           183,
           183,
           183,
           183,
           183,
           183,
           183,
           183,
           183,
           183,
           183,
           183,
           183,
           183,
           183,
           183,
           183,
           183,
           183,
           183
          ]
         ]
        }
       ],
       "layout": {
        "coloraxis": {
         "cmax": 193,
         "cmin": 0,
         "colorscale": [
          [
           0,
           "#0d0887"
          ],
          [
           0.1111111111111111,
           "#46039f"
          ],
          [
           0.2222222222222222,
           "#7201a8"
          ],
          [
           0.3333333333333333,
           "#9c179e"
          ],
          [
           0.4444444444444444,
           "#bd3786"
          ],
          [
           0.5555555555555556,
           "#d8576b"
          ],
          [
           0.6666666666666666,
           "#ed7953"
          ],
          [
           0.7777777777777778,
           "#fb9f3a"
          ],
          [
           0.8888888888888888,
           "#fdca26"
          ],
          [
           1,
           "#f0f921"
          ]
         ]
        },
        "height": 550,
        "template": {
         "data": {
          "bar": [
           {
            "error_x": {
             "color": "#2a3f5f"
            },
            "error_y": {
             "color": "#2a3f5f"
            },
            "marker": {
             "line": {
              "color": "#E5ECF6",
              "width": 0.5
             }
            },
            "type": "bar"
           }
          ],
          "barpolar": [
           {
            "marker": {
             "line": {
              "color": "#E5ECF6",
              "width": 0.5
             }
            },
            "type": "barpolar"
           }
          ],
          "carpet": [
           {
            "aaxis": {
             "endlinecolor": "#2a3f5f",
             "gridcolor": "white",
             "linecolor": "white",
             "minorgridcolor": "white",
             "startlinecolor": "#2a3f5f"
            },
            "baxis": {
             "endlinecolor": "#2a3f5f",
             "gridcolor": "white",
             "linecolor": "white",
             "minorgridcolor": "white",
             "startlinecolor": "#2a3f5f"
            },
            "type": "carpet"
           }
          ],
          "choropleth": [
           {
            "colorbar": {
             "outlinewidth": 0,
             "ticks": ""
            },
            "type": "choropleth"
           }
          ],
          "contour": [
           {
            "colorbar": {
             "outlinewidth": 0,
             "ticks": ""
            },
            "colorscale": [
             [
              0,
              "#0d0887"
             ],
             [
              0.1111111111111111,
              "#46039f"
             ],
             [
              0.2222222222222222,
              "#7201a8"
             ],
             [
              0.3333333333333333,
              "#9c179e"
             ],
             [
              0.4444444444444444,
              "#bd3786"
             ],
             [
              0.5555555555555556,
              "#d8576b"
             ],
             [
              0.6666666666666666,
              "#ed7953"
             ],
             [
              0.7777777777777778,
              "#fb9f3a"
             ],
             [
              0.8888888888888888,
              "#fdca26"
             ],
             [
              1,
              "#f0f921"
             ]
            ],
            "type": "contour"
           }
          ],
          "contourcarpet": [
           {
            "colorbar": {
             "outlinewidth": 0,
             "ticks": ""
            },
            "type": "contourcarpet"
           }
          ],
          "heatmap": [
           {
            "colorbar": {
             "outlinewidth": 0,
             "ticks": ""
            },
            "colorscale": [
             [
              0,
              "#0d0887"
             ],
             [
              0.1111111111111111,
              "#46039f"
             ],
             [
              0.2222222222222222,
              "#7201a8"
             ],
             [
              0.3333333333333333,
              "#9c179e"
             ],
             [
              0.4444444444444444,
              "#bd3786"
             ],
             [
              0.5555555555555556,
              "#d8576b"
             ],
             [
              0.6666666666666666,
              "#ed7953"
             ],
             [
              0.7777777777777778,
              "#fb9f3a"
             ],
             [
              0.8888888888888888,
              "#fdca26"
             ],
             [
              1,
              "#f0f921"
             ]
            ],
            "type": "heatmap"
           }
          ],
          "heatmapgl": [
           {
            "colorbar": {
             "outlinewidth": 0,
             "ticks": ""
            },
            "colorscale": [
             [
              0,
              "#0d0887"
             ],
             [
              0.1111111111111111,
              "#46039f"
             ],
             [
              0.2222222222222222,
              "#7201a8"
             ],
             [
              0.3333333333333333,
              "#9c179e"
             ],
             [
              0.4444444444444444,
              "#bd3786"
             ],
             [
              0.5555555555555556,
              "#d8576b"
             ],
             [
              0.6666666666666666,
              "#ed7953"
             ],
             [
              0.7777777777777778,
              "#fb9f3a"
             ],
             [
              0.8888888888888888,
              "#fdca26"
             ],
             [
              1,
              "#f0f921"
             ]
            ],
            "type": "heatmapgl"
           }
          ],
          "histogram": [
           {
            "marker": {
             "colorbar": {
              "outlinewidth": 0,
              "ticks": ""
             }
            },
            "type": "histogram"
           }
          ],
          "histogram2d": [
           {
            "colorbar": {
             "outlinewidth": 0,
             "ticks": ""
            },
            "colorscale": [
             [
              0,
              "#0d0887"
             ],
             [
              0.1111111111111111,
              "#46039f"
             ],
             [
              0.2222222222222222,
              "#7201a8"
             ],
             [
              0.3333333333333333,
              "#9c179e"
             ],
             [
              0.4444444444444444,
              "#bd3786"
             ],
             [
              0.5555555555555556,
              "#d8576b"
             ],
             [
              0.6666666666666666,
              "#ed7953"
             ],
             [
              0.7777777777777778,
              "#fb9f3a"
             ],
             [
              0.8888888888888888,
              "#fdca26"
             ],
             [
              1,
              "#f0f921"
             ]
            ],
            "type": "histogram2d"
           }
          ],
          "histogram2dcontour": [
           {
            "colorbar": {
             "outlinewidth": 0,
             "ticks": ""
            },
            "colorscale": [
             [
              0,
              "#0d0887"
             ],
             [
              0.1111111111111111,
              "#46039f"
             ],
             [
              0.2222222222222222,
              "#7201a8"
             ],
             [
              0.3333333333333333,
              "#9c179e"
             ],
             [
              0.4444444444444444,
              "#bd3786"
             ],
             [
              0.5555555555555556,
              "#d8576b"
             ],
             [
              0.6666666666666666,
              "#ed7953"
             ],
             [
              0.7777777777777778,
              "#fb9f3a"
             ],
             [
              0.8888888888888888,
              "#fdca26"
             ],
             [
              1,
              "#f0f921"
             ]
            ],
            "type": "histogram2dcontour"
           }
          ],
          "mesh3d": [
           {
            "colorbar": {
             "outlinewidth": 0,
             "ticks": ""
            },
            "type": "mesh3d"
           }
          ],
          "parcoords": [
           {
            "line": {
             "colorbar": {
              "outlinewidth": 0,
              "ticks": ""
             }
            },
            "type": "parcoords"
           }
          ],
          "pie": [
           {
            "automargin": true,
            "type": "pie"
           }
          ],
          "scatter": [
           {
            "marker": {
             "colorbar": {
              "outlinewidth": 0,
              "ticks": ""
             }
            },
            "type": "scatter"
           }
          ],
          "scatter3d": [
           {
            "line": {
             "colorbar": {
              "outlinewidth": 0,
              "ticks": ""
             }
            },
            "marker": {
             "colorbar": {
              "outlinewidth": 0,
              "ticks": ""
             }
            },
            "type": "scatter3d"
           }
          ],
          "scattercarpet": [
           {
            "marker": {
             "colorbar": {
              "outlinewidth": 0,
              "ticks": ""
             }
            },
            "type": "scattercarpet"
           }
          ],
          "scattergeo": [
           {
            "marker": {
             "colorbar": {
              "outlinewidth": 0,
              "ticks": ""
             }
            },
            "type": "scattergeo"
           }
          ],
          "scattergl": [
           {
            "marker": {
             "colorbar": {
              "outlinewidth": 0,
              "ticks": ""
             }
            },
            "type": "scattergl"
           }
          ],
          "scattermapbox": [
           {
            "marker": {
             "colorbar": {
              "outlinewidth": 0,
              "ticks": ""
             }
            },
            "type": "scattermapbox"
           }
          ],
          "scatterpolar": [
           {
            "marker": {
             "colorbar": {
              "outlinewidth": 0,
              "ticks": ""
             }
            },
            "type": "scatterpolar"
           }
          ],
          "scatterpolargl": [
           {
            "marker": {
             "colorbar": {
              "outlinewidth": 0,
              "ticks": ""
             }
            },
            "type": "scatterpolargl"
           }
          ],
          "scatterternary": [
           {
            "marker": {
             "colorbar": {
              "outlinewidth": 0,
              "ticks": ""
             }
            },
            "type": "scatterternary"
           }
          ],
          "surface": [
           {
            "colorbar": {
             "outlinewidth": 0,
             "ticks": ""
            },
            "colorscale": [
             [
              0,
              "#0d0887"
             ],
             [
              0.1111111111111111,
              "#46039f"
             ],
             [
              0.2222222222222222,
              "#7201a8"
             ],
             [
              0.3333333333333333,
              "#9c179e"
             ],
             [
              0.4444444444444444,
              "#bd3786"
             ],
             [
              0.5555555555555556,
              "#d8576b"
             ],
             [
              0.6666666666666666,
              "#ed7953"
             ],
             [
              0.7777777777777778,
              "#fb9f3a"
             ],
             [
              0.8888888888888888,
              "#fdca26"
             ],
             [
              1,
              "#f0f921"
             ]
            ],
            "type": "surface"
           }
          ],
          "table": [
           {
            "cells": {
             "fill": {
              "color": "#EBF0F8"
             },
             "line": {
              "color": "white"
             }
            },
            "header": {
             "fill": {
              "color": "#C8D4E3"
             },
             "line": {
              "color": "white"
             }
            },
            "type": "table"
           }
          ]
         },
         "layout": {
          "annotationdefaults": {
           "arrowcolor": "#2a3f5f",
           "arrowhead": 0,
           "arrowwidth": 1
          },
          "coloraxis": {
           "colorbar": {
            "outlinewidth": 0,
            "ticks": ""
           }
          },
          "colorscale": {
           "diverging": [
            [
             0,
             "#8e0152"
            ],
            [
             0.1,
             "#c51b7d"
            ],
            [
             0.2,
             "#de77ae"
            ],
            [
             0.3,
             "#f1b6da"
            ],
            [
             0.4,
             "#fde0ef"
            ],
            [
             0.5,
             "#f7f7f7"
            ],
            [
             0.6,
             "#e6f5d0"
            ],
            [
             0.7,
             "#b8e186"
            ],
            [
             0.8,
             "#7fbc41"
            ],
            [
             0.9,
             "#4d9221"
            ],
            [
             1,
             "#276419"
            ]
           ],
           "sequential": [
            [
             0,
             "#0d0887"
            ],
            [
             0.1111111111111111,
             "#46039f"
            ],
            [
             0.2222222222222222,
             "#7201a8"
            ],
            [
             0.3333333333333333,
             "#9c179e"
            ],
            [
             0.4444444444444444,
             "#bd3786"
            ],
            [
             0.5555555555555556,
             "#d8576b"
            ],
            [
             0.6666666666666666,
             "#ed7953"
            ],
            [
             0.7777777777777778,
             "#fb9f3a"
            ],
            [
             0.8888888888888888,
             "#fdca26"
            ],
            [
             1,
             "#f0f921"
            ]
           ],
           "sequentialminus": [
            [
             0,
             "#0d0887"
            ],
            [
             0.1111111111111111,
             "#46039f"
            ],
            [
             0.2222222222222222,
             "#7201a8"
            ],
            [
             0.3333333333333333,
             "#9c179e"
            ],
            [
             0.4444444444444444,
             "#bd3786"
            ],
            [
             0.5555555555555556,
             "#d8576b"
            ],
            [
             0.6666666666666666,
             "#ed7953"
            ],
            [
             0.7777777777777778,
             "#fb9f3a"
            ],
            [
             0.8888888888888888,
             "#fdca26"
            ],
            [
             1,
             "#f0f921"
            ]
           ]
          },
          "colorway": [
           "#636efa",
           "#EF553B",
           "#00cc96",
           "#ab63fa",
           "#FFA15A",
           "#19d3f3",
           "#FF6692",
           "#B6E880",
           "#FF97FF",
           "#FECB52"
          ],
          "font": {
           "color": "#2a3f5f"
          },
          "geo": {
           "bgcolor": "white",
           "lakecolor": "white",
           "landcolor": "#E5ECF6",
           "showlakes": true,
           "showland": true,
           "subunitcolor": "white"
          },
          "hoverlabel": {
           "align": "left"
          },
          "hovermode": "closest",
          "mapbox": {
           "style": "light"
          },
          "paper_bgcolor": "white",
          "plot_bgcolor": "#E5ECF6",
          "polar": {
           "angularaxis": {
            "gridcolor": "white",
            "linecolor": "white",
            "ticks": ""
           },
           "bgcolor": "#E5ECF6",
           "radialaxis": {
            "gridcolor": "white",
            "linecolor": "white",
            "ticks": ""
           }
          },
          "scene": {
           "xaxis": {
            "backgroundcolor": "#E5ECF6",
            "gridcolor": "white",
            "gridwidth": 2,
            "linecolor": "white",
            "showbackground": true,
            "ticks": "",
            "zerolinecolor": "white"
           },
           "yaxis": {
            "backgroundcolor": "#E5ECF6",
            "gridcolor": "white",
            "gridwidth": 2,
            "linecolor": "white",
            "showbackground": true,
            "ticks": "",
            "zerolinecolor": "white"
           },
           "zaxis": {
            "backgroundcolor": "#E5ECF6",
            "gridcolor": "white",
            "gridwidth": 2,
            "linecolor": "white",
            "showbackground": true,
            "ticks": "",
            "zerolinecolor": "white"
           }
          },
          "shapedefaults": {
           "line": {
            "color": "#2a3f5f"
           }
          },
          "ternary": {
           "aaxis": {
            "gridcolor": "white",
            "linecolor": "white",
            "ticks": ""
           },
           "baxis": {
            "gridcolor": "white",
            "linecolor": "white",
            "ticks": ""
           },
           "bgcolor": "#E5ECF6",
           "caxis": {
            "gridcolor": "white",
            "linecolor": "white",
            "ticks": ""
           }
          },
          "title": {
           "x": 0.05
          },
          "xaxis": {
           "automargin": true,
           "gridcolor": "white",
           "linecolor": "white",
           "ticks": "",
           "title": {
            "standoff": 15
           },
           "zerolinecolor": "white",
           "zerolinewidth": 2
          },
          "yaxis": {
           "automargin": true,
           "gridcolor": "white",
           "linecolor": "white",
           "ticks": "",
           "title": {
            "standoff": 15
           },
           "zerolinecolor": "white",
           "zerolinewidth": 2
          }
         }
        },
        "title": {
         "text": "Social Pillar (29)"
        },
        "xaxis": {
         "constrain": "domain",
         "scaleanchor": "y",
         "tickmode": "array",
         "tickvals": [
          2000,
          2001,
          2002,
          2003,
          2004,
          2005,
          2006,
          2007,
          2008,
          2009,
          2010,
          2011,
          2012,
          2013,
          2014,
          2015,
          2016,
          2017,
          2018,
          2019,
          2020
         ],
         "title": {
          "text": "Year"
         }
        },
        "yaxis": {
         "autorange": "reversed",
         "constrain": "domain",
         "tickmode": "array",
         "tickvals": [
          "EG.CFT.ACCS.ZS",
          "EG.ELC.ACCS.ZS",
          "IP.JRN.ARTC.SC",
          "NV.AGR.TOTL.ZS",
          "NY.GDP.MKTP.KD.ZG",
          "SE.ADT.LITR.ZS",
          "SE.ENR.PRSC.FM.ZS",
          "SE.PRM.ENRR",
          "SE.XPD.TOTL.GB.ZS",
          "SG.GEN.PARL.ZS",
          "SH.DTH.COMM.ZS",
          "SH.DYN.MORT",
          "SH.H2O.SMDW.ZS",
          "SH.MED.BEDS.ZS",
          "SH.STA.OWAD.ZS",
          "SH.STA.SMSS.ZS",
          "SI.DST.FRST.20",
          "SI.POV.GINI",
          "SI.POV.NAHC",
          "SI.SPR.PCAP.ZG",
          "SL.TLF.0714.ZS",
          "SL.TLF.ACTI.ZS",
          "SL.TLF.CACT.FM.ZS",
          "SL.UEM.TOTL.ZS",
          "SM.POP.NETM",
          "SN.ITK.DEFC.ZS",
          "SP.DYN.LE00.IN",
          "SP.DYN.TFRT.IN",
          "SP.POP.65UP.TO.ZS"
         ],
         "title": {
          "text": "Indicators"
         }
        }
       }
      },
      "text/html": [
       "<div>                            <div id=\"219a8792-1acd-4280-a8c6-759487feb91c\" class=\"plotly-graph-div\" style=\"height:550px; width:100%;\"></div>            <script type=\"text/javascript\">                require([\"plotly\"], function(Plotly) {                    window.PLOTLYENV=window.PLOTLYENV || {};                                    if (document.getElementById(\"219a8792-1acd-4280-a8c6-759487feb91c\")) {                    Plotly.newPlot(                        \"219a8792-1acd-4280-a8c6-759487feb91c\",                        [{\"coloraxis\": \"coloraxis\", \"customdata\": [[\"Access to clean fuels and technologies for cooking (% of population)\", \"Access to clean fuels and technologies for cooking (% of population)\", \"Access to clean fuels and technologies for cooking (% of population)\", \"Access to clean fuels and technologies for cooking (% of population)\", \"Access to clean fuels and technologies for cooking (% of population)\", \"Access to clean fuels and technologies for cooking (% of population)\", \"Access to clean fuels and technologies for cooking (% of population)\", \"Access to clean fuels and technologies for cooking (% of population)\", \"Access to clean fuels and technologies for cooking (% of population)\", \"Access to clean fuels and technologies for cooking (% of population)\", \"Access to clean fuels and technologies for cooking (% of population)\", \"Access to clean fuels and technologies for cooking (% of population)\", \"Access to clean fuels and technologies for cooking (% of population)\", \"Access to clean fuels and technologies for cooking (% of population)\", \"Access to clean fuels and technologies for cooking (% of population)\", \"Access to clean fuels and technologies for cooking (% of population)\", \"Access to clean fuels and technologies for cooking (% of population)\", \"Access to clean fuels and technologies for cooking (% of population)\", \"Access to clean fuels and technologies for cooking (% of population)\", \"Access to clean fuels and technologies for cooking (% of population)\", \"Access to clean fuels and technologies for cooking (% of population)\"], [\"Access to electricity (% of population)\", \"Access to electricity (% of population)\", \"Access to electricity (% of population)\", \"Access to electricity (% of population)\", \"Access to electricity (% of population)\", \"Access to electricity (% of population)\", \"Access to electricity (% of population)\", \"Access to electricity (% of population)\", \"Access to electricity (% of population)\", \"Access to electricity (% of population)\", \"Access to electricity (% of population)\", \"Access to electricity (% of population)\", \"Access to electricity (% of population)\", \"Access to electricity (% of population)\", \"Access to electricity (% of population)\", \"Access to electricity (% of population)\", \"Access to electricity (% of population)\", \"Access to electricity (% of population)\", \"Access to electricity (% of population)\", \"Access to electricity (% of population)\", \"Access to electricity (% of population)\"], [\"Scientific and technical journal articles\", \"Scientific and technical journal articles\", \"Scientific and technical journal articles\", \"Scientific and technical journal articles\", \"Scientific and technical journal articles\", \"Scientific and technical journal articles\", \"Scientific and technical journal articles\", \"Scientific and technical journal articles\", \"Scientific and technical journal articles\", \"Scientific and technical journal articles\", \"Scientific and technical journal articles\", \"Scientific and technical journal articles\", \"Scientific and technical journal articles\", \"Scientific and technical journal articles\", \"Scientific and technical journal articles\", \"Scientific and technical journal articles\", \"Scientific and technical journal articles\", \"Scientific and technical journal articles\", \"Scientific and technical journal articles\", \"Scientific and technical journal articles\", \"Scientific and technical journal articles\"], [\"Agriculture, forestry, and fishing, value added (% of GDP)\", \"Agriculture, forestry, and fishing, value added (% of GDP)\", \"Agriculture, forestry, and fishing, value added (% of GDP)\", \"Agriculture, forestry, and fishing, value added (% of GDP)\", \"Agriculture, forestry, and fishing, value added (% of GDP)\", \"Agriculture, forestry, and fishing, value added (% of GDP)\", \"Agriculture, forestry, and fishing, value added (% of GDP)\", \"Agriculture, forestry, and fishing, value added (% of GDP)\", \"Agriculture, forestry, and fishing, value added (% of GDP)\", \"Agriculture, forestry, and fishing, value added (% of GDP)\", \"Agriculture, forestry, and fishing, value added (% of GDP)\", \"Agriculture, forestry, and fishing, value added (% of GDP)\", \"Agriculture, forestry, and fishing, value added (% of GDP)\", \"Agriculture, forestry, and fishing, value added (% of GDP)\", \"Agriculture, forestry, and fishing, value added (% of GDP)\", \"Agriculture, forestry, and fishing, value added (% of GDP)\", \"Agriculture, forestry, and fishing, value added (% of GDP)\", \"Agriculture, forestry, and fishing, value added (% of GDP)\", \"Agriculture, forestry, and fishing, value added (% of GDP)\", \"Agriculture, forestry, and fishing, value added (% of GDP)\", \"Agriculture, forestry, and fishing, value added (% of GDP)\"], [\"GDP growth (annual %)\", \"GDP growth (annual %)\", \"GDP growth (annual %)\", \"GDP growth (annual %)\", \"GDP growth (annual %)\", \"GDP growth (annual %)\", \"GDP growth (annual %)\", \"GDP growth (annual %)\", \"GDP growth (annual %)\", \"GDP growth (annual %)\", \"GDP growth (annual %)\", \"GDP growth (annual %)\", \"GDP growth (annual %)\", \"GDP growth (annual %)\", \"GDP growth (annual %)\", \"GDP growth (annual %)\", \"GDP growth (annual %)\", \"GDP growth (annual %)\", \"GDP growth (annual %)\", \"GDP growth (annual %)\", \"GDP growth (annual %)\"], [\"Literacy rate, adult total (% of people ages 15 and above)\", \"Literacy rate, adult total (% of people ages 15 and above)\", \"Literacy rate, adult total (% of people ages 15 and above)\", \"Literacy rate, adult total (% of people ages 15 and above)\", \"Literacy rate, adult total (% of people ages 15 and above)\", \"Literacy rate, adult total (% of people ages 15 and above)\", \"Literacy rate, adult total (% of people ages 15 and above)\", \"Literacy rate, adult total (% of people ages 15 and above)\", \"Literacy rate, adult total (% of people ages 15 and above)\", \"Literacy rate, adult total (% of people ages 15 and above)\", \"Literacy rate, adult total (% of people ages 15 and above)\", \"Literacy rate, adult total (% of people ages 15 and above)\", \"Literacy rate, adult total (% of people ages 15 and above)\", \"Literacy rate, adult total (% of people ages 15 and above)\", \"Literacy rate, adult total (% of people ages 15 and above)\", \"Literacy rate, adult total (% of people ages 15 and above)\", \"Literacy rate, adult total (% of people ages 15 and above)\", \"Literacy rate, adult total (% of people ages 15 and above)\", \"Literacy rate, adult total (% of people ages 15 and above)\", \"Literacy rate, adult total (% of people ages 15 and above)\", \"Literacy rate, adult total (% of people ages 15 and above)\"], [\"School enrollment, primary and secondary (gross), gender parity index (GPI)\", \"School enrollment, primary and secondary (gross), gender parity index (GPI)\", \"School enrollment, primary and secondary (gross), gender parity index (GPI)\", \"School enrollment, primary and secondary (gross), gender parity index (GPI)\", \"School enrollment, primary and secondary (gross), gender parity index (GPI)\", \"School enrollment, primary and secondary (gross), gender parity index (GPI)\", \"School enrollment, primary and secondary (gross), gender parity index (GPI)\", \"School enrollment, primary and secondary (gross), gender parity index (GPI)\", \"School enrollment, primary and secondary (gross), gender parity index (GPI)\", \"School enrollment, primary and secondary (gross), gender parity index (GPI)\", \"School enrollment, primary and secondary (gross), gender parity index (GPI)\", \"School enrollment, primary and secondary (gross), gender parity index (GPI)\", \"School enrollment, primary and secondary (gross), gender parity index (GPI)\", \"School enrollment, primary and secondary (gross), gender parity index (GPI)\", \"School enrollment, primary and secondary (gross), gender parity index (GPI)\", \"School enrollment, primary and secondary (gross), gender parity index (GPI)\", \"School enrollment, primary and secondary (gross), gender parity index (GPI)\", \"School enrollment, primary and secondary (gross), gender parity index (GPI)\", \"School enrollment, primary and secondary (gross), gender parity index (GPI)\", \"School enrollment, primary and secondary (gross), gender parity index (GPI)\", \"School enrollment, primary and secondary (gross), gender parity index (GPI)\"], [\"School enrollment, primary (% gross)\", \"School enrollment, primary (% gross)\", \"School enrollment, primary (% gross)\", \"School enrollment, primary (% gross)\", \"School enrollment, primary (% gross)\", \"School enrollment, primary (% gross)\", \"School enrollment, primary (% gross)\", \"School enrollment, primary (% gross)\", \"School enrollment, primary (% gross)\", \"School enrollment, primary (% gross)\", \"School enrollment, primary (% gross)\", \"School enrollment, primary (% gross)\", \"School enrollment, primary (% gross)\", \"School enrollment, primary (% gross)\", \"School enrollment, primary (% gross)\", \"School enrollment, primary (% gross)\", \"School enrollment, primary (% gross)\", \"School enrollment, primary (% gross)\", \"School enrollment, primary (% gross)\", \"School enrollment, primary (% gross)\", \"School enrollment, primary (% gross)\"], [\"Government expenditure on education, total (% of government expenditure)\", \"Government expenditure on education, total (% of government expenditure)\", \"Government expenditure on education, total (% of government expenditure)\", \"Government expenditure on education, total (% of government expenditure)\", \"Government expenditure on education, total (% of government expenditure)\", \"Government expenditure on education, total (% of government expenditure)\", \"Government expenditure on education, total (% of government expenditure)\", \"Government expenditure on education, total (% of government expenditure)\", \"Government expenditure on education, total (% of government expenditure)\", \"Government expenditure on education, total (% of government expenditure)\", \"Government expenditure on education, total (% of government expenditure)\", \"Government expenditure on education, total (% of government expenditure)\", \"Government expenditure on education, total (% of government expenditure)\", \"Government expenditure on education, total (% of government expenditure)\", \"Government expenditure on education, total (% of government expenditure)\", \"Government expenditure on education, total (% of government expenditure)\", \"Government expenditure on education, total (% of government expenditure)\", \"Government expenditure on education, total (% of government expenditure)\", \"Government expenditure on education, total (% of government expenditure)\", \"Government expenditure on education, total (% of government expenditure)\", \"Government expenditure on education, total (% of government expenditure)\"], [\"Proportion of seats held by women in national parliaments (%)\", \"Proportion of seats held by women in national parliaments (%)\", \"Proportion of seats held by women in national parliaments (%)\", \"Proportion of seats held by women in national parliaments (%)\", \"Proportion of seats held by women in national parliaments (%)\", \"Proportion of seats held by women in national parliaments (%)\", \"Proportion of seats held by women in national parliaments (%)\", \"Proportion of seats held by women in national parliaments (%)\", \"Proportion of seats held by women in national parliaments (%)\", \"Proportion of seats held by women in national parliaments (%)\", \"Proportion of seats held by women in national parliaments (%)\", \"Proportion of seats held by women in national parliaments (%)\", \"Proportion of seats held by women in national parliaments (%)\", \"Proportion of seats held by women in national parliaments (%)\", \"Proportion of seats held by women in national parliaments (%)\", \"Proportion of seats held by women in national parliaments (%)\", \"Proportion of seats held by women in national parliaments (%)\", \"Proportion of seats held by women in national parliaments (%)\", \"Proportion of seats held by women in national parliaments (%)\", \"Proportion of seats held by women in national parliaments (%)\", \"Proportion of seats held by women in national parliaments (%)\"], [\"Cause of death, by communicable diseases and maternal, prenatal and nutrition conditions (% of total)\", \"Cause of death, by communicable diseases and maternal, prenatal and nutrition conditions (% of total)\", \"Cause of death, by communicable diseases and maternal, prenatal and nutrition conditions (% of total)\", \"Cause of death, by communicable diseases and maternal, prenatal and nutrition conditions (% of total)\", \"Cause of death, by communicable diseases and maternal, prenatal and nutrition conditions (% of total)\", \"Cause of death, by communicable diseases and maternal, prenatal and nutrition conditions (% of total)\", \"Cause of death, by communicable diseases and maternal, prenatal and nutrition conditions (% of total)\", \"Cause of death, by communicable diseases and maternal, prenatal and nutrition conditions (% of total)\", \"Cause of death, by communicable diseases and maternal, prenatal and nutrition conditions (% of total)\", \"Cause of death, by communicable diseases and maternal, prenatal and nutrition conditions (% of total)\", \"Cause of death, by communicable diseases and maternal, prenatal and nutrition conditions (% of total)\", \"Cause of death, by communicable diseases and maternal, prenatal and nutrition conditions (% of total)\", \"Cause of death, by communicable diseases and maternal, prenatal and nutrition conditions (% of total)\", \"Cause of death, by communicable diseases and maternal, prenatal and nutrition conditions (% of total)\", \"Cause of death, by communicable diseases and maternal, prenatal and nutrition conditions (% of total)\", \"Cause of death, by communicable diseases and maternal, prenatal and nutrition conditions (% of total)\", \"Cause of death, by communicable diseases and maternal, prenatal and nutrition conditions (% of total)\", \"Cause of death, by communicable diseases and maternal, prenatal and nutrition conditions (% of total)\", \"Cause of death, by communicable diseases and maternal, prenatal and nutrition conditions (% of total)\", \"Cause of death, by communicable diseases and maternal, prenatal and nutrition conditions (% of total)\", \"Cause of death, by communicable diseases and maternal, prenatal and nutrition conditions (% of total)\"], [\"Mortality rate, under-5 (per 1,000 live births)\", \"Mortality rate, under-5 (per 1,000 live births)\", \"Mortality rate, under-5 (per 1,000 live births)\", \"Mortality rate, under-5 (per 1,000 live births)\", \"Mortality rate, under-5 (per 1,000 live births)\", \"Mortality rate, under-5 (per 1,000 live births)\", \"Mortality rate, under-5 (per 1,000 live births)\", \"Mortality rate, under-5 (per 1,000 live births)\", \"Mortality rate, under-5 (per 1,000 live births)\", \"Mortality rate, under-5 (per 1,000 live births)\", \"Mortality rate, under-5 (per 1,000 live births)\", \"Mortality rate, under-5 (per 1,000 live births)\", \"Mortality rate, under-5 (per 1,000 live births)\", \"Mortality rate, under-5 (per 1,000 live births)\", \"Mortality rate, under-5 (per 1,000 live births)\", \"Mortality rate, under-5 (per 1,000 live births)\", \"Mortality rate, under-5 (per 1,000 live births)\", \"Mortality rate, under-5 (per 1,000 live births)\", \"Mortality rate, under-5 (per 1,000 live births)\", \"Mortality rate, under-5 (per 1,000 live births)\", \"Mortality rate, under-5 (per 1,000 live births)\"], [\"People using safely managed drinking water services (% of population)\", \"People using safely managed drinking water services (% of population)\", \"People using safely managed drinking water services (% of population)\", \"People using safely managed drinking water services (% of population)\", \"People using safely managed drinking water services (% of population)\", \"People using safely managed drinking water services (% of population)\", \"People using safely managed drinking water services (% of population)\", \"People using safely managed drinking water services (% of population)\", \"People using safely managed drinking water services (% of population)\", \"People using safely managed drinking water services (% of population)\", \"People using safely managed drinking water services (% of population)\", \"People using safely managed drinking water services (% of population)\", \"People using safely managed drinking water services (% of population)\", \"People using safely managed drinking water services (% of population)\", \"People using safely managed drinking water services (% of population)\", \"People using safely managed drinking water services (% of population)\", \"People using safely managed drinking water services (% of population)\", \"People using safely managed drinking water services (% of population)\", \"People using safely managed drinking water services (% of population)\", \"People using safely managed drinking water services (% of population)\", \"People using safely managed drinking water services (% of population)\"], [\"Hospital beds (per 1,000 people)\", \"Hospital beds (per 1,000 people)\", \"Hospital beds (per 1,000 people)\", \"Hospital beds (per 1,000 people)\", \"Hospital beds (per 1,000 people)\", \"Hospital beds (per 1,000 people)\", \"Hospital beds (per 1,000 people)\", \"Hospital beds (per 1,000 people)\", \"Hospital beds (per 1,000 people)\", \"Hospital beds (per 1,000 people)\", \"Hospital beds (per 1,000 people)\", \"Hospital beds (per 1,000 people)\", \"Hospital beds (per 1,000 people)\", \"Hospital beds (per 1,000 people)\", \"Hospital beds (per 1,000 people)\", \"Hospital beds (per 1,000 people)\", \"Hospital beds (per 1,000 people)\", \"Hospital beds (per 1,000 people)\", \"Hospital beds (per 1,000 people)\", \"Hospital beds (per 1,000 people)\", \"Hospital beds (per 1,000 people)\"], [\"Prevalence of overweight (% of adults)\", \"Prevalence of overweight (% of adults)\", \"Prevalence of overweight (% of adults)\", \"Prevalence of overweight (% of adults)\", \"Prevalence of overweight (% of adults)\", \"Prevalence of overweight (% of adults)\", \"Prevalence of overweight (% of adults)\", \"Prevalence of overweight (% of adults)\", \"Prevalence of overweight (% of adults)\", \"Prevalence of overweight (% of adults)\", \"Prevalence of overweight (% of adults)\", \"Prevalence of overweight (% of adults)\", \"Prevalence of overweight (% of adults)\", \"Prevalence of overweight (% of adults)\", \"Prevalence of overweight (% of adults)\", \"Prevalence of overweight (% of adults)\", \"Prevalence of overweight (% of adults)\", \"Prevalence of overweight (% of adults)\", \"Prevalence of overweight (% of adults)\", \"Prevalence of overweight (% of adults)\", \"Prevalence of overweight (% of adults)\"], [\"People using safely managed sanitation services (% of population)\", \"People using safely managed sanitation services (% of population)\", \"People using safely managed sanitation services (% of population)\", \"People using safely managed sanitation services (% of population)\", \"People using safely managed sanitation services (% of population)\", \"People using safely managed sanitation services (% of population)\", \"People using safely managed sanitation services (% of population)\", \"People using safely managed sanitation services (% of population)\", \"People using safely managed sanitation services (% of population)\", \"People using safely managed sanitation services (% of population)\", \"People using safely managed sanitation services (% of population)\", \"People using safely managed sanitation services (% of population)\", \"People using safely managed sanitation services (% of population)\", \"People using safely managed sanitation services (% of population)\", \"People using safely managed sanitation services (% of population)\", \"People using safely managed sanitation services (% of population)\", \"People using safely managed sanitation services (% of population)\", \"People using safely managed sanitation services (% of population)\", \"People using safely managed sanitation services (% of population)\", \"People using safely managed sanitation services (% of population)\", \"People using safely managed sanitation services (% of population)\"], [\"Income share held by lowest 20%\", \"Income share held by lowest 20%\", \"Income share held by lowest 20%\", \"Income share held by lowest 20%\", \"Income share held by lowest 20%\", \"Income share held by lowest 20%\", \"Income share held by lowest 20%\", \"Income share held by lowest 20%\", \"Income share held by lowest 20%\", \"Income share held by lowest 20%\", \"Income share held by lowest 20%\", \"Income share held by lowest 20%\", \"Income share held by lowest 20%\", \"Income share held by lowest 20%\", \"Income share held by lowest 20%\", \"Income share held by lowest 20%\", \"Income share held by lowest 20%\", \"Income share held by lowest 20%\", \"Income share held by lowest 20%\", \"Income share held by lowest 20%\", \"Income share held by lowest 20%\"], [\"Gini index (World Bank estimate)\", \"Gini index (World Bank estimate)\", \"Gini index (World Bank estimate)\", \"Gini index (World Bank estimate)\", \"Gini index (World Bank estimate)\", \"Gini index (World Bank estimate)\", \"Gini index (World Bank estimate)\", \"Gini index (World Bank estimate)\", \"Gini index (World Bank estimate)\", \"Gini index (World Bank estimate)\", \"Gini index (World Bank estimate)\", \"Gini index (World Bank estimate)\", \"Gini index (World Bank estimate)\", \"Gini index (World Bank estimate)\", \"Gini index (World Bank estimate)\", \"Gini index (World Bank estimate)\", \"Gini index (World Bank estimate)\", \"Gini index (World Bank estimate)\", \"Gini index (World Bank estimate)\", \"Gini index (World Bank estimate)\", \"Gini index (World Bank estimate)\"], [\"Poverty headcount ratio at national poverty lines (% of population)\", \"Poverty headcount ratio at national poverty lines (% of population)\", \"Poverty headcount ratio at national poverty lines (% of population)\", \"Poverty headcount ratio at national poverty lines (% of population)\", \"Poverty headcount ratio at national poverty lines (% of population)\", \"Poverty headcount ratio at national poverty lines (% of population)\", \"Poverty headcount ratio at national poverty lines (% of population)\", \"Poverty headcount ratio at national poverty lines (% of population)\", \"Poverty headcount ratio at national poverty lines (% of population)\", \"Poverty headcount ratio at national poverty lines (% of population)\", \"Poverty headcount ratio at national poverty lines (% of population)\", \"Poverty headcount ratio at national poverty lines (% of population)\", \"Poverty headcount ratio at national poverty lines (% of population)\", \"Poverty headcount ratio at national poverty lines (% of population)\", \"Poverty headcount ratio at national poverty lines (% of population)\", \"Poverty headcount ratio at national poverty lines (% of population)\", \"Poverty headcount ratio at national poverty lines (% of population)\", \"Poverty headcount ratio at national poverty lines (% of population)\", \"Poverty headcount ratio at national poverty lines (% of population)\", \"Poverty headcount ratio at national poverty lines (% of population)\", \"Poverty headcount ratio at national poverty lines (% of population)\"], [\"Annualized average growth rate in per capita real survey mean consumption or income, total population (%)\", \"Annualized average growth rate in per capita real survey mean consumption or income, total population (%)\", \"Annualized average growth rate in per capita real survey mean consumption or income, total population (%)\", \"Annualized average growth rate in per capita real survey mean consumption or income, total population (%)\", \"Annualized average growth rate in per capita real survey mean consumption or income, total population (%)\", \"Annualized average growth rate in per capita real survey mean consumption or income, total population (%)\", \"Annualized average growth rate in per capita real survey mean consumption or income, total population (%)\", \"Annualized average growth rate in per capita real survey mean consumption or income, total population (%)\", \"Annualized average growth rate in per capita real survey mean consumption or income, total population (%)\", \"Annualized average growth rate in per capita real survey mean consumption or income, total population (%)\", \"Annualized average growth rate in per capita real survey mean consumption or income, total population (%)\", \"Annualized average growth rate in per capita real survey mean consumption or income, total population (%)\", \"Annualized average growth rate in per capita real survey mean consumption or income, total population (%)\", \"Annualized average growth rate in per capita real survey mean consumption or income, total population (%)\", \"Annualized average growth rate in per capita real survey mean consumption or income, total population (%)\", \"Annualized average growth rate in per capita real survey mean consumption or income, total population (%)\", \"Annualized average growth rate in per capita real survey mean consumption or income, total population (%)\", \"Annualized average growth rate in per capita real survey mean consumption or income, total population (%)\", \"Annualized average growth rate in per capita real survey mean consumption or income, total population (%)\", \"Annualized average growth rate in per capita real survey mean consumption or income, total population (%)\", \"Annualized average growth rate in per capita real survey mean consumption or income, total population (%)\"], [\"Children in employment, total (% of children ages 7-14)\", \"Children in employment, total (% of children ages 7-14)\", \"Children in employment, total (% of children ages 7-14)\", \"Children in employment, total (% of children ages 7-14)\", \"Children in employment, total (% of children ages 7-14)\", \"Children in employment, total (% of children ages 7-14)\", \"Children in employment, total (% of children ages 7-14)\", \"Children in employment, total (% of children ages 7-14)\", \"Children in employment, total (% of children ages 7-14)\", \"Children in employment, total (% of children ages 7-14)\", \"Children in employment, total (% of children ages 7-14)\", \"Children in employment, total (% of children ages 7-14)\", \"Children in employment, total (% of children ages 7-14)\", \"Children in employment, total (% of children ages 7-14)\", \"Children in employment, total (% of children ages 7-14)\", \"Children in employment, total (% of children ages 7-14)\", \"Children in employment, total (% of children ages 7-14)\", \"Children in employment, total (% of children ages 7-14)\", \"Children in employment, total (% of children ages 7-14)\", \"Children in employment, total (% of children ages 7-14)\", \"Children in employment, total (% of children ages 7-14)\"], [\"Labor force participation rate, total (% of total population ages 15-64) (modeled ILO estimate)\", \"Labor force participation rate, total (% of total population ages 15-64) (modeled ILO estimate)\", \"Labor force participation rate, total (% of total population ages 15-64) (modeled ILO estimate)\", \"Labor force participation rate, total (% of total population ages 15-64) (modeled ILO estimate)\", \"Labor force participation rate, total (% of total population ages 15-64) (modeled ILO estimate)\", \"Labor force participation rate, total (% of total population ages 15-64) (modeled ILO estimate)\", \"Labor force participation rate, total (% of total population ages 15-64) (modeled ILO estimate)\", \"Labor force participation rate, total (% of total population ages 15-64) (modeled ILO estimate)\", \"Labor force participation rate, total (% of total population ages 15-64) (modeled ILO estimate)\", \"Labor force participation rate, total (% of total population ages 15-64) (modeled ILO estimate)\", \"Labor force participation rate, total (% of total population ages 15-64) (modeled ILO estimate)\", \"Labor force participation rate, total (% of total population ages 15-64) (modeled ILO estimate)\", \"Labor force participation rate, total (% of total population ages 15-64) (modeled ILO estimate)\", \"Labor force participation rate, total (% of total population ages 15-64) (modeled ILO estimate)\", \"Labor force participation rate, total (% of total population ages 15-64) (modeled ILO estimate)\", \"Labor force participation rate, total (% of total population ages 15-64) (modeled ILO estimate)\", \"Labor force participation rate, total (% of total population ages 15-64) (modeled ILO estimate)\", \"Labor force participation rate, total (% of total population ages 15-64) (modeled ILO estimate)\", \"Labor force participation rate, total (% of total population ages 15-64) (modeled ILO estimate)\", \"Labor force participation rate, total (% of total population ages 15-64) (modeled ILO estimate)\", \"Labor force participation rate, total (% of total population ages 15-64) (modeled ILO estimate)\"], [\"Ratio of female to male labor force participation rate (%) (modeled ILO estimate)\", \"Ratio of female to male labor force participation rate (%) (modeled ILO estimate)\", \"Ratio of female to male labor force participation rate (%) (modeled ILO estimate)\", \"Ratio of female to male labor force participation rate (%) (modeled ILO estimate)\", \"Ratio of female to male labor force participation rate (%) (modeled ILO estimate)\", \"Ratio of female to male labor force participation rate (%) (modeled ILO estimate)\", \"Ratio of female to male labor force participation rate (%) (modeled ILO estimate)\", \"Ratio of female to male labor force participation rate (%) (modeled ILO estimate)\", \"Ratio of female to male labor force participation rate (%) (modeled ILO estimate)\", \"Ratio of female to male labor force participation rate (%) (modeled ILO estimate)\", \"Ratio of female to male labor force participation rate (%) (modeled ILO estimate)\", \"Ratio of female to male labor force participation rate (%) (modeled ILO estimate)\", \"Ratio of female to male labor force participation rate (%) (modeled ILO estimate)\", \"Ratio of female to male labor force participation rate (%) (modeled ILO estimate)\", \"Ratio of female to male labor force participation rate (%) (modeled ILO estimate)\", \"Ratio of female to male labor force participation rate (%) (modeled ILO estimate)\", \"Ratio of female to male labor force participation rate (%) (modeled ILO estimate)\", \"Ratio of female to male labor force participation rate (%) (modeled ILO estimate)\", \"Ratio of female to male labor force participation rate (%) (modeled ILO estimate)\", \"Ratio of female to male labor force participation rate (%) (modeled ILO estimate)\", \"Ratio of female to male labor force participation rate (%) (modeled ILO estimate)\"], [\"Unemployment, total (% of total labor force) (modeled ILO estimate)\", \"Unemployment, total (% of total labor force) (modeled ILO estimate)\", \"Unemployment, total (% of total labor force) (modeled ILO estimate)\", \"Unemployment, total (% of total labor force) (modeled ILO estimate)\", \"Unemployment, total (% of total labor force) (modeled ILO estimate)\", \"Unemployment, total (% of total labor force) (modeled ILO estimate)\", \"Unemployment, total (% of total labor force) (modeled ILO estimate)\", \"Unemployment, total (% of total labor force) (modeled ILO estimate)\", \"Unemployment, total (% of total labor force) (modeled ILO estimate)\", \"Unemployment, total (% of total labor force) (modeled ILO estimate)\", \"Unemployment, total (% of total labor force) (modeled ILO estimate)\", \"Unemployment, total (% of total labor force) (modeled ILO estimate)\", \"Unemployment, total (% of total labor force) (modeled ILO estimate)\", \"Unemployment, total (% of total labor force) (modeled ILO estimate)\", \"Unemployment, total (% of total labor force) (modeled ILO estimate)\", \"Unemployment, total (% of total labor force) (modeled ILO estimate)\", \"Unemployment, total (% of total labor force) (modeled ILO estimate)\", \"Unemployment, total (% of total labor force) (modeled ILO estimate)\", \"Unemployment, total (% of total labor force) (modeled ILO estimate)\", \"Unemployment, total (% of total labor force) (modeled ILO estimate)\", \"Unemployment, total (% of total labor force) (modeled ILO estimate)\"], [\"Net migration\", \"Net migration\", \"Net migration\", \"Net migration\", \"Net migration\", \"Net migration\", \"Net migration\", \"Net migration\", \"Net migration\", \"Net migration\", \"Net migration\", \"Net migration\", \"Net migration\", \"Net migration\", \"Net migration\", \"Net migration\", \"Net migration\", \"Net migration\", \"Net migration\", \"Net migration\", \"Net migration\"], [\"Prevalence of undernourishment (% of population)\", \"Prevalence of undernourishment (% of population)\", \"Prevalence of undernourishment (% of population)\", \"Prevalence of undernourishment (% of population)\", \"Prevalence of undernourishment (% of population)\", \"Prevalence of undernourishment (% of population)\", \"Prevalence of undernourishment (% of population)\", \"Prevalence of undernourishment (% of population)\", \"Prevalence of undernourishment (% of population)\", \"Prevalence of undernourishment (% of population)\", \"Prevalence of undernourishment (% of population)\", \"Prevalence of undernourishment (% of population)\", \"Prevalence of undernourishment (% of population)\", \"Prevalence of undernourishment (% of population)\", \"Prevalence of undernourishment (% of population)\", \"Prevalence of undernourishment (% of population)\", \"Prevalence of undernourishment (% of population)\", \"Prevalence of undernourishment (% of population)\", \"Prevalence of undernourishment (% of population)\", \"Prevalence of undernourishment (% of population)\", \"Prevalence of undernourishment (% of population)\"], [\"Life expectancy at birth, total (years)\", \"Life expectancy at birth, total (years)\", \"Life expectancy at birth, total (years)\", \"Life expectancy at birth, total (years)\", \"Life expectancy at birth, total (years)\", \"Life expectancy at birth, total (years)\", \"Life expectancy at birth, total (years)\", \"Life expectancy at birth, total (years)\", \"Life expectancy at birth, total (years)\", \"Life expectancy at birth, total (years)\", \"Life expectancy at birth, total (years)\", \"Life expectancy at birth, total (years)\", \"Life expectancy at birth, total (years)\", \"Life expectancy at birth, total (years)\", \"Life expectancy at birth, total (years)\", \"Life expectancy at birth, total (years)\", \"Life expectancy at birth, total (years)\", \"Life expectancy at birth, total (years)\", \"Life expectancy at birth, total (years)\", \"Life expectancy at birth, total (years)\", \"Life expectancy at birth, total (years)\"], [\"Fertility rate, total (births per woman)\", \"Fertility rate, total (births per woman)\", \"Fertility rate, total (births per woman)\", \"Fertility rate, total (births per woman)\", \"Fertility rate, total (births per woman)\", \"Fertility rate, total (births per woman)\", \"Fertility rate, total (births per woman)\", \"Fertility rate, total (births per woman)\", \"Fertility rate, total (births per woman)\", \"Fertility rate, total (births per woman)\", \"Fertility rate, total (births per woman)\", \"Fertility rate, total (births per woman)\", \"Fertility rate, total (births per woman)\", \"Fertility rate, total (births per woman)\", \"Fertility rate, total (births per woman)\", \"Fertility rate, total (births per woman)\", \"Fertility rate, total (births per woman)\", \"Fertility rate, total (births per woman)\", \"Fertility rate, total (births per woman)\", \"Fertility rate, total (births per woman)\", \"Fertility rate, total (births per woman)\"], [\"Population ages 65 and above (% of total population)\", \"Population ages 65 and above (% of total population)\", \"Population ages 65 and above (% of total population)\", \"Population ages 65 and above (% of total population)\", \"Population ages 65 and above (% of total population)\", \"Population ages 65 and above (% of total population)\", \"Population ages 65 and above (% of total population)\", \"Population ages 65 and above (% of total population)\", \"Population ages 65 and above (% of total population)\", \"Population ages 65 and above (% of total population)\", \"Population ages 65 and above (% of total population)\", \"Population ages 65 and above (% of total population)\", \"Population ages 65 and above (% of total population)\", \"Population ages 65 and above (% of total population)\", \"Population ages 65 and above (% of total population)\", \"Population ages 65 and above (% of total population)\", \"Population ages 65 and above (% of total population)\", \"Population ages 65 and above (% of total population)\", \"Population ages 65 and above (% of total population)\", \"Population ages 65 and above (% of total population)\", \"Population ages 65 and above (% of total population)\"]], \"hovertemplate\": \"Year: %{x}<br>Indicator: %{customdata}<br>CETS ID: %{y}<br>Countries: %{z}<extra></extra>\", \"type\": \"heatmap\", \"x\": [2000, 2001, 2002, 2003, 2004, 2005, 2006, 2007, 2008, 2009, 2010, 2011, 2012, 2013, 2014, 2015, 2016, 2017, 2018, 2019, 2020], \"y\": [\"EG.CFT.ACCS.ZS\", \"EG.ELC.ACCS.ZS\", \"IP.JRN.ARTC.SC\", \"NV.AGR.TOTL.ZS\", \"NY.GDP.MKTP.KD.ZG\", \"SE.ADT.LITR.ZS\", \"SE.ENR.PRSC.FM.ZS\", \"SE.PRM.ENRR\", \"SE.XPD.TOTL.GB.ZS\", \"SG.GEN.PARL.ZS\", \"SH.DTH.COMM.ZS\", \"SH.DYN.MORT\", \"SH.H2O.SMDW.ZS\", \"SH.MED.BEDS.ZS\", \"SH.STA.OWAD.ZS\", \"SH.STA.SMSS.ZS\", \"SI.DST.FRST.20\", \"SI.POV.GINI\", \"SI.POV.NAHC\", \"SI.SPR.PCAP.ZG\", \"SL.TLF.0714.ZS\", \"SL.TLF.ACTI.ZS\", \"SL.TLF.CACT.FM.ZS\", \"SL.UEM.TOTL.ZS\", \"SM.POP.NETM\", \"SN.ITK.DEFC.ZS\", \"SP.DYN.LE00.IN\", \"SP.DYN.TFRT.IN\", \"SP.POP.65UP.TO.ZS\"], \"z\": [[189.0, 189.0, 189.0, 189.0, 189.0, 189.0, 189.0, 189.0, 189.0, 189.0, 189.0, 189.0, 189.0, 189.0, 189.0, 189.0, 189.0, null, null, null, null], [167.0, 173.0, 179.0, 179.0, 181.0, 184.0, 186.0, 186.0, 188.0, 191.0, 192.0, 193.0, 193.0, 193.0, 193.0, 193.0, 193.0, 193.0, 193.0, 193.0, null], [193.0, 193.0, 193.0, 193.0, 193.0, 193.0, 193.0, 193.0, 193.0, 193.0, 193.0, 193.0, 193.0, 193.0, 193.0, 193.0, 193.0, 193.0, 193.0, null, null], [175.0, 176.0, 178.0, 179.0, 179.0, 178.0, 181.0, 180.0, 180.0, 180.0, 179.0, 179.0, 180.0, 182.0, 182.0, 182.0, 179.0, 179.0, 178.0, 168.0, 145.0], [182.0, 186.0, 187.0, 188.0, 188.0, 189.0, 189.0, 189.0, 188.0, 189.0, 188.0, 188.0, 187.0, 187.0, 189.0, 188.0, 187.0, 187.0, 187.0, 186.0, 173.0], [44.0, 30.0, 20.0, 12.0, 24.0, 22.0, 27.0, 35.0, 33.0, 34.0, 50.0, 57.0, 45.0, 33.0, 51.0, 41.0, 34.0, 32.0, 77.0, 1.0, null], [132.0, 129.0, 130.0, 126.0, 138.0, 140.0, 134.0, 138.0, 136.0, 133.0, 134.0, 138.0, 130.0, 116.0, 126.0, 129.0, 125.0, 122.0, 113.0, 55.0, 1.0], [161.0, 159.0, 164.0, 158.0, 162.0, 166.0, 158.0, 168.0, 164.0, 161.0, 153.0, 158.0, 158.0, 145.0, 151.0, 155.0, 153.0, 145.0, 133.0, 71.0, 2.0], [111.0, 105.0, 114.0, 101.0, 113.0, 103.0, 101.0, 100.0, 113.0, 110.0, 116.0, 112.0, 106.0, 112.0, 108.0, 102.0, 104.0, 112.0, 60.0, 16.0, null], [157.0, 167.0, 161.0, 174.0, 181.0, 185.0, 189.0, 188.0, 187.0, 187.0, 187.0, 188.0, 189.0, 184.0, 187.0, 189.0, 192.0, 190.0, 191.0, 192.0, 190.0], [183.0, null, null, null, null, null, null, null, null, null, 183.0, null, null, null, null, 183.0, null, null, null, 183.0, null], [192.0, 192.0, 192.0, 192.0, 192.0, 192.0, 192.0, 192.0, 192.0, 192.0, 192.0, 192.0, 192.0, 192.0, 192.0, 192.0, 192.0, 192.0, 192.0, 192.0, null], [93.0, 94.0, 95.0, 95.0, 95.0, 97.0, 98.0, 98.0, 98.0, 98.0, 98.0, 98.0, 98.0, 98.0, 98.0, 98.0, 98.0, 98.0, null, null, null], [99.0, 103.0, 113.0, 108.0, 109.0, 132.0, 133.0, 119.0, 114.0, 126.0, 139.0, 134.0, 118.0, 112.0, 112.0, 107.0, 104.0, 98.0, 36.0, 8.0, null], [188.0, 188.0, 188.0, 188.0, 188.0, 188.0, 188.0, 188.0, 188.0, 188.0, 188.0, 188.0, 188.0, 188.0, 188.0, 188.0, 188.0, null, null, null, null], [85.0, 87.0, 87.0, 87.0, 87.0, 88.0, 89.0, 89.0, 89.0, 89.0, 89.0, 89.0, 89.0, 89.0, 89.0, 89.0, 89.0, 89.0, null, null, null], [50.0, 36.0, 53.0, 58.0, 69.0, 74.0, 73.0, 69.0, 73.0, 76.0, 81.0, 75.0, 83.0, 75.0, 82.0, 81.0, 78.0, 70.0, 64.0, 21.0, null], [50.0, 36.0, 53.0, 58.0, 69.0, 74.0, 73.0, 69.0, 73.0, 76.0, 81.0, 75.0, 83.0, 75.0, 82.0, 81.0, 79.0, 71.0, 64.0, 22.0, null], [19.0, 16.0, 21.0, 24.0, 33.0, 47.0, 47.0, 47.0, 46.0, 54.0, 58.0, 56.0, 61.0, 53.0, 59.0, 70.0, 69.0, 64.0, 69.0, 25.0, null], [null, null, null, null, null, null, null, null, null, null, null, null, null, null, null, 1.0, 11.0, 12.0, 42.0, 19.0, null], [24.0, 9.0, 4.0, 8.0, 11.0, 26.0, 31.0, 19.0, 12.0, 15.0, 21.0, 22.0, 24.0, 11.0, 18.0, 10.0, 2.0, null, null, null, null], [178.0, 178.0, 178.0, 178.0, 178.0, 178.0, 178.0, 178.0, 178.0, 178.0, 178.0, 178.0, 178.0, 178.0, 178.0, 178.0, 178.0, 178.0, 178.0, 178.0, null], [178.0, 178.0, 178.0, 178.0, 178.0, 178.0, 178.0, 178.0, 178.0, 178.0, 178.0, 178.0, 178.0, 178.0, 178.0, 178.0, 178.0, 178.0, 178.0, 178.0, null], [178.0, 178.0, 178.0, 178.0, 178.0, 178.0, 178.0, 178.0, 178.0, 178.0, 178.0, 178.0, 178.0, 178.0, 178.0, 178.0, 178.0, 178.0, 178.0, 178.0, 178.0], [null, null, 183.0, null, null, null, null, 183.0, null, null, null, null, 183.0, null, null, null, null, 183.0, null, null, null], [null, 150.0, 150.0, 150.0, 150.0, 150.0, 150.0, 150.0, 150.0, 150.0, 150.0, 150.0, 150.0, 150.0, 150.0, 150.0, 150.0, 150.0, 150.0, null, null], [186.0, 184.0, 186.0, 184.0, 184.0, 185.0, 184.0, 184.0, 184.0, 184.0, 184.0, 184.0, 185.0, 184.0, 184.0, 184.0, 184.0, 184.0, 184.0, 184.0, null], [185.0, 184.0, 186.0, 185.0, 184.0, 186.0, 186.0, 186.0, 185.0, 185.0, 185.0, 185.0, 186.0, 184.0, 184.0, 185.0, 184.0, 184.0, 184.0, 184.0, null], [183.0, 183.0, 183.0, 183.0, 183.0, 183.0, 183.0, 183.0, 183.0, 183.0, 183.0, 183.0, 183.0, 183.0, 183.0, 183.0, 183.0, 183.0, 183.0, 183.0, 183.0]]}],                        {\"coloraxis\": {\"cmax\": 193, \"cmin\": 0, \"colorscale\": [[0.0, \"#0d0887\"], [0.1111111111111111, \"#46039f\"], [0.2222222222222222, \"#7201a8\"], [0.3333333333333333, \"#9c179e\"], [0.4444444444444444, \"#bd3786\"], [0.5555555555555556, \"#d8576b\"], [0.6666666666666666, \"#ed7953\"], [0.7777777777777778, \"#fb9f3a\"], [0.8888888888888888, \"#fdca26\"], [1.0, \"#f0f921\"]]}, \"height\": 550, \"template\": {\"data\": {\"bar\": [{\"error_x\": {\"color\": \"#2a3f5f\"}, \"error_y\": {\"color\": \"#2a3f5f\"}, \"marker\": {\"line\": {\"color\": \"#E5ECF6\", \"width\": 0.5}}, \"type\": \"bar\"}], \"barpolar\": [{\"marker\": {\"line\": {\"color\": \"#E5ECF6\", \"width\": 0.5}}, \"type\": \"barpolar\"}], \"carpet\": [{\"aaxis\": {\"endlinecolor\": \"#2a3f5f\", \"gridcolor\": \"white\", \"linecolor\": \"white\", \"minorgridcolor\": \"white\", \"startlinecolor\": \"#2a3f5f\"}, \"baxis\": {\"endlinecolor\": \"#2a3f5f\", \"gridcolor\": \"white\", \"linecolor\": \"white\", \"minorgridcolor\": \"white\", \"startlinecolor\": \"#2a3f5f\"}, \"type\": \"carpet\"}], \"choropleth\": [{\"colorbar\": {\"outlinewidth\": 0, \"ticks\": \"\"}, \"type\": \"choropleth\"}], \"contour\": [{\"colorbar\": {\"outlinewidth\": 0, \"ticks\": \"\"}, \"colorscale\": [[0.0, \"#0d0887\"], [0.1111111111111111, \"#46039f\"], [0.2222222222222222, \"#7201a8\"], [0.3333333333333333, \"#9c179e\"], [0.4444444444444444, \"#bd3786\"], [0.5555555555555556, \"#d8576b\"], [0.6666666666666666, \"#ed7953\"], [0.7777777777777778, \"#fb9f3a\"], [0.8888888888888888, \"#fdca26\"], [1.0, \"#f0f921\"]], \"type\": \"contour\"}], \"contourcarpet\": [{\"colorbar\": {\"outlinewidth\": 0, \"ticks\": \"\"}, \"type\": \"contourcarpet\"}], \"heatmap\": [{\"colorbar\": {\"outlinewidth\": 0, \"ticks\": \"\"}, \"colorscale\": [[0.0, \"#0d0887\"], [0.1111111111111111, \"#46039f\"], [0.2222222222222222, \"#7201a8\"], [0.3333333333333333, \"#9c179e\"], [0.4444444444444444, \"#bd3786\"], [0.5555555555555556, \"#d8576b\"], [0.6666666666666666, \"#ed7953\"], [0.7777777777777778, \"#fb9f3a\"], [0.8888888888888888, \"#fdca26\"], [1.0, \"#f0f921\"]], \"type\": \"heatmap\"}], \"heatmapgl\": [{\"colorbar\": {\"outlinewidth\": 0, \"ticks\": \"\"}, \"colorscale\": [[0.0, \"#0d0887\"], [0.1111111111111111, \"#46039f\"], [0.2222222222222222, \"#7201a8\"], [0.3333333333333333, \"#9c179e\"], [0.4444444444444444, \"#bd3786\"], [0.5555555555555556, \"#d8576b\"], [0.6666666666666666, \"#ed7953\"], [0.7777777777777778, \"#fb9f3a\"], [0.8888888888888888, \"#fdca26\"], [1.0, \"#f0f921\"]], \"type\": \"heatmapgl\"}], \"histogram\": [{\"marker\": {\"colorbar\": {\"outlinewidth\": 0, \"ticks\": \"\"}}, \"type\": \"histogram\"}], \"histogram2d\": [{\"colorbar\": {\"outlinewidth\": 0, \"ticks\": \"\"}, \"colorscale\": [[0.0, \"#0d0887\"], [0.1111111111111111, \"#46039f\"], [0.2222222222222222, \"#7201a8\"], [0.3333333333333333, \"#9c179e\"], [0.4444444444444444, \"#bd3786\"], [0.5555555555555556, \"#d8576b\"], [0.6666666666666666, \"#ed7953\"], [0.7777777777777778, \"#fb9f3a\"], [0.8888888888888888, \"#fdca26\"], [1.0, \"#f0f921\"]], \"type\": \"histogram2d\"}], \"histogram2dcontour\": [{\"colorbar\": {\"outlinewidth\": 0, \"ticks\": \"\"}, \"colorscale\": [[0.0, \"#0d0887\"], [0.1111111111111111, \"#46039f\"], [0.2222222222222222, \"#7201a8\"], [0.3333333333333333, \"#9c179e\"], [0.4444444444444444, \"#bd3786\"], [0.5555555555555556, \"#d8576b\"], [0.6666666666666666, \"#ed7953\"], [0.7777777777777778, \"#fb9f3a\"], [0.8888888888888888, \"#fdca26\"], [1.0, \"#f0f921\"]], \"type\": \"histogram2dcontour\"}], \"mesh3d\": [{\"colorbar\": {\"outlinewidth\": 0, \"ticks\": \"\"}, \"type\": \"mesh3d\"}], \"parcoords\": [{\"line\": {\"colorbar\": {\"outlinewidth\": 0, \"ticks\": \"\"}}, \"type\": \"parcoords\"}], \"pie\": [{\"automargin\": true, \"type\": \"pie\"}], \"scatter\": [{\"marker\": {\"colorbar\": {\"outlinewidth\": 0, \"ticks\": \"\"}}, \"type\": \"scatter\"}], \"scatter3d\": [{\"line\": {\"colorbar\": {\"outlinewidth\": 0, \"ticks\": \"\"}}, \"marker\": {\"colorbar\": {\"outlinewidth\": 0, \"ticks\": \"\"}}, \"type\": \"scatter3d\"}], \"scattercarpet\": [{\"marker\": {\"colorbar\": {\"outlinewidth\": 0, \"ticks\": \"\"}}, \"type\": \"scattercarpet\"}], \"scattergeo\": [{\"marker\": {\"colorbar\": {\"outlinewidth\": 0, \"ticks\": \"\"}}, \"type\": \"scattergeo\"}], \"scattergl\": [{\"marker\": {\"colorbar\": {\"outlinewidth\": 0, \"ticks\": \"\"}}, \"type\": \"scattergl\"}], \"scattermapbox\": [{\"marker\": {\"colorbar\": {\"outlinewidth\": 0, \"ticks\": \"\"}}, \"type\": \"scattermapbox\"}], \"scatterpolar\": [{\"marker\": {\"colorbar\": {\"outlinewidth\": 0, \"ticks\": \"\"}}, \"type\": \"scatterpolar\"}], \"scatterpolargl\": [{\"marker\": {\"colorbar\": {\"outlinewidth\": 0, \"ticks\": \"\"}}, \"type\": \"scatterpolargl\"}], \"scatterternary\": [{\"marker\": {\"colorbar\": {\"outlinewidth\": 0, \"ticks\": \"\"}}, \"type\": \"scatterternary\"}], \"surface\": [{\"colorbar\": {\"outlinewidth\": 0, \"ticks\": \"\"}, \"colorscale\": [[0.0, \"#0d0887\"], [0.1111111111111111, \"#46039f\"], [0.2222222222222222, \"#7201a8\"], [0.3333333333333333, \"#9c179e\"], [0.4444444444444444, \"#bd3786\"], [0.5555555555555556, \"#d8576b\"], [0.6666666666666666, \"#ed7953\"], [0.7777777777777778, \"#fb9f3a\"], [0.8888888888888888, \"#fdca26\"], [1.0, \"#f0f921\"]], \"type\": \"surface\"}], \"table\": [{\"cells\": {\"fill\": {\"color\": \"#EBF0F8\"}, \"line\": {\"color\": \"white\"}}, \"header\": {\"fill\": {\"color\": \"#C8D4E3\"}, \"line\": {\"color\": \"white\"}}, \"type\": \"table\"}]}, \"layout\": {\"annotationdefaults\": {\"arrowcolor\": \"#2a3f5f\", \"arrowhead\": 0, \"arrowwidth\": 1}, \"coloraxis\": {\"colorbar\": {\"outlinewidth\": 0, \"ticks\": \"\"}}, \"colorscale\": {\"diverging\": [[0, \"#8e0152\"], [0.1, \"#c51b7d\"], [0.2, \"#de77ae\"], [0.3, \"#f1b6da\"], [0.4, \"#fde0ef\"], [0.5, \"#f7f7f7\"], [0.6, \"#e6f5d0\"], [0.7, \"#b8e186\"], [0.8, \"#7fbc41\"], [0.9, \"#4d9221\"], [1, \"#276419\"]], \"sequential\": [[0.0, \"#0d0887\"], [0.1111111111111111, \"#46039f\"], [0.2222222222222222, \"#7201a8\"], [0.3333333333333333, \"#9c179e\"], [0.4444444444444444, \"#bd3786\"], [0.5555555555555556, \"#d8576b\"], [0.6666666666666666, \"#ed7953\"], [0.7777777777777778, \"#fb9f3a\"], [0.8888888888888888, \"#fdca26\"], [1.0, \"#f0f921\"]], \"sequentialminus\": [[0.0, \"#0d0887\"], [0.1111111111111111, \"#46039f\"], [0.2222222222222222, \"#7201a8\"], [0.3333333333333333, \"#9c179e\"], [0.4444444444444444, \"#bd3786\"], [0.5555555555555556, \"#d8576b\"], [0.6666666666666666, \"#ed7953\"], [0.7777777777777778, \"#fb9f3a\"], [0.8888888888888888, \"#fdca26\"], [1.0, \"#f0f921\"]]}, \"colorway\": [\"#636efa\", \"#EF553B\", \"#00cc96\", \"#ab63fa\", \"#FFA15A\", \"#19d3f3\", \"#FF6692\", \"#B6E880\", \"#FF97FF\", \"#FECB52\"], \"font\": {\"color\": \"#2a3f5f\"}, \"geo\": {\"bgcolor\": \"white\", \"lakecolor\": \"white\", \"landcolor\": \"#E5ECF6\", \"showlakes\": true, \"showland\": true, \"subunitcolor\": \"white\"}, \"hoverlabel\": {\"align\": \"left\"}, \"hovermode\": \"closest\", \"mapbox\": {\"style\": \"light\"}, \"paper_bgcolor\": \"white\", \"plot_bgcolor\": \"#E5ECF6\", \"polar\": {\"angularaxis\": {\"gridcolor\": \"white\", \"linecolor\": \"white\", \"ticks\": \"\"}, \"bgcolor\": \"#E5ECF6\", \"radialaxis\": {\"gridcolor\": \"white\", \"linecolor\": \"white\", \"ticks\": \"\"}}, \"scene\": {\"xaxis\": {\"backgroundcolor\": \"#E5ECF6\", \"gridcolor\": \"white\", \"gridwidth\": 2, \"linecolor\": \"white\", \"showbackground\": true, \"ticks\": \"\", \"zerolinecolor\": \"white\"}, \"yaxis\": {\"backgroundcolor\": \"#E5ECF6\", \"gridcolor\": \"white\", \"gridwidth\": 2, \"linecolor\": \"white\", \"showbackground\": true, \"ticks\": \"\", \"zerolinecolor\": \"white\"}, \"zaxis\": {\"backgroundcolor\": \"#E5ECF6\", \"gridcolor\": \"white\", \"gridwidth\": 2, \"linecolor\": \"white\", \"showbackground\": true, \"ticks\": \"\", \"zerolinecolor\": \"white\"}}, \"shapedefaults\": {\"line\": {\"color\": \"#2a3f5f\"}}, \"ternary\": {\"aaxis\": {\"gridcolor\": \"white\", \"linecolor\": \"white\", \"ticks\": \"\"}, \"baxis\": {\"gridcolor\": \"white\", \"linecolor\": \"white\", \"ticks\": \"\"}, \"bgcolor\": \"#E5ECF6\", \"caxis\": {\"gridcolor\": \"white\", \"linecolor\": \"white\", \"ticks\": \"\"}}, \"title\": {\"x\": 0.05}, \"xaxis\": {\"automargin\": true, \"gridcolor\": \"white\", \"linecolor\": \"white\", \"ticks\": \"\", \"title\": {\"standoff\": 15}, \"zerolinecolor\": \"white\", \"zerolinewidth\": 2}, \"yaxis\": {\"automargin\": true, \"gridcolor\": \"white\", \"linecolor\": \"white\", \"ticks\": \"\", \"title\": {\"standoff\": 15}, \"zerolinecolor\": \"white\", \"zerolinewidth\": 2}}}, \"title\": {\"text\": \"Social Pillar (29)\"}, \"xaxis\": {\"constrain\": \"domain\", \"scaleanchor\": \"y\", \"tickmode\": \"array\", \"tickvals\": [2000, 2001, 2002, 2003, 2004, 2005, 2006, 2007, 2008, 2009, 2010, 2011, 2012, 2013, 2014, 2015, 2016, 2017, 2018, 2019, 2020], \"title\": {\"text\": \"Year\"}}, \"yaxis\": {\"autorange\": \"reversed\", \"constrain\": \"domain\", \"tickmode\": \"array\", \"tickvals\": [\"EG.CFT.ACCS.ZS\", \"EG.ELC.ACCS.ZS\", \"IP.JRN.ARTC.SC\", \"NV.AGR.TOTL.ZS\", \"NY.GDP.MKTP.KD.ZG\", \"SE.ADT.LITR.ZS\", \"SE.ENR.PRSC.FM.ZS\", \"SE.PRM.ENRR\", \"SE.XPD.TOTL.GB.ZS\", \"SG.GEN.PARL.ZS\", \"SH.DTH.COMM.ZS\", \"SH.DYN.MORT\", \"SH.H2O.SMDW.ZS\", \"SH.MED.BEDS.ZS\", \"SH.STA.OWAD.ZS\", \"SH.STA.SMSS.ZS\", \"SI.DST.FRST.20\", \"SI.POV.GINI\", \"SI.POV.NAHC\", \"SI.SPR.PCAP.ZG\", \"SL.TLF.0714.ZS\", \"SL.TLF.ACTI.ZS\", \"SL.TLF.CACT.FM.ZS\", \"SL.UEM.TOTL.ZS\", \"SM.POP.NETM\", \"SN.ITK.DEFC.ZS\", \"SP.DYN.LE00.IN\", \"SP.DYN.TFRT.IN\", \"SP.POP.65UP.TO.ZS\"], \"title\": {\"text\": \"Indicators\"}}},                        {\"responsive\": true}                    ).then(function(){\n",
       "                            \n",
       "var gd = document.getElementById('219a8792-1acd-4280-a8c6-759487feb91c');\n",
       "var x = new MutationObserver(function (mutations, observer) {{\n",
       "        var display = window.getComputedStyle(gd).display;\n",
       "        if (!display || display === 'none') {{\n",
       "            console.log([gd, 'removed!']);\n",
       "            Plotly.purge(gd);\n",
       "            observer.disconnect();\n",
       "        }}\n",
       "}});\n",
       "\n",
       "// Listen for the removal of the full notebook cells\n",
       "var notebookContainer = gd.closest('#notebook-container');\n",
       "if (notebookContainer) {{\n",
       "    x.observe(notebookContainer, {childList: true});\n",
       "}}\n",
       "\n",
       "// Listen for the clearing of the current output cell\n",
       "var outputEl = gd.closest('.output');\n",
       "if (outputEl) {{\n",
       "    x.observe(outputEl, {childList: true});\n",
       "}}\n",
       "\n",
       "                        })                };                });            </script>        </div>"
      ]
     },
     "metadata": {},
     "output_type": "display_data"
    },
    {
     "data": {
      "application/vnd.plotly.v1+json": {
       "config": {
        "plotlyServerURL": "https://plot.ly"
       },
       "data": [
        {
         "coloraxis": "coloraxis",
         "customdata": [
          [
           "Control of Corruption: Estimate",
           "Control of Corruption: Estimate",
           "Control of Corruption: Estimate",
           "Control of Corruption: Estimate",
           "Control of Corruption: Estimate",
           "Control of Corruption: Estimate",
           "Control of Corruption: Estimate",
           "Control of Corruption: Estimate",
           "Control of Corruption: Estimate",
           "Control of Corruption: Estimate",
           "Control of Corruption: Estimate",
           "Control of Corruption: Estimate",
           "Control of Corruption: Estimate",
           "Control of Corruption: Estimate",
           "Control of Corruption: Estimate",
           "Control of Corruption: Estimate",
           "Control of Corruption: Estimate",
           "Control of Corruption: Estimate",
           "Control of Corruption: Estimate",
           "Control of Corruption: Estimate",
           "Control of Corruption: Estimate"
          ],
          [
           "Research and development expenditure (% of GDP)",
           "Research and development expenditure (% of GDP)",
           "Research and development expenditure (% of GDP)",
           "Research and development expenditure (% of GDP)",
           "Research and development expenditure (% of GDP)",
           "Research and development expenditure (% of GDP)",
           "Research and development expenditure (% of GDP)",
           "Research and development expenditure (% of GDP)",
           "Research and development expenditure (% of GDP)",
           "Research and development expenditure (% of GDP)",
           "Research and development expenditure (% of GDP)",
           "Research and development expenditure (% of GDP)",
           "Research and development expenditure (% of GDP)",
           "Research and development expenditure (% of GDP)",
           "Research and development expenditure (% of GDP)",
           "Research and development expenditure (% of GDP)",
           "Research and development expenditure (% of GDP)",
           "Research and development expenditure (% of GDP)",
           "Research and development expenditure (% of GDP)",
           "Research and development expenditure (% of GDP)",
           "Research and development expenditure (% of GDP)"
          ],
          [
           "Government Effectiveness: Estimate",
           "Government Effectiveness: Estimate",
           "Government Effectiveness: Estimate",
           "Government Effectiveness: Estimate",
           "Government Effectiveness: Estimate",
           "Government Effectiveness: Estimate",
           "Government Effectiveness: Estimate",
           "Government Effectiveness: Estimate",
           "Government Effectiveness: Estimate",
           "Government Effectiveness: Estimate",
           "Government Effectiveness: Estimate",
           "Government Effectiveness: Estimate",
           "Government Effectiveness: Estimate",
           "Government Effectiveness: Estimate",
           "Government Effectiveness: Estimate",
           "Government Effectiveness: Estimate",
           "Government Effectiveness: Estimate",
           "Government Effectiveness: Estimate",
           "Government Effectiveness: Estimate",
           "Government Effectiveness: Estimate",
           "Government Effectiveness: Estimate"
          ],
          [
           "Ease of doing business index (1=most business-friendly regulations)",
           "Ease of doing business index (1=most business-friendly regulations)",
           "Ease of doing business index (1=most business-friendly regulations)",
           "Ease of doing business index (1=most business-friendly regulations)",
           "Ease of doing business index (1=most business-friendly regulations)",
           "Ease of doing business index (1=most business-friendly regulations)",
           "Ease of doing business index (1=most business-friendly regulations)",
           "Ease of doing business index (1=most business-friendly regulations)",
           "Ease of doing business index (1=most business-friendly regulations)",
           "Ease of doing business index (1=most business-friendly regulations)",
           "Ease of doing business index (1=most business-friendly regulations)",
           "Ease of doing business index (1=most business-friendly regulations)",
           "Ease of doing business index (1=most business-friendly regulations)",
           "Ease of doing business index (1=most business-friendly regulations)",
           "Ease of doing business index (1=most business-friendly regulations)",
           "Ease of doing business index (1=most business-friendly regulations)",
           "Ease of doing business index (1=most business-friendly regulations)",
           "Ease of doing business index (1=most business-friendly regulations)",
           "Ease of doing business index (1=most business-friendly regulations)",
           "Ease of doing business index (1=most business-friendly regulations)",
           "Ease of doing business index (1=most business-friendly regulations)"
          ],
          [
           "Strength of legal rights index (0=weak to 12=strong)",
           "Strength of legal rights index (0=weak to 12=strong)",
           "Strength of legal rights index (0=weak to 12=strong)",
           "Strength of legal rights index (0=weak to 12=strong)",
           "Strength of legal rights index (0=weak to 12=strong)",
           "Strength of legal rights index (0=weak to 12=strong)",
           "Strength of legal rights index (0=weak to 12=strong)",
           "Strength of legal rights index (0=weak to 12=strong)",
           "Strength of legal rights index (0=weak to 12=strong)",
           "Strength of legal rights index (0=weak to 12=strong)",
           "Strength of legal rights index (0=weak to 12=strong)",
           "Strength of legal rights index (0=weak to 12=strong)",
           "Strength of legal rights index (0=weak to 12=strong)",
           "Strength of legal rights index (0=weak to 12=strong)",
           "Strength of legal rights index (0=weak to 12=strong)",
           "Strength of legal rights index (0=weak to 12=strong)",
           "Strength of legal rights index (0=weak to 12=strong)",
           "Strength of legal rights index (0=weak to 12=strong)",
           "Strength of legal rights index (0=weak to 12=strong)",
           "Strength of legal rights index (0=weak to 12=strong)",
           "Strength of legal rights index (0=weak to 12=strong)"
          ],
          [
           "Patent applications, residents",
           "Patent applications, residents",
           "Patent applications, residents",
           "Patent applications, residents",
           "Patent applications, residents",
           "Patent applications, residents",
           "Patent applications, residents",
           "Patent applications, residents",
           "Patent applications, residents",
           "Patent applications, residents",
           "Patent applications, residents",
           "Patent applications, residents",
           "Patent applications, residents",
           "Patent applications, residents",
           "Patent applications, residents",
           "Patent applications, residents",
           "Patent applications, residents",
           "Patent applications, residents",
           "Patent applications, residents",
           "Patent applications, residents",
           "Patent applications, residents"
          ],
          [
           "Individuals using the Internet (% of population)",
           "Individuals using the Internet (% of population)",
           "Individuals using the Internet (% of population)",
           "Individuals using the Internet (% of population)",
           "Individuals using the Internet (% of population)",
           "Individuals using the Internet (% of population)",
           "Individuals using the Internet (% of population)",
           "Individuals using the Internet (% of population)",
           "Individuals using the Internet (% of population)",
           "Individuals using the Internet (% of population)",
           "Individuals using the Internet (% of population)",
           "Individuals using the Internet (% of population)",
           "Individuals using the Internet (% of population)",
           "Individuals using the Internet (% of population)",
           "Individuals using the Internet (% of population)",
           "Individuals using the Internet (% of population)",
           "Individuals using the Internet (% of population)",
           "Individuals using the Internet (% of population)",
           "Individuals using the Internet (% of population)",
           "Individuals using the Internet (% of population)",
           "Individuals using the Internet (% of population)"
          ],
          [
           "Political Stability and Absence of Violence/Terrorism: Estimate",
           "Political Stability and Absence of Violence/Terrorism: Estimate",
           "Political Stability and Absence of Violence/Terrorism: Estimate",
           "Political Stability and Absence of Violence/Terrorism: Estimate",
           "Political Stability and Absence of Violence/Terrorism: Estimate",
           "Political Stability and Absence of Violence/Terrorism: Estimate",
           "Political Stability and Absence of Violence/Terrorism: Estimate",
           "Political Stability and Absence of Violence/Terrorism: Estimate",
           "Political Stability and Absence of Violence/Terrorism: Estimate",
           "Political Stability and Absence of Violence/Terrorism: Estimate",
           "Political Stability and Absence of Violence/Terrorism: Estimate",
           "Political Stability and Absence of Violence/Terrorism: Estimate",
           "Political Stability and Absence of Violence/Terrorism: Estimate",
           "Political Stability and Absence of Violence/Terrorism: Estimate",
           "Political Stability and Absence of Violence/Terrorism: Estimate",
           "Political Stability and Absence of Violence/Terrorism: Estimate",
           "Political Stability and Absence of Violence/Terrorism: Estimate",
           "Political Stability and Absence of Violence/Terrorism: Estimate",
           "Political Stability and Absence of Violence/Terrorism: Estimate",
           "Political Stability and Absence of Violence/Terrorism: Estimate",
           "Political Stability and Absence of Violence/Terrorism: Estimate"
          ],
          [
           "Rule of Law: Estimate",
           "Rule of Law: Estimate",
           "Rule of Law: Estimate",
           "Rule of Law: Estimate",
           "Rule of Law: Estimate",
           "Rule of Law: Estimate",
           "Rule of Law: Estimate",
           "Rule of Law: Estimate",
           "Rule of Law: Estimate",
           "Rule of Law: Estimate",
           "Rule of Law: Estimate",
           "Rule of Law: Estimate",
           "Rule of Law: Estimate",
           "Rule of Law: Estimate",
           "Rule of Law: Estimate",
           "Rule of Law: Estimate",
           "Rule of Law: Estimate",
           "Rule of Law: Estimate",
           "Rule of Law: Estimate",
           "Rule of Law: Estimate",
           "Rule of Law: Estimate"
          ],
          [
           "Regulatory Quality: Estimate",
           "Regulatory Quality: Estimate",
           "Regulatory Quality: Estimate",
           "Regulatory Quality: Estimate",
           "Regulatory Quality: Estimate",
           "Regulatory Quality: Estimate",
           "Regulatory Quality: Estimate",
           "Regulatory Quality: Estimate",
           "Regulatory Quality: Estimate",
           "Regulatory Quality: Estimate",
           "Regulatory Quality: Estimate",
           "Regulatory Quality: Estimate",
           "Regulatory Quality: Estimate",
           "Regulatory Quality: Estimate",
           "Regulatory Quality: Estimate",
           "Regulatory Quality: Estimate",
           "Regulatory Quality: Estimate",
           "Regulatory Quality: Estimate",
           "Regulatory Quality: Estimate",
           "Regulatory Quality: Estimate",
           "Regulatory Quality: Estimate"
          ],
          [
           "Unmet need for contraception (% of married women ages 15-49)",
           "Unmet need for contraception (% of married women ages 15-49)",
           "Unmet need for contraception (% of married women ages 15-49)",
           "Unmet need for contraception (% of married women ages 15-49)",
           "Unmet need for contraception (% of married women ages 15-49)",
           "Unmet need for contraception (% of married women ages 15-49)",
           "Unmet need for contraception (% of married women ages 15-49)",
           "Unmet need for contraception (% of married women ages 15-49)",
           "Unmet need for contraception (% of married women ages 15-49)",
           "Unmet need for contraception (% of married women ages 15-49)",
           "Unmet need for contraception (% of married women ages 15-49)",
           "Unmet need for contraception (% of married women ages 15-49)",
           "Unmet need for contraception (% of married women ages 15-49)",
           "Unmet need for contraception (% of married women ages 15-49)",
           "Unmet need for contraception (% of married women ages 15-49)",
           "Unmet need for contraception (% of married women ages 15-49)",
           "Unmet need for contraception (% of married women ages 15-49)",
           "Unmet need for contraception (% of married women ages 15-49)",
           "Unmet need for contraception (% of married women ages 15-49)",
           "Unmet need for contraception (% of married women ages 15-49)",
           "Unmet need for contraception (% of married women ages 15-49)"
          ],
          [
           "Voice and Accountability: Estimate",
           "Voice and Accountability: Estimate",
           "Voice and Accountability: Estimate",
           "Voice and Accountability: Estimate",
           "Voice and Accountability: Estimate",
           "Voice and Accountability: Estimate",
           "Voice and Accountability: Estimate",
           "Voice and Accountability: Estimate",
           "Voice and Accountability: Estimate",
           "Voice and Accountability: Estimate",
           "Voice and Accountability: Estimate",
           "Voice and Accountability: Estimate",
           "Voice and Accountability: Estimate",
           "Voice and Accountability: Estimate",
           "Voice and Accountability: Estimate",
           "Voice and Accountability: Estimate",
           "Voice and Accountability: Estimate",
           "Voice and Accountability: Estimate",
           "Voice and Accountability: Estimate",
           "Voice and Accountability: Estimate",
           "Voice and Accountability: Estimate"
          ]
         ],
         "hovertemplate": "Year: %{x}<br>Indicator: %{customdata}<br>CETS ID: %{y}<br>Countries: %{z}<extra></extra>",
         "type": "heatmap",
         "x": [
          2000,
          2001,
          2002,
          2003,
          2004,
          2005,
          2006,
          2007,
          2008,
          2009,
          2010,
          2011,
          2012,
          2013,
          2014,
          2015,
          2016,
          2017,
          2018,
          2019,
          2020
         ],
         "y": [
          "CC.EST",
          "GB.XPD.RSDV.GD.ZS",
          "GE.EST",
          "IC.BUS.EASE.XQ",
          "IC.LGL.CRED.XQ",
          "IP.PAT.RESD",
          "IT.NET.USER.ZS",
          "PV.EST",
          "RL.EST",
          "RQ.EST",
          "SP.UWT.TFRT",
          "VA.EST"
         ],
         "z": [
          [
           187,
           null,
           188,
           188,
           188,
           188,
           188,
           189,
           190,
           190,
           191,
           191,
           191,
           191,
           191,
           191,
           191,
           191,
           191,
           191,
           null
          ],
          [
           70,
           78,
           89,
           85,
           87,
           84,
           79,
           89,
           90,
           88,
           86,
           85,
           75,
           76,
           66,
           null,
           null,
           null,
           null,
           null,
           null
          ],
          [
           186,
           null,
           187,
           187,
           187,
           188,
           188,
           189,
           190,
           190,
           190,
           191,
           191,
           191,
           191,
           191,
           191,
           191,
           191,
           191,
           null
          ],
          [
           null,
           null,
           null,
           null,
           null,
           null,
           null,
           null,
           null,
           null,
           null,
           null,
           null,
           null,
           null,
           null,
           null,
           null,
           null,
           185,
           null
          ],
          [
           null,
           null,
           null,
           null,
           null,
           null,
           null,
           null,
           null,
           null,
           null,
           null,
           null,
           184,
           184,
           185,
           185,
           185,
           186,
           186,
           null
          ],
          [
           93,
           87,
           91,
           93,
           93,
           97,
           95,
           97,
           95,
           90,
           96,
           104,
           103,
           113,
           113,
           114,
           120,
           115,
           117,
           106,
           null
          ],
          [
           183,
           185,
           186,
           181,
           184,
           184,
           183,
           190,
           189,
           188,
           188,
           191,
           188,
           190,
           189,
           189,
           187,
           185,
           83,
           68,
           null
          ],
          [
           181,
           null,
           181,
           191,
           191,
           191,
           192,
           192,
           192,
           192,
           192,
           193,
           193,
           193,
           193,
           193,
           193,
           193,
           193,
           193,
           null
          ],
          [
           192,
           null,
           192,
           192,
           192,
           192,
           192,
           192,
           192,
           192,
           192,
           193,
           193,
           193,
           191,
           191,
           191,
           191,
           191,
           191,
           null
          ],
          [
           186,
           null,
           187,
           187,
           187,
           188,
           188,
           189,
           190,
           190,
           190,
           191,
           191,
           191,
           191,
           191,
           191,
           191,
           191,
           191,
           null
          ],
          [
           16,
           12,
           10,
           16,
           15,
           18,
           19,
           22,
           19,
           15,
           32,
           31,
           29,
           21,
           37,
           23,
           31,
           24,
           34,
           18,
           4
          ],
          [
           192,
           null,
           192,
           192,
           192,
           192,
           192,
           192,
           192,
           192,
           192,
           193,
           193,
           193,
           193,
           193,
           193,
           193,
           193,
           193,
           null
          ]
         ]
        }
       ],
       "layout": {
        "coloraxis": {
         "cmax": 193,
         "cmin": 0,
         "colorscale": [
          [
           0,
           "#0d0887"
          ],
          [
           0.1111111111111111,
           "#46039f"
          ],
          [
           0.2222222222222222,
           "#7201a8"
          ],
          [
           0.3333333333333333,
           "#9c179e"
          ],
          [
           0.4444444444444444,
           "#bd3786"
          ],
          [
           0.5555555555555556,
           "#d8576b"
          ],
          [
           0.6666666666666666,
           "#ed7953"
          ],
          [
           0.7777777777777778,
           "#fb9f3a"
          ],
          [
           0.8888888888888888,
           "#fdca26"
          ],
          [
           1,
           "#f0f921"
          ]
         ]
        },
        "height": 550,
        "template": {
         "data": {
          "bar": [
           {
            "error_x": {
             "color": "#2a3f5f"
            },
            "error_y": {
             "color": "#2a3f5f"
            },
            "marker": {
             "line": {
              "color": "#E5ECF6",
              "width": 0.5
             }
            },
            "type": "bar"
           }
          ],
          "barpolar": [
           {
            "marker": {
             "line": {
              "color": "#E5ECF6",
              "width": 0.5
             }
            },
            "type": "barpolar"
           }
          ],
          "carpet": [
           {
            "aaxis": {
             "endlinecolor": "#2a3f5f",
             "gridcolor": "white",
             "linecolor": "white",
             "minorgridcolor": "white",
             "startlinecolor": "#2a3f5f"
            },
            "baxis": {
             "endlinecolor": "#2a3f5f",
             "gridcolor": "white",
             "linecolor": "white",
             "minorgridcolor": "white",
             "startlinecolor": "#2a3f5f"
            },
            "type": "carpet"
           }
          ],
          "choropleth": [
           {
            "colorbar": {
             "outlinewidth": 0,
             "ticks": ""
            },
            "type": "choropleth"
           }
          ],
          "contour": [
           {
            "colorbar": {
             "outlinewidth": 0,
             "ticks": ""
            },
            "colorscale": [
             [
              0,
              "#0d0887"
             ],
             [
              0.1111111111111111,
              "#46039f"
             ],
             [
              0.2222222222222222,
              "#7201a8"
             ],
             [
              0.3333333333333333,
              "#9c179e"
             ],
             [
              0.4444444444444444,
              "#bd3786"
             ],
             [
              0.5555555555555556,
              "#d8576b"
             ],
             [
              0.6666666666666666,
              "#ed7953"
             ],
             [
              0.7777777777777778,
              "#fb9f3a"
             ],
             [
              0.8888888888888888,
              "#fdca26"
             ],
             [
              1,
              "#f0f921"
             ]
            ],
            "type": "contour"
           }
          ],
          "contourcarpet": [
           {
            "colorbar": {
             "outlinewidth": 0,
             "ticks": ""
            },
            "type": "contourcarpet"
           }
          ],
          "heatmap": [
           {
            "colorbar": {
             "outlinewidth": 0,
             "ticks": ""
            },
            "colorscale": [
             [
              0,
              "#0d0887"
             ],
             [
              0.1111111111111111,
              "#46039f"
             ],
             [
              0.2222222222222222,
              "#7201a8"
             ],
             [
              0.3333333333333333,
              "#9c179e"
             ],
             [
              0.4444444444444444,
              "#bd3786"
             ],
             [
              0.5555555555555556,
              "#d8576b"
             ],
             [
              0.6666666666666666,
              "#ed7953"
             ],
             [
              0.7777777777777778,
              "#fb9f3a"
             ],
             [
              0.8888888888888888,
              "#fdca26"
             ],
             [
              1,
              "#f0f921"
             ]
            ],
            "type": "heatmap"
           }
          ],
          "heatmapgl": [
           {
            "colorbar": {
             "outlinewidth": 0,
             "ticks": ""
            },
            "colorscale": [
             [
              0,
              "#0d0887"
             ],
             [
              0.1111111111111111,
              "#46039f"
             ],
             [
              0.2222222222222222,
              "#7201a8"
             ],
             [
              0.3333333333333333,
              "#9c179e"
             ],
             [
              0.4444444444444444,
              "#bd3786"
             ],
             [
              0.5555555555555556,
              "#d8576b"
             ],
             [
              0.6666666666666666,
              "#ed7953"
             ],
             [
              0.7777777777777778,
              "#fb9f3a"
             ],
             [
              0.8888888888888888,
              "#fdca26"
             ],
             [
              1,
              "#f0f921"
             ]
            ],
            "type": "heatmapgl"
           }
          ],
          "histogram": [
           {
            "marker": {
             "colorbar": {
              "outlinewidth": 0,
              "ticks": ""
             }
            },
            "type": "histogram"
           }
          ],
          "histogram2d": [
           {
            "colorbar": {
             "outlinewidth": 0,
             "ticks": ""
            },
            "colorscale": [
             [
              0,
              "#0d0887"
             ],
             [
              0.1111111111111111,
              "#46039f"
             ],
             [
              0.2222222222222222,
              "#7201a8"
             ],
             [
              0.3333333333333333,
              "#9c179e"
             ],
             [
              0.4444444444444444,
              "#bd3786"
             ],
             [
              0.5555555555555556,
              "#d8576b"
             ],
             [
              0.6666666666666666,
              "#ed7953"
             ],
             [
              0.7777777777777778,
              "#fb9f3a"
             ],
             [
              0.8888888888888888,
              "#fdca26"
             ],
             [
              1,
              "#f0f921"
             ]
            ],
            "type": "histogram2d"
           }
          ],
          "histogram2dcontour": [
           {
            "colorbar": {
             "outlinewidth": 0,
             "ticks": ""
            },
            "colorscale": [
             [
              0,
              "#0d0887"
             ],
             [
              0.1111111111111111,
              "#46039f"
             ],
             [
              0.2222222222222222,
              "#7201a8"
             ],
             [
              0.3333333333333333,
              "#9c179e"
             ],
             [
              0.4444444444444444,
              "#bd3786"
             ],
             [
              0.5555555555555556,
              "#d8576b"
             ],
             [
              0.6666666666666666,
              "#ed7953"
             ],
             [
              0.7777777777777778,
              "#fb9f3a"
             ],
             [
              0.8888888888888888,
              "#fdca26"
             ],
             [
              1,
              "#f0f921"
             ]
            ],
            "type": "histogram2dcontour"
           }
          ],
          "mesh3d": [
           {
            "colorbar": {
             "outlinewidth": 0,
             "ticks": ""
            },
            "type": "mesh3d"
           }
          ],
          "parcoords": [
           {
            "line": {
             "colorbar": {
              "outlinewidth": 0,
              "ticks": ""
             }
            },
            "type": "parcoords"
           }
          ],
          "pie": [
           {
            "automargin": true,
            "type": "pie"
           }
          ],
          "scatter": [
           {
            "marker": {
             "colorbar": {
              "outlinewidth": 0,
              "ticks": ""
             }
            },
            "type": "scatter"
           }
          ],
          "scatter3d": [
           {
            "line": {
             "colorbar": {
              "outlinewidth": 0,
              "ticks": ""
             }
            },
            "marker": {
             "colorbar": {
              "outlinewidth": 0,
              "ticks": ""
             }
            },
            "type": "scatter3d"
           }
          ],
          "scattercarpet": [
           {
            "marker": {
             "colorbar": {
              "outlinewidth": 0,
              "ticks": ""
             }
            },
            "type": "scattercarpet"
           }
          ],
          "scattergeo": [
           {
            "marker": {
             "colorbar": {
              "outlinewidth": 0,
              "ticks": ""
             }
            },
            "type": "scattergeo"
           }
          ],
          "scattergl": [
           {
            "marker": {
             "colorbar": {
              "outlinewidth": 0,
              "ticks": ""
             }
            },
            "type": "scattergl"
           }
          ],
          "scattermapbox": [
           {
            "marker": {
             "colorbar": {
              "outlinewidth": 0,
              "ticks": ""
             }
            },
            "type": "scattermapbox"
           }
          ],
          "scatterpolar": [
           {
            "marker": {
             "colorbar": {
              "outlinewidth": 0,
              "ticks": ""
             }
            },
            "type": "scatterpolar"
           }
          ],
          "scatterpolargl": [
           {
            "marker": {
             "colorbar": {
              "outlinewidth": 0,
              "ticks": ""
             }
            },
            "type": "scatterpolargl"
           }
          ],
          "scatterternary": [
           {
            "marker": {
             "colorbar": {
              "outlinewidth": 0,
              "ticks": ""
             }
            },
            "type": "scatterternary"
           }
          ],
          "surface": [
           {
            "colorbar": {
             "outlinewidth": 0,
             "ticks": ""
            },
            "colorscale": [
             [
              0,
              "#0d0887"
             ],
             [
              0.1111111111111111,
              "#46039f"
             ],
             [
              0.2222222222222222,
              "#7201a8"
             ],
             [
              0.3333333333333333,
              "#9c179e"
             ],
             [
              0.4444444444444444,
              "#bd3786"
             ],
             [
              0.5555555555555556,
              "#d8576b"
             ],
             [
              0.6666666666666666,
              "#ed7953"
             ],
             [
              0.7777777777777778,
              "#fb9f3a"
             ],
             [
              0.8888888888888888,
              "#fdca26"
             ],
             [
              1,
              "#f0f921"
             ]
            ],
            "type": "surface"
           }
          ],
          "table": [
           {
            "cells": {
             "fill": {
              "color": "#EBF0F8"
             },
             "line": {
              "color": "white"
             }
            },
            "header": {
             "fill": {
              "color": "#C8D4E3"
             },
             "line": {
              "color": "white"
             }
            },
            "type": "table"
           }
          ]
         },
         "layout": {
          "annotationdefaults": {
           "arrowcolor": "#2a3f5f",
           "arrowhead": 0,
           "arrowwidth": 1
          },
          "coloraxis": {
           "colorbar": {
            "outlinewidth": 0,
            "ticks": ""
           }
          },
          "colorscale": {
           "diverging": [
            [
             0,
             "#8e0152"
            ],
            [
             0.1,
             "#c51b7d"
            ],
            [
             0.2,
             "#de77ae"
            ],
            [
             0.3,
             "#f1b6da"
            ],
            [
             0.4,
             "#fde0ef"
            ],
            [
             0.5,
             "#f7f7f7"
            ],
            [
             0.6,
             "#e6f5d0"
            ],
            [
             0.7,
             "#b8e186"
            ],
            [
             0.8,
             "#7fbc41"
            ],
            [
             0.9,
             "#4d9221"
            ],
            [
             1,
             "#276419"
            ]
           ],
           "sequential": [
            [
             0,
             "#0d0887"
            ],
            [
             0.1111111111111111,
             "#46039f"
            ],
            [
             0.2222222222222222,
             "#7201a8"
            ],
            [
             0.3333333333333333,
             "#9c179e"
            ],
            [
             0.4444444444444444,
             "#bd3786"
            ],
            [
             0.5555555555555556,
             "#d8576b"
            ],
            [
             0.6666666666666666,
             "#ed7953"
            ],
            [
             0.7777777777777778,
             "#fb9f3a"
            ],
            [
             0.8888888888888888,
             "#fdca26"
            ],
            [
             1,
             "#f0f921"
            ]
           ],
           "sequentialminus": [
            [
             0,
             "#0d0887"
            ],
            [
             0.1111111111111111,
             "#46039f"
            ],
            [
             0.2222222222222222,
             "#7201a8"
            ],
            [
             0.3333333333333333,
             "#9c179e"
            ],
            [
             0.4444444444444444,
             "#bd3786"
            ],
            [
             0.5555555555555556,
             "#d8576b"
            ],
            [
             0.6666666666666666,
             "#ed7953"
            ],
            [
             0.7777777777777778,
             "#fb9f3a"
            ],
            [
             0.8888888888888888,
             "#fdca26"
            ],
            [
             1,
             "#f0f921"
            ]
           ]
          },
          "colorway": [
           "#636efa",
           "#EF553B",
           "#00cc96",
           "#ab63fa",
           "#FFA15A",
           "#19d3f3",
           "#FF6692",
           "#B6E880",
           "#FF97FF",
           "#FECB52"
          ],
          "font": {
           "color": "#2a3f5f"
          },
          "geo": {
           "bgcolor": "white",
           "lakecolor": "white",
           "landcolor": "#E5ECF6",
           "showlakes": true,
           "showland": true,
           "subunitcolor": "white"
          },
          "hoverlabel": {
           "align": "left"
          },
          "hovermode": "closest",
          "mapbox": {
           "style": "light"
          },
          "paper_bgcolor": "white",
          "plot_bgcolor": "#E5ECF6",
          "polar": {
           "angularaxis": {
            "gridcolor": "white",
            "linecolor": "white",
            "ticks": ""
           },
           "bgcolor": "#E5ECF6",
           "radialaxis": {
            "gridcolor": "white",
            "linecolor": "white",
            "ticks": ""
           }
          },
          "scene": {
           "xaxis": {
            "backgroundcolor": "#E5ECF6",
            "gridcolor": "white",
            "gridwidth": 2,
            "linecolor": "white",
            "showbackground": true,
            "ticks": "",
            "zerolinecolor": "white"
           },
           "yaxis": {
            "backgroundcolor": "#E5ECF6",
            "gridcolor": "white",
            "gridwidth": 2,
            "linecolor": "white",
            "showbackground": true,
            "ticks": "",
            "zerolinecolor": "white"
           },
           "zaxis": {
            "backgroundcolor": "#E5ECF6",
            "gridcolor": "white",
            "gridwidth": 2,
            "linecolor": "white",
            "showbackground": true,
            "ticks": "",
            "zerolinecolor": "white"
           }
          },
          "shapedefaults": {
           "line": {
            "color": "#2a3f5f"
           }
          },
          "ternary": {
           "aaxis": {
            "gridcolor": "white",
            "linecolor": "white",
            "ticks": ""
           },
           "baxis": {
            "gridcolor": "white",
            "linecolor": "white",
            "ticks": ""
           },
           "bgcolor": "#E5ECF6",
           "caxis": {
            "gridcolor": "white",
            "linecolor": "white",
            "ticks": ""
           }
          },
          "title": {
           "x": 0.05
          },
          "xaxis": {
           "automargin": true,
           "gridcolor": "white",
           "linecolor": "white",
           "ticks": "",
           "title": {
            "standoff": 15
           },
           "zerolinecolor": "white",
           "zerolinewidth": 2
          },
          "yaxis": {
           "automargin": true,
           "gridcolor": "white",
           "linecolor": "white",
           "ticks": "",
           "title": {
            "standoff": 15
           },
           "zerolinecolor": "white",
           "zerolinewidth": 2
          }
         }
        },
        "title": {
         "text": "Government Pillar (12)"
        },
        "xaxis": {
         "constrain": "domain",
         "scaleanchor": "y",
         "tickmode": "array",
         "tickvals": [
          2000,
          2001,
          2002,
          2003,
          2004,
          2005,
          2006,
          2007,
          2008,
          2009,
          2010,
          2011,
          2012,
          2013,
          2014,
          2015,
          2016,
          2017,
          2018,
          2019,
          2020
         ],
         "title": {
          "text": "Year"
         }
        },
        "yaxis": {
         "autorange": "reversed",
         "constrain": "domain",
         "tickmode": "array",
         "tickvals": [
          "CC.EST",
          "GB.XPD.RSDV.GD.ZS",
          "GE.EST",
          "IC.BUS.EASE.XQ",
          "IC.LGL.CRED.XQ",
          "IP.PAT.RESD",
          "IT.NET.USER.ZS",
          "PV.EST",
          "RL.EST",
          "RQ.EST",
          "SP.UWT.TFRT",
          "VA.EST"
         ],
         "title": {
          "text": "Indicators"
         }
        }
       }
      },
      "text/html": [
       "<div>                            <div id=\"0ab7084a-bef1-4087-96b4-a2949e80bc0c\" class=\"plotly-graph-div\" style=\"height:550px; width:100%;\"></div>            <script type=\"text/javascript\">                require([\"plotly\"], function(Plotly) {                    window.PLOTLYENV=window.PLOTLYENV || {};                                    if (document.getElementById(\"0ab7084a-bef1-4087-96b4-a2949e80bc0c\")) {                    Plotly.newPlot(                        \"0ab7084a-bef1-4087-96b4-a2949e80bc0c\",                        [{\"coloraxis\": \"coloraxis\", \"customdata\": [[\"Control of Corruption: Estimate\", \"Control of Corruption: Estimate\", \"Control of Corruption: Estimate\", \"Control of Corruption: Estimate\", \"Control of Corruption: Estimate\", \"Control of Corruption: Estimate\", \"Control of Corruption: Estimate\", \"Control of Corruption: Estimate\", \"Control of Corruption: Estimate\", \"Control of Corruption: Estimate\", \"Control of Corruption: Estimate\", \"Control of Corruption: Estimate\", \"Control of Corruption: Estimate\", \"Control of Corruption: Estimate\", \"Control of Corruption: Estimate\", \"Control of Corruption: Estimate\", \"Control of Corruption: Estimate\", \"Control of Corruption: Estimate\", \"Control of Corruption: Estimate\", \"Control of Corruption: Estimate\", \"Control of Corruption: Estimate\"], [\"Research and development expenditure (% of GDP)\", \"Research and development expenditure (% of GDP)\", \"Research and development expenditure (% of GDP)\", \"Research and development expenditure (% of GDP)\", \"Research and development expenditure (% of GDP)\", \"Research and development expenditure (% of GDP)\", \"Research and development expenditure (% of GDP)\", \"Research and development expenditure (% of GDP)\", \"Research and development expenditure (% of GDP)\", \"Research and development expenditure (% of GDP)\", \"Research and development expenditure (% of GDP)\", \"Research and development expenditure (% of GDP)\", \"Research and development expenditure (% of GDP)\", \"Research and development expenditure (% of GDP)\", \"Research and development expenditure (% of GDP)\", \"Research and development expenditure (% of GDP)\", \"Research and development expenditure (% of GDP)\", \"Research and development expenditure (% of GDP)\", \"Research and development expenditure (% of GDP)\", \"Research and development expenditure (% of GDP)\", \"Research and development expenditure (% of GDP)\"], [\"Government Effectiveness: Estimate\", \"Government Effectiveness: Estimate\", \"Government Effectiveness: Estimate\", \"Government Effectiveness: Estimate\", \"Government Effectiveness: Estimate\", \"Government Effectiveness: Estimate\", \"Government Effectiveness: Estimate\", \"Government Effectiveness: Estimate\", \"Government Effectiveness: Estimate\", \"Government Effectiveness: Estimate\", \"Government Effectiveness: Estimate\", \"Government Effectiveness: Estimate\", \"Government Effectiveness: Estimate\", \"Government Effectiveness: Estimate\", \"Government Effectiveness: Estimate\", \"Government Effectiveness: Estimate\", \"Government Effectiveness: Estimate\", \"Government Effectiveness: Estimate\", \"Government Effectiveness: Estimate\", \"Government Effectiveness: Estimate\", \"Government Effectiveness: Estimate\"], [\"Ease of doing business index (1=most business-friendly regulations)\", \"Ease of doing business index (1=most business-friendly regulations)\", \"Ease of doing business index (1=most business-friendly regulations)\", \"Ease of doing business index (1=most business-friendly regulations)\", \"Ease of doing business index (1=most business-friendly regulations)\", \"Ease of doing business index (1=most business-friendly regulations)\", \"Ease of doing business index (1=most business-friendly regulations)\", \"Ease of doing business index (1=most business-friendly regulations)\", \"Ease of doing business index (1=most business-friendly regulations)\", \"Ease of doing business index (1=most business-friendly regulations)\", \"Ease of doing business index (1=most business-friendly regulations)\", \"Ease of doing business index (1=most business-friendly regulations)\", \"Ease of doing business index (1=most business-friendly regulations)\", \"Ease of doing business index (1=most business-friendly regulations)\", \"Ease of doing business index (1=most business-friendly regulations)\", \"Ease of doing business index (1=most business-friendly regulations)\", \"Ease of doing business index (1=most business-friendly regulations)\", \"Ease of doing business index (1=most business-friendly regulations)\", \"Ease of doing business index (1=most business-friendly regulations)\", \"Ease of doing business index (1=most business-friendly regulations)\", \"Ease of doing business index (1=most business-friendly regulations)\"], [\"Strength of legal rights index (0=weak to 12=strong)\", \"Strength of legal rights index (0=weak to 12=strong)\", \"Strength of legal rights index (0=weak to 12=strong)\", \"Strength of legal rights index (0=weak to 12=strong)\", \"Strength of legal rights index (0=weak to 12=strong)\", \"Strength of legal rights index (0=weak to 12=strong)\", \"Strength of legal rights index (0=weak to 12=strong)\", \"Strength of legal rights index (0=weak to 12=strong)\", \"Strength of legal rights index (0=weak to 12=strong)\", \"Strength of legal rights index (0=weak to 12=strong)\", \"Strength of legal rights index (0=weak to 12=strong)\", \"Strength of legal rights index (0=weak to 12=strong)\", \"Strength of legal rights index (0=weak to 12=strong)\", \"Strength of legal rights index (0=weak to 12=strong)\", \"Strength of legal rights index (0=weak to 12=strong)\", \"Strength of legal rights index (0=weak to 12=strong)\", \"Strength of legal rights index (0=weak to 12=strong)\", \"Strength of legal rights index (0=weak to 12=strong)\", \"Strength of legal rights index (0=weak to 12=strong)\", \"Strength of legal rights index (0=weak to 12=strong)\", \"Strength of legal rights index (0=weak to 12=strong)\"], [\"Patent applications, residents\", \"Patent applications, residents\", \"Patent applications, residents\", \"Patent applications, residents\", \"Patent applications, residents\", \"Patent applications, residents\", \"Patent applications, residents\", \"Patent applications, residents\", \"Patent applications, residents\", \"Patent applications, residents\", \"Patent applications, residents\", \"Patent applications, residents\", \"Patent applications, residents\", \"Patent applications, residents\", \"Patent applications, residents\", \"Patent applications, residents\", \"Patent applications, residents\", \"Patent applications, residents\", \"Patent applications, residents\", \"Patent applications, residents\", \"Patent applications, residents\"], [\"Individuals using the Internet (% of population)\", \"Individuals using the Internet (% of population)\", \"Individuals using the Internet (% of population)\", \"Individuals using the Internet (% of population)\", \"Individuals using the Internet (% of population)\", \"Individuals using the Internet (% of population)\", \"Individuals using the Internet (% of population)\", \"Individuals using the Internet (% of population)\", \"Individuals using the Internet (% of population)\", \"Individuals using the Internet (% of population)\", \"Individuals using the Internet (% of population)\", \"Individuals using the Internet (% of population)\", \"Individuals using the Internet (% of population)\", \"Individuals using the Internet (% of population)\", \"Individuals using the Internet (% of population)\", \"Individuals using the Internet (% of population)\", \"Individuals using the Internet (% of population)\", \"Individuals using the Internet (% of population)\", \"Individuals using the Internet (% of population)\", \"Individuals using the Internet (% of population)\", \"Individuals using the Internet (% of population)\"], [\"Political Stability and Absence of Violence/Terrorism: Estimate\", \"Political Stability and Absence of Violence/Terrorism: Estimate\", \"Political Stability and Absence of Violence/Terrorism: Estimate\", \"Political Stability and Absence of Violence/Terrorism: Estimate\", \"Political Stability and Absence of Violence/Terrorism: Estimate\", \"Political Stability and Absence of Violence/Terrorism: Estimate\", \"Political Stability and Absence of Violence/Terrorism: Estimate\", \"Political Stability and Absence of Violence/Terrorism: Estimate\", \"Political Stability and Absence of Violence/Terrorism: Estimate\", \"Political Stability and Absence of Violence/Terrorism: Estimate\", \"Political Stability and Absence of Violence/Terrorism: Estimate\", \"Political Stability and Absence of Violence/Terrorism: Estimate\", \"Political Stability and Absence of Violence/Terrorism: Estimate\", \"Political Stability and Absence of Violence/Terrorism: Estimate\", \"Political Stability and Absence of Violence/Terrorism: Estimate\", \"Political Stability and Absence of Violence/Terrorism: Estimate\", \"Political Stability and Absence of Violence/Terrorism: Estimate\", \"Political Stability and Absence of Violence/Terrorism: Estimate\", \"Political Stability and Absence of Violence/Terrorism: Estimate\", \"Political Stability and Absence of Violence/Terrorism: Estimate\", \"Political Stability and Absence of Violence/Terrorism: Estimate\"], [\"Rule of Law: Estimate\", \"Rule of Law: Estimate\", \"Rule of Law: Estimate\", \"Rule of Law: Estimate\", \"Rule of Law: Estimate\", \"Rule of Law: Estimate\", \"Rule of Law: Estimate\", \"Rule of Law: Estimate\", \"Rule of Law: Estimate\", \"Rule of Law: Estimate\", \"Rule of Law: Estimate\", \"Rule of Law: Estimate\", \"Rule of Law: Estimate\", \"Rule of Law: Estimate\", \"Rule of Law: Estimate\", \"Rule of Law: Estimate\", \"Rule of Law: Estimate\", \"Rule of Law: Estimate\", \"Rule of Law: Estimate\", \"Rule of Law: Estimate\", \"Rule of Law: Estimate\"], [\"Regulatory Quality: Estimate\", \"Regulatory Quality: Estimate\", \"Regulatory Quality: Estimate\", \"Regulatory Quality: Estimate\", \"Regulatory Quality: Estimate\", \"Regulatory Quality: Estimate\", \"Regulatory Quality: Estimate\", \"Regulatory Quality: Estimate\", \"Regulatory Quality: Estimate\", \"Regulatory Quality: Estimate\", \"Regulatory Quality: Estimate\", \"Regulatory Quality: Estimate\", \"Regulatory Quality: Estimate\", \"Regulatory Quality: Estimate\", \"Regulatory Quality: Estimate\", \"Regulatory Quality: Estimate\", \"Regulatory Quality: Estimate\", \"Regulatory Quality: Estimate\", \"Regulatory Quality: Estimate\", \"Regulatory Quality: Estimate\", \"Regulatory Quality: Estimate\"], [\"Unmet need for contraception (% of married women ages 15-49)\", \"Unmet need for contraception (% of married women ages 15-49)\", \"Unmet need for contraception (% of married women ages 15-49)\", \"Unmet need for contraception (% of married women ages 15-49)\", \"Unmet need for contraception (% of married women ages 15-49)\", \"Unmet need for contraception (% of married women ages 15-49)\", \"Unmet need for contraception (% of married women ages 15-49)\", \"Unmet need for contraception (% of married women ages 15-49)\", \"Unmet need for contraception (% of married women ages 15-49)\", \"Unmet need for contraception (% of married women ages 15-49)\", \"Unmet need for contraception (% of married women ages 15-49)\", \"Unmet need for contraception (% of married women ages 15-49)\", \"Unmet need for contraception (% of married women ages 15-49)\", \"Unmet need for contraception (% of married women ages 15-49)\", \"Unmet need for contraception (% of married women ages 15-49)\", \"Unmet need for contraception (% of married women ages 15-49)\", \"Unmet need for contraception (% of married women ages 15-49)\", \"Unmet need for contraception (% of married women ages 15-49)\", \"Unmet need for contraception (% of married women ages 15-49)\", \"Unmet need for contraception (% of married women ages 15-49)\", \"Unmet need for contraception (% of married women ages 15-49)\"], [\"Voice and Accountability: Estimate\", \"Voice and Accountability: Estimate\", \"Voice and Accountability: Estimate\", \"Voice and Accountability: Estimate\", \"Voice and Accountability: Estimate\", \"Voice and Accountability: Estimate\", \"Voice and Accountability: Estimate\", \"Voice and Accountability: Estimate\", \"Voice and Accountability: Estimate\", \"Voice and Accountability: Estimate\", \"Voice and Accountability: Estimate\", \"Voice and Accountability: Estimate\", \"Voice and Accountability: Estimate\", \"Voice and Accountability: Estimate\", \"Voice and Accountability: Estimate\", \"Voice and Accountability: Estimate\", \"Voice and Accountability: Estimate\", \"Voice and Accountability: Estimate\", \"Voice and Accountability: Estimate\", \"Voice and Accountability: Estimate\", \"Voice and Accountability: Estimate\"]], \"hovertemplate\": \"Year: %{x}<br>Indicator: %{customdata}<br>CETS ID: %{y}<br>Countries: %{z}<extra></extra>\", \"type\": \"heatmap\", \"x\": [2000, 2001, 2002, 2003, 2004, 2005, 2006, 2007, 2008, 2009, 2010, 2011, 2012, 2013, 2014, 2015, 2016, 2017, 2018, 2019, 2020], \"y\": [\"CC.EST\", \"GB.XPD.RSDV.GD.ZS\", \"GE.EST\", \"IC.BUS.EASE.XQ\", \"IC.LGL.CRED.XQ\", \"IP.PAT.RESD\", \"IT.NET.USER.ZS\", \"PV.EST\", \"RL.EST\", \"RQ.EST\", \"SP.UWT.TFRT\", \"VA.EST\"], \"z\": [[187.0, null, 188.0, 188.0, 188.0, 188.0, 188.0, 189.0, 190.0, 190.0, 191.0, 191.0, 191.0, 191.0, 191.0, 191.0, 191.0, 191.0, 191.0, 191.0, null], [70.0, 78.0, 89.0, 85.0, 87.0, 84.0, 79.0, 89.0, 90.0, 88.0, 86.0, 85.0, 75.0, 76.0, 66.0, null, null, null, null, null, null], [186.0, null, 187.0, 187.0, 187.0, 188.0, 188.0, 189.0, 190.0, 190.0, 190.0, 191.0, 191.0, 191.0, 191.0, 191.0, 191.0, 191.0, 191.0, 191.0, null], [null, null, null, null, null, null, null, null, null, null, null, null, null, null, null, null, null, null, null, 185.0, null], [null, null, null, null, null, null, null, null, null, null, null, null, null, 184.0, 184.0, 185.0, 185.0, 185.0, 186.0, 186.0, null], [93.0, 87.0, 91.0, 93.0, 93.0, 97.0, 95.0, 97.0, 95.0, 90.0, 96.0, 104.0, 103.0, 113.0, 113.0, 114.0, 120.0, 115.0, 117.0, 106.0, null], [183.0, 185.0, 186.0, 181.0, 184.0, 184.0, 183.0, 190.0, 189.0, 188.0, 188.0, 191.0, 188.0, 190.0, 189.0, 189.0, 187.0, 185.0, 83.0, 68.0, null], [181.0, null, 181.0, 191.0, 191.0, 191.0, 192.0, 192.0, 192.0, 192.0, 192.0, 193.0, 193.0, 193.0, 193.0, 193.0, 193.0, 193.0, 193.0, 193.0, null], [192.0, null, 192.0, 192.0, 192.0, 192.0, 192.0, 192.0, 192.0, 192.0, 192.0, 193.0, 193.0, 193.0, 191.0, 191.0, 191.0, 191.0, 191.0, 191.0, null], [186.0, null, 187.0, 187.0, 187.0, 188.0, 188.0, 189.0, 190.0, 190.0, 190.0, 191.0, 191.0, 191.0, 191.0, 191.0, 191.0, 191.0, 191.0, 191.0, null], [16.0, 12.0, 10.0, 16.0, 15.0, 18.0, 19.0, 22.0, 19.0, 15.0, 32.0, 31.0, 29.0, 21.0, 37.0, 23.0, 31.0, 24.0, 34.0, 18.0, 4.0], [192.0, null, 192.0, 192.0, 192.0, 192.0, 192.0, 192.0, 192.0, 192.0, 192.0, 193.0, 193.0, 193.0, 193.0, 193.0, 193.0, 193.0, 193.0, 193.0, null]]}],                        {\"coloraxis\": {\"cmax\": 193, \"cmin\": 0, \"colorscale\": [[0.0, \"#0d0887\"], [0.1111111111111111, \"#46039f\"], [0.2222222222222222, \"#7201a8\"], [0.3333333333333333, \"#9c179e\"], [0.4444444444444444, \"#bd3786\"], [0.5555555555555556, \"#d8576b\"], [0.6666666666666666, \"#ed7953\"], [0.7777777777777778, \"#fb9f3a\"], [0.8888888888888888, \"#fdca26\"], [1.0, \"#f0f921\"]]}, \"height\": 550, \"template\": {\"data\": {\"bar\": [{\"error_x\": {\"color\": \"#2a3f5f\"}, \"error_y\": {\"color\": \"#2a3f5f\"}, \"marker\": {\"line\": {\"color\": \"#E5ECF6\", \"width\": 0.5}}, \"type\": \"bar\"}], \"barpolar\": [{\"marker\": {\"line\": {\"color\": \"#E5ECF6\", \"width\": 0.5}}, \"type\": \"barpolar\"}], \"carpet\": [{\"aaxis\": {\"endlinecolor\": \"#2a3f5f\", \"gridcolor\": \"white\", \"linecolor\": \"white\", \"minorgridcolor\": \"white\", \"startlinecolor\": \"#2a3f5f\"}, \"baxis\": {\"endlinecolor\": \"#2a3f5f\", \"gridcolor\": \"white\", \"linecolor\": \"white\", \"minorgridcolor\": \"white\", \"startlinecolor\": \"#2a3f5f\"}, \"type\": \"carpet\"}], \"choropleth\": [{\"colorbar\": {\"outlinewidth\": 0, \"ticks\": \"\"}, \"type\": \"choropleth\"}], \"contour\": [{\"colorbar\": {\"outlinewidth\": 0, \"ticks\": \"\"}, \"colorscale\": [[0.0, \"#0d0887\"], [0.1111111111111111, \"#46039f\"], [0.2222222222222222, \"#7201a8\"], [0.3333333333333333, \"#9c179e\"], [0.4444444444444444, \"#bd3786\"], [0.5555555555555556, \"#d8576b\"], [0.6666666666666666, \"#ed7953\"], [0.7777777777777778, \"#fb9f3a\"], [0.8888888888888888, \"#fdca26\"], [1.0, \"#f0f921\"]], \"type\": \"contour\"}], \"contourcarpet\": [{\"colorbar\": {\"outlinewidth\": 0, \"ticks\": \"\"}, \"type\": \"contourcarpet\"}], \"heatmap\": [{\"colorbar\": {\"outlinewidth\": 0, \"ticks\": \"\"}, \"colorscale\": [[0.0, \"#0d0887\"], [0.1111111111111111, \"#46039f\"], [0.2222222222222222, \"#7201a8\"], [0.3333333333333333, \"#9c179e\"], [0.4444444444444444, \"#bd3786\"], [0.5555555555555556, \"#d8576b\"], [0.6666666666666666, \"#ed7953\"], [0.7777777777777778, \"#fb9f3a\"], [0.8888888888888888, \"#fdca26\"], [1.0, \"#f0f921\"]], \"type\": \"heatmap\"}], \"heatmapgl\": [{\"colorbar\": {\"outlinewidth\": 0, \"ticks\": \"\"}, \"colorscale\": [[0.0, \"#0d0887\"], [0.1111111111111111, \"#46039f\"], [0.2222222222222222, \"#7201a8\"], [0.3333333333333333, \"#9c179e\"], [0.4444444444444444, \"#bd3786\"], [0.5555555555555556, \"#d8576b\"], [0.6666666666666666, \"#ed7953\"], [0.7777777777777778, \"#fb9f3a\"], [0.8888888888888888, \"#fdca26\"], [1.0, \"#f0f921\"]], \"type\": \"heatmapgl\"}], \"histogram\": [{\"marker\": {\"colorbar\": {\"outlinewidth\": 0, \"ticks\": \"\"}}, \"type\": \"histogram\"}], \"histogram2d\": [{\"colorbar\": {\"outlinewidth\": 0, \"ticks\": \"\"}, \"colorscale\": [[0.0, \"#0d0887\"], [0.1111111111111111, \"#46039f\"], [0.2222222222222222, \"#7201a8\"], [0.3333333333333333, \"#9c179e\"], [0.4444444444444444, \"#bd3786\"], [0.5555555555555556, \"#d8576b\"], [0.6666666666666666, \"#ed7953\"], [0.7777777777777778, \"#fb9f3a\"], [0.8888888888888888, \"#fdca26\"], [1.0, \"#f0f921\"]], \"type\": \"histogram2d\"}], \"histogram2dcontour\": [{\"colorbar\": {\"outlinewidth\": 0, \"ticks\": \"\"}, \"colorscale\": [[0.0, \"#0d0887\"], [0.1111111111111111, \"#46039f\"], [0.2222222222222222, \"#7201a8\"], [0.3333333333333333, \"#9c179e\"], [0.4444444444444444, \"#bd3786\"], [0.5555555555555556, \"#d8576b\"], [0.6666666666666666, \"#ed7953\"], [0.7777777777777778, \"#fb9f3a\"], [0.8888888888888888, \"#fdca26\"], [1.0, \"#f0f921\"]], \"type\": \"histogram2dcontour\"}], \"mesh3d\": [{\"colorbar\": {\"outlinewidth\": 0, \"ticks\": \"\"}, \"type\": \"mesh3d\"}], \"parcoords\": [{\"line\": {\"colorbar\": {\"outlinewidth\": 0, \"ticks\": \"\"}}, \"type\": \"parcoords\"}], \"pie\": [{\"automargin\": true, \"type\": \"pie\"}], \"scatter\": [{\"marker\": {\"colorbar\": {\"outlinewidth\": 0, \"ticks\": \"\"}}, \"type\": \"scatter\"}], \"scatter3d\": [{\"line\": {\"colorbar\": {\"outlinewidth\": 0, \"ticks\": \"\"}}, \"marker\": {\"colorbar\": {\"outlinewidth\": 0, \"ticks\": \"\"}}, \"type\": \"scatter3d\"}], \"scattercarpet\": [{\"marker\": {\"colorbar\": {\"outlinewidth\": 0, \"ticks\": \"\"}}, \"type\": \"scattercarpet\"}], \"scattergeo\": [{\"marker\": {\"colorbar\": {\"outlinewidth\": 0, \"ticks\": \"\"}}, \"type\": \"scattergeo\"}], \"scattergl\": [{\"marker\": {\"colorbar\": {\"outlinewidth\": 0, \"ticks\": \"\"}}, \"type\": \"scattergl\"}], \"scattermapbox\": [{\"marker\": {\"colorbar\": {\"outlinewidth\": 0, \"ticks\": \"\"}}, \"type\": \"scattermapbox\"}], \"scatterpolar\": [{\"marker\": {\"colorbar\": {\"outlinewidth\": 0, \"ticks\": \"\"}}, \"type\": \"scatterpolar\"}], \"scatterpolargl\": [{\"marker\": {\"colorbar\": {\"outlinewidth\": 0, \"ticks\": \"\"}}, \"type\": \"scatterpolargl\"}], \"scatterternary\": [{\"marker\": {\"colorbar\": {\"outlinewidth\": 0, \"ticks\": \"\"}}, \"type\": \"scatterternary\"}], \"surface\": [{\"colorbar\": {\"outlinewidth\": 0, \"ticks\": \"\"}, \"colorscale\": [[0.0, \"#0d0887\"], [0.1111111111111111, \"#46039f\"], [0.2222222222222222, \"#7201a8\"], [0.3333333333333333, \"#9c179e\"], [0.4444444444444444, \"#bd3786\"], [0.5555555555555556, \"#d8576b\"], [0.6666666666666666, \"#ed7953\"], [0.7777777777777778, \"#fb9f3a\"], [0.8888888888888888, \"#fdca26\"], [1.0, \"#f0f921\"]], \"type\": \"surface\"}], \"table\": [{\"cells\": {\"fill\": {\"color\": \"#EBF0F8\"}, \"line\": {\"color\": \"white\"}}, \"header\": {\"fill\": {\"color\": \"#C8D4E3\"}, \"line\": {\"color\": \"white\"}}, \"type\": \"table\"}]}, \"layout\": {\"annotationdefaults\": {\"arrowcolor\": \"#2a3f5f\", \"arrowhead\": 0, \"arrowwidth\": 1}, \"coloraxis\": {\"colorbar\": {\"outlinewidth\": 0, \"ticks\": \"\"}}, \"colorscale\": {\"diverging\": [[0, \"#8e0152\"], [0.1, \"#c51b7d\"], [0.2, \"#de77ae\"], [0.3, \"#f1b6da\"], [0.4, \"#fde0ef\"], [0.5, \"#f7f7f7\"], [0.6, \"#e6f5d0\"], [0.7, \"#b8e186\"], [0.8, \"#7fbc41\"], [0.9, \"#4d9221\"], [1, \"#276419\"]], \"sequential\": [[0.0, \"#0d0887\"], [0.1111111111111111, \"#46039f\"], [0.2222222222222222, \"#7201a8\"], [0.3333333333333333, \"#9c179e\"], [0.4444444444444444, \"#bd3786\"], [0.5555555555555556, \"#d8576b\"], [0.6666666666666666, \"#ed7953\"], [0.7777777777777778, \"#fb9f3a\"], [0.8888888888888888, \"#fdca26\"], [1.0, \"#f0f921\"]], \"sequentialminus\": [[0.0, \"#0d0887\"], [0.1111111111111111, \"#46039f\"], [0.2222222222222222, \"#7201a8\"], [0.3333333333333333, \"#9c179e\"], [0.4444444444444444, \"#bd3786\"], [0.5555555555555556, \"#d8576b\"], [0.6666666666666666, \"#ed7953\"], [0.7777777777777778, \"#fb9f3a\"], [0.8888888888888888, \"#fdca26\"], [1.0, \"#f0f921\"]]}, \"colorway\": [\"#636efa\", \"#EF553B\", \"#00cc96\", \"#ab63fa\", \"#FFA15A\", \"#19d3f3\", \"#FF6692\", \"#B6E880\", \"#FF97FF\", \"#FECB52\"], \"font\": {\"color\": \"#2a3f5f\"}, \"geo\": {\"bgcolor\": \"white\", \"lakecolor\": \"white\", \"landcolor\": \"#E5ECF6\", \"showlakes\": true, \"showland\": true, \"subunitcolor\": \"white\"}, \"hoverlabel\": {\"align\": \"left\"}, \"hovermode\": \"closest\", \"mapbox\": {\"style\": \"light\"}, \"paper_bgcolor\": \"white\", \"plot_bgcolor\": \"#E5ECF6\", \"polar\": {\"angularaxis\": {\"gridcolor\": \"white\", \"linecolor\": \"white\", \"ticks\": \"\"}, \"bgcolor\": \"#E5ECF6\", \"radialaxis\": {\"gridcolor\": \"white\", \"linecolor\": \"white\", \"ticks\": \"\"}}, \"scene\": {\"xaxis\": {\"backgroundcolor\": \"#E5ECF6\", \"gridcolor\": \"white\", \"gridwidth\": 2, \"linecolor\": \"white\", \"showbackground\": true, \"ticks\": \"\", \"zerolinecolor\": \"white\"}, \"yaxis\": {\"backgroundcolor\": \"#E5ECF6\", \"gridcolor\": \"white\", \"gridwidth\": 2, \"linecolor\": \"white\", \"showbackground\": true, \"ticks\": \"\", \"zerolinecolor\": \"white\"}, \"zaxis\": {\"backgroundcolor\": \"#E5ECF6\", \"gridcolor\": \"white\", \"gridwidth\": 2, \"linecolor\": \"white\", \"showbackground\": true, \"ticks\": \"\", \"zerolinecolor\": \"white\"}}, \"shapedefaults\": {\"line\": {\"color\": \"#2a3f5f\"}}, \"ternary\": {\"aaxis\": {\"gridcolor\": \"white\", \"linecolor\": \"white\", \"ticks\": \"\"}, \"baxis\": {\"gridcolor\": \"white\", \"linecolor\": \"white\", \"ticks\": \"\"}, \"bgcolor\": \"#E5ECF6\", \"caxis\": {\"gridcolor\": \"white\", \"linecolor\": \"white\", \"ticks\": \"\"}}, \"title\": {\"x\": 0.05}, \"xaxis\": {\"automargin\": true, \"gridcolor\": \"white\", \"linecolor\": \"white\", \"ticks\": \"\", \"title\": {\"standoff\": 15}, \"zerolinecolor\": \"white\", \"zerolinewidth\": 2}, \"yaxis\": {\"automargin\": true, \"gridcolor\": \"white\", \"linecolor\": \"white\", \"ticks\": \"\", \"title\": {\"standoff\": 15}, \"zerolinecolor\": \"white\", \"zerolinewidth\": 2}}}, \"title\": {\"text\": \"Government Pillar (12)\"}, \"xaxis\": {\"constrain\": \"domain\", \"scaleanchor\": \"y\", \"tickmode\": \"array\", \"tickvals\": [2000, 2001, 2002, 2003, 2004, 2005, 2006, 2007, 2008, 2009, 2010, 2011, 2012, 2013, 2014, 2015, 2016, 2017, 2018, 2019, 2020], \"title\": {\"text\": \"Year\"}}, \"yaxis\": {\"autorange\": \"reversed\", \"constrain\": \"domain\", \"tickmode\": \"array\", \"tickvals\": [\"CC.EST\", \"GB.XPD.RSDV.GD.ZS\", \"GE.EST\", \"IC.BUS.EASE.XQ\", \"IC.LGL.CRED.XQ\", \"IP.PAT.RESD\", \"IT.NET.USER.ZS\", \"PV.EST\", \"RL.EST\", \"RQ.EST\", \"SP.UWT.TFRT\", \"VA.EST\"], \"title\": {\"text\": \"Indicators\"}}},                        {\"responsive\": true}                    ).then(function(){\n",
       "                            \n",
       "var gd = document.getElementById('0ab7084a-bef1-4087-96b4-a2949e80bc0c');\n",
       "var x = new MutationObserver(function (mutations, observer) {{\n",
       "        var display = window.getComputedStyle(gd).display;\n",
       "        if (!display || display === 'none') {{\n",
       "            console.log([gd, 'removed!']);\n",
       "            Plotly.purge(gd);\n",
       "            observer.disconnect();\n",
       "        }}\n",
       "}});\n",
       "\n",
       "// Listen for the removal of the full notebook cells\n",
       "var notebookContainer = gd.closest('#notebook-container');\n",
       "if (notebookContainer) {{\n",
       "    x.observe(notebookContainer, {childList: true});\n",
       "}}\n",
       "\n",
       "// Listen for the clearing of the current output cell\n",
       "var outputEl = gd.closest('.output');\n",
       "if (outputEl) {{\n",
       "    x.observe(outputEl, {childList: true});\n",
       "}}\n",
       "\n",
       "                        })                };                });            </script>        </div>"
      ]
     },
     "metadata": {},
     "output_type": "display_data"
    }
   ],
   "source": [
    "ncountries = data.iso3c.nunique() # set all bars to maximum country number\n",
    "nseries = data.indicator.nunique()\n",
    "\n",
    "# here is now to customize the hovertext like you need\n",
    "# https://stackoverflow.com/questions/64600282\n",
    "\n",
    "def pillar_figure(limit, title):\n",
    "    \n",
    "    df = counts[counts.index.isin(limit)]\n",
    "    limited_names = names[names.index.isin(limit)]\n",
    "    indicators = np.repeat(np.array(limited_names), len(counts.columns)).reshape(len(limited_names), len(counts.columns))\n",
    "    template = 'Year: %{x}<br>Indicator: %{customdata}<br>CETS ID: %{y}<br>Countries: %{z}<extra></extra>'\n",
    "\n",
    "    fig = px.imshow(df, height=550, zmin=0, zmax=ncountries, title='{} Pillar ({})'.format(title, len(df))).update_layout(\n",
    "        xaxis=dict(tickmode='array', tickvals=df.columns),\n",
    "        yaxis=dict(tickmode='array', tickvals=df.index))\n",
    "    fig.update(data=[dict(customdata=indicators, hovertemplate=template)])\n",
    "    return(fig)\n",
    "\n",
    "display(HTML('<h3>Total Countries={}</h3>'.format(ncountries, nseries)))\n",
    "\n",
    "fig = pillar_figure(env, 'Environment')\n",
    "fig.show()\n",
    "fig = pillar_figure(soc, 'Social')\n",
    "fig.show()\n",
    "fig = pillar_figure(gov, 'Government')\n",
    "fig.show()\n"
   ]
  },
  {
   "cell_type": "code",
   "execution_count": 34,
   "metadata": {
    "scrolled": false
   },
   "outputs": [
    {
     "data": {
      "text/html": [
       "<div>\n",
       "<style scoped>\n",
       "    .dataframe tbody tr th:only-of-type {\n",
       "        vertical-align: middle;\n",
       "    }\n",
       "\n",
       "    .dataframe tbody tr th {\n",
       "        vertical-align: top;\n",
       "    }\n",
       "\n",
       "    .dataframe thead th {\n",
       "        text-align: right;\n",
       "    }\n",
       "</style>\n",
       "<table border=\"1\" class=\"dataframe\">\n",
       "  <thead>\n",
       "    <tr style=\"text-align: right;\">\n",
       "      <th></th>\n",
       "      <th>indicator</th>\n",
       "      <th>sector</th>\n",
       "      <th>MRY</th>\n",
       "      <th>MRY_Countries</th>\n",
       "      <th>MAX_Countries</th>\n",
       "    </tr>\n",
       "    <tr>\n",
       "      <th>indicatorID</th>\n",
       "      <th></th>\n",
       "      <th></th>\n",
       "      <th></th>\n",
       "      <th></th>\n",
       "      <th></th>\n",
       "    </tr>\n",
       "  </thead>\n",
       "  <tbody>\n",
       "    <tr>\n",
       "      <th>AG.LND.AGRI.ZS</th>\n",
       "      <td>Agricultural land (% of land area)</td>\n",
       "      <td>ENV</td>\n",
       "      <td>2018</td>\n",
       "      <td>192.0</td>\n",
       "      <td>192.0</td>\n",
       "    </tr>\n",
       "    <tr>\n",
       "      <th>AG.LND.FRST.ZS</th>\n",
       "      <td>Forest area (% of land area)</td>\n",
       "      <td>ENV</td>\n",
       "      <td>2018</td>\n",
       "      <td>193.0</td>\n",
       "      <td>193.0</td>\n",
       "    </tr>\n",
       "    <tr>\n",
       "      <th>AG.PRD.FOOD.XD</th>\n",
       "      <td>Food production index (2014-2016 = 100)</td>\n",
       "      <td>ENV</td>\n",
       "      <td>2018</td>\n",
       "      <td>189.0</td>\n",
       "      <td>189.0</td>\n",
       "    </tr>\n",
       "    <tr>\n",
       "      <th>EG.EGY.PRIM.PP.KD</th>\n",
       "      <td>Energy intensity level of primary energy (MJ/$...</td>\n",
       "      <td>ENV</td>\n",
       "      <td>2015</td>\n",
       "      <td>186.0</td>\n",
       "      <td>187.0</td>\n",
       "    </tr>\n",
       "    <tr>\n",
       "      <th>EG.ELC.COAL.ZS</th>\n",
       "      <td>Electricity production from coal sources (% of...</td>\n",
       "      <td>ENV</td>\n",
       "      <td>2015</td>\n",
       "      <td>138.0</td>\n",
       "      <td>138.0</td>\n",
       "    </tr>\n",
       "    <tr>\n",
       "      <th>EG.ELC.RNEW.ZS</th>\n",
       "      <td>Renewable electricity output (% of total elect...</td>\n",
       "      <td>ENV</td>\n",
       "      <td>2019</td>\n",
       "      <td>1.0</td>\n",
       "      <td>193.0</td>\n",
       "    </tr>\n",
       "    <tr>\n",
       "      <th>EG.FEC.RNEW.ZS</th>\n",
       "      <td>Renewable energy consumption (% of total final...</td>\n",
       "      <td>ENV</td>\n",
       "      <td>2015</td>\n",
       "      <td>191.0</td>\n",
       "      <td>191.0</td>\n",
       "    </tr>\n",
       "    <tr>\n",
       "      <th>EG.IMP.CONS.ZS</th>\n",
       "      <td>Energy imports, net (% of energy use)</td>\n",
       "      <td>ENV</td>\n",
       "      <td>2015</td>\n",
       "      <td>34.0</td>\n",
       "      <td>138.0</td>\n",
       "    </tr>\n",
       "    <tr>\n",
       "      <th>EG.USE.COMM.FO.ZS</th>\n",
       "      <td>Fossil fuel energy consumption (% of total)</td>\n",
       "      <td>ENV</td>\n",
       "      <td>2015</td>\n",
       "      <td>34.0</td>\n",
       "      <td>166.0</td>\n",
       "    </tr>\n",
       "    <tr>\n",
       "      <th>EG.USE.PCAP.KG.OE</th>\n",
       "      <td>Energy use (kg of oil equivalent per capita)</td>\n",
       "      <td>ENV</td>\n",
       "      <td>2015</td>\n",
       "      <td>34.0</td>\n",
       "      <td>167.0</td>\n",
       "    </tr>\n",
       "    <tr>\n",
       "      <th>EN.ATM.CO2E.PC</th>\n",
       "      <td>CO2 emissions (metric tons per capita)</td>\n",
       "      <td>ENV</td>\n",
       "      <td>2018</td>\n",
       "      <td>191.0</td>\n",
       "      <td>191.0</td>\n",
       "    </tr>\n",
       "    <tr>\n",
       "      <th>EN.ATM.METH.PC</th>\n",
       "      <td>Methane emissions (metric tons of CO2 equivale...</td>\n",
       "      <td>ENV</td>\n",
       "      <td>2018</td>\n",
       "      <td>191.0</td>\n",
       "      <td>191.0</td>\n",
       "    </tr>\n",
       "    <tr>\n",
       "      <th>EN.ATM.NOXE.PC</th>\n",
       "      <td>Nitrous oxide emissions (metric tons of CO2 eq...</td>\n",
       "      <td>ENV</td>\n",
       "      <td>2018</td>\n",
       "      <td>191.0</td>\n",
       "      <td>191.0</td>\n",
       "    </tr>\n",
       "    <tr>\n",
       "      <th>EN.ATM.PM25.MC.M3</th>\n",
       "      <td>PM2.5 air pollution, mean annual exposure (mic...</td>\n",
       "      <td>ENV</td>\n",
       "      <td>2017</td>\n",
       "      <td>186.0</td>\n",
       "      <td>186.0</td>\n",
       "    </tr>\n",
       "    <tr>\n",
       "      <th>EN.CLC.GHGR.MT.CE</th>\n",
       "      <td>GHG net emissions/removals by LUCF (Mt of CO2 ...</td>\n",
       "      <td>ENV</td>\n",
       "      <td>2009</td>\n",
       "      <td>41.0</td>\n",
       "      <td>58.0</td>\n",
       "    </tr>\n",
       "    <tr>\n",
       "      <th>EN.CLC.MDAT.ZS</th>\n",
       "      <td>Droughts, floods, extreme temperatures (% of p...</td>\n",
       "      <td>ENV</td>\n",
       "      <td>2009</td>\n",
       "      <td>165.0</td>\n",
       "      <td>165.0</td>\n",
       "    </tr>\n",
       "    <tr>\n",
       "      <th>EN.MAM.THRD.NO</th>\n",
       "      <td>Mammal species, threatened</td>\n",
       "      <td>ENV</td>\n",
       "      <td>2018</td>\n",
       "      <td>193.0</td>\n",
       "      <td>193.0</td>\n",
       "    </tr>\n",
       "    <tr>\n",
       "      <th>EN.POP.DNST</th>\n",
       "      <td>Population density (people per sq. km of land ...</td>\n",
       "      <td>ENV</td>\n",
       "      <td>2018</td>\n",
       "      <td>193.0</td>\n",
       "      <td>193.0</td>\n",
       "    </tr>\n",
       "    <tr>\n",
       "      <th>ER.H2O.FWTL.ZS</th>\n",
       "      <td>Annual freshwater withdrawals, total (% of int...</td>\n",
       "      <td>ENV</td>\n",
       "      <td>2017</td>\n",
       "      <td>174.0</td>\n",
       "      <td>174.0</td>\n",
       "    </tr>\n",
       "    <tr>\n",
       "      <th>ER.PTD.TOTL.ZS</th>\n",
       "      <td>Terrestrial and marine protected areas (% of t...</td>\n",
       "      <td>ENV</td>\n",
       "      <td>2018</td>\n",
       "      <td>190.0</td>\n",
       "      <td>191.0</td>\n",
       "    </tr>\n",
       "    <tr>\n",
       "      <th>NY.ADJ.DFOR.GN.ZS</th>\n",
       "      <td>Adjusted savings: net forest depletion (% of GNI)</td>\n",
       "      <td>ENV</td>\n",
       "      <td>2019</td>\n",
       "      <td>169.0</td>\n",
       "      <td>179.0</td>\n",
       "    </tr>\n",
       "    <tr>\n",
       "      <th>NY.ADJ.DRES.GN.ZS</th>\n",
       "      <td>Adjusted savings: natural resources depletion ...</td>\n",
       "      <td>ENV</td>\n",
       "      <td>2019</td>\n",
       "      <td>169.0</td>\n",
       "      <td>177.0</td>\n",
       "    </tr>\n",
       "  </tbody>\n",
       "</table>\n",
       "</div>"
      ],
      "text/plain": [
       "                                                           indicator sector  \\\n",
       "indicatorID                                                                   \n",
       "AG.LND.AGRI.ZS                    Agricultural land (% of land area)    ENV   \n",
       "AG.LND.FRST.ZS                          Forest area (% of land area)    ENV   \n",
       "AG.PRD.FOOD.XD               Food production index (2014-2016 = 100)    ENV   \n",
       "EG.EGY.PRIM.PP.KD  Energy intensity level of primary energy (MJ/$...    ENV   \n",
       "EG.ELC.COAL.ZS     Electricity production from coal sources (% of...    ENV   \n",
       "EG.ELC.RNEW.ZS     Renewable electricity output (% of total elect...    ENV   \n",
       "EG.FEC.RNEW.ZS     Renewable energy consumption (% of total final...    ENV   \n",
       "EG.IMP.CONS.ZS                 Energy imports, net (% of energy use)    ENV   \n",
       "EG.USE.COMM.FO.ZS        Fossil fuel energy consumption (% of total)    ENV   \n",
       "EG.USE.PCAP.KG.OE       Energy use (kg of oil equivalent per capita)    ENV   \n",
       "EN.ATM.CO2E.PC                CO2 emissions (metric tons per capita)    ENV   \n",
       "EN.ATM.METH.PC     Methane emissions (metric tons of CO2 equivale...    ENV   \n",
       "EN.ATM.NOXE.PC     Nitrous oxide emissions (metric tons of CO2 eq...    ENV   \n",
       "EN.ATM.PM25.MC.M3  PM2.5 air pollution, mean annual exposure (mic...    ENV   \n",
       "EN.CLC.GHGR.MT.CE  GHG net emissions/removals by LUCF (Mt of CO2 ...    ENV   \n",
       "EN.CLC.MDAT.ZS     Droughts, floods, extreme temperatures (% of p...    ENV   \n",
       "EN.MAM.THRD.NO                            Mammal species, threatened    ENV   \n",
       "EN.POP.DNST        Population density (people per sq. km of land ...    ENV   \n",
       "ER.H2O.FWTL.ZS     Annual freshwater withdrawals, total (% of int...    ENV   \n",
       "ER.PTD.TOTL.ZS     Terrestrial and marine protected areas (% of t...    ENV   \n",
       "NY.ADJ.DFOR.GN.ZS  Adjusted savings: net forest depletion (% of GNI)    ENV   \n",
       "NY.ADJ.DRES.GN.ZS  Adjusted savings: natural resources depletion ...    ENV   \n",
       "\n",
       "                    MRY  MRY_Countries  MAX_Countries  \n",
       "indicatorID                                            \n",
       "AG.LND.AGRI.ZS     2018          192.0          192.0  \n",
       "AG.LND.FRST.ZS     2018          193.0          193.0  \n",
       "AG.PRD.FOOD.XD     2018          189.0          189.0  \n",
       "EG.EGY.PRIM.PP.KD  2015          186.0          187.0  \n",
       "EG.ELC.COAL.ZS     2015          138.0          138.0  \n",
       "EG.ELC.RNEW.ZS     2019            1.0          193.0  \n",
       "EG.FEC.RNEW.ZS     2015          191.0          191.0  \n",
       "EG.IMP.CONS.ZS     2015           34.0          138.0  \n",
       "EG.USE.COMM.FO.ZS  2015           34.0          166.0  \n",
       "EG.USE.PCAP.KG.OE  2015           34.0          167.0  \n",
       "EN.ATM.CO2E.PC     2018          191.0          191.0  \n",
       "EN.ATM.METH.PC     2018          191.0          191.0  \n",
       "EN.ATM.NOXE.PC     2018          191.0          191.0  \n",
       "EN.ATM.PM25.MC.M3  2017          186.0          186.0  \n",
       "EN.CLC.GHGR.MT.CE  2009           41.0           58.0  \n",
       "EN.CLC.MDAT.ZS     2009          165.0          165.0  \n",
       "EN.MAM.THRD.NO     2018          193.0          193.0  \n",
       "EN.POP.DNST        2018          193.0          193.0  \n",
       "ER.H2O.FWTL.ZS     2017          174.0          174.0  \n",
       "ER.PTD.TOTL.ZS     2018          190.0          191.0  \n",
       "NY.ADJ.DFOR.GN.ZS  2019          169.0          179.0  \n",
       "NY.ADJ.DRES.GN.ZS  2019          169.0          177.0  "
      ]
     },
     "execution_count": 34,
     "metadata": {},
     "output_type": "execute_result"
    }
   ],
   "source": [
    "# Summary table\n",
    "df = data[['indicatorID', 'indicator', 'sector', 'date']].rename({'date': 'MRY'}, axis=1).groupby('indicatorID').max()\n",
    "df['MRY_Countries'] = counts.ffill(axis=1).iloc[:,-1]\n",
    "df['MAX_Countries']  = counts.max(axis=1)\n",
    "\n",
    "# qgrid.show_grid(df[['indicator', 'sector', 'MAX_Countries', 'MRY', 'MRY_Countries']])\n",
    "df[df.sector=='ENV']"
   ]
  },
  {
   "cell_type": "code",
   "execution_count": 35,
   "metadata": {},
   "outputs": [
    {
     "data": {
      "application/vnd.jupyter.widget-view+json": {
       "model_id": "af2c8403f7df4750b614b0ff6a11cc89",
       "version_major": 2,
       "version_minor": 0
      },
      "text/plain": [
       "interactive(children=(Dropdown(description='limit', options=('AG.LND.AGRI.ZS', 'AG.LND.FRST.ZS', 'AG.PRD.FOOD.…"
      ]
     },
     "metadata": {},
     "output_type": "display_data"
    }
   ],
   "source": [
    "# interactive tool for analyzing specific indicators\n",
    "dropdown = list(counts.index)\n",
    "dropdown.sort()\n",
    "\n",
    "@interact\n",
    "def indicator_detail(limit=dropdown):\n",
    "    display(HTML('<h3>{} - {}</h3>'.format(names[limit], sectors[limit])))\n",
    "        \n",
    "    fig = px.bar(counts.loc[limit], range_y=[0, ncountries]).update_layout(\n",
    "        xaxis=dict(tickmode='array', tickvals=counts.columns),\n",
    "        yaxis=dict(title=\"# Countries\"),\n",
    "        showlegend=False)\n",
    "    fig.update(data=[dict(hovertemplate='Year: %{x}<br># Countries: %{y}<extra></extra>')])\n",
    "    fig.show()\n",
    "    \n",
    "    \n",
    "    # this gives us a frame of NANs with complete countries and dates\n",
    "    df = data.pivot_table(index='iso3c', columns='date', values='value', aggfunc='count')\\\n",
    "            .applymap(lambda x: np.nan)\n",
    "        \n",
    "    # now update with counts\n",
    "    df.update(data[data.indicatorID==limit].pivot_table(index='iso3c', columns='date', values='value', aggfunc='count'))\n",
    "    df = df.apply(lambda x: x + economies.loc[x.name]['incomeLevelVal'], axis=1)\n",
    "    \n",
    "    incomeLevels = df.join(economies['incomeLevel'])['incomeLevel']\n",
    "    incomeLevels = np.repeat(np.array(incomeLevels), len(df.columns)).reshape(len(incomeLevels), len(df.columns))\n",
    "    customdata = np.dstack((incomeLevels, df.applymap(lambda x: 'no' if np.isnan(x) else 'yes')))\n",
    "    template = 'Country: %{y} (%{customdata[0]})<br>Year: %{x}<br>Value %{customdata[1]}<extra></extra>'\n",
    "    \n",
    "    df = df.join(economies['name'].rename('country')).set_index('country')\n",
    "    fig = px.imshow(df, height=800).update_layout(\n",
    "        xaxis=dict(tickmode='array', tickvals=df.columns, title='Year'),\n",
    "        yaxis=dict(tickmode='array', tickvals=df.index, tickfont={'size': 8}))\n",
    "    fig.update_layout(yaxis=dict(showticklabels=False, title='Countries'))\n",
    "    fig.layout.coloraxis.showscale = False\n",
    "    fig.update(data=[dict(customdata=customdata, hovertemplate=template)])\n",
    "    \n",
    "    fig.show()\n",
    "    \n",
    "    # jujitsu to make the table display nicely\n",
    "    display(HTML(wb.series.metadata.get(limit, db=75)._repr_html_()))\n",
    "    "
   ]
  },
  {
   "cell_type": "code",
   "execution_count": null,
   "metadata": {},
   "outputs": [],
   "source": []
  }
 ],
 "metadata": {
  "finalized": {
   "timestamp": 1604299963769,
   "trusted": true
  },
  "kernelspec": {
   "display_name": "Python 3",
   "language": "python",
   "name": "python3"
  },
  "language_info": {
   "codemirror_mode": {
    "name": "ipython",
    "version": 3
   },
   "file_extension": ".py",
   "mimetype": "text/x-python",
   "name": "python",
   "nbconvert_exporter": "python",
   "pygments_lexer": "ipython3",
   "version": "3.7.4"
  }
 },
 "nbformat": 4,
 "nbformat_minor": 2
}
