{
 "cells": [
  {
   "cell_type": "code",
   "execution_count": 1,
   "metadata": {},
   "outputs": [],
   "source": [
    "import pandas as pd\n",
    "import numpy as np\n",
    "import matplotlib.pyplot as plt\n",
    "import matplotlib.ticker as mtick\n",
    "from ipywidgets import interact, fixed, FloatSlider, IntSlider\n",
    "%matplotlib inline"
   ]
  },
  {
   "cell_type": "code",
   "execution_count": 2,
   "metadata": {},
   "outputs": [
    {
     "data": {
      "text/html": [
       "        <script type=\"text/javascript\">\n",
       "        window.PlotlyConfig = {MathJaxConfig: 'local'};\n",
       "        if (window.MathJax) {MathJax.Hub.Config({SVG: {font: \"STIX-Web\"}});}\n",
       "        if (typeof require !== 'undefined') {\n",
       "        require.undef(\"plotly\");\n",
       "        requirejs.config({\n",
       "            paths: {\n",
       "                'plotly': ['https://cdn.plot.ly/plotly-latest.min']\n",
       "            }\n",
       "        });\n",
       "        require(['plotly'], function(Plotly) {\n",
       "            window._Plotly = Plotly;\n",
       "        });\n",
       "        }\n",
       "        </script>\n",
       "        "
      ]
     },
     "metadata": {},
     "output_type": "display_data"
    }
   ],
   "source": [
    "\n",
    "# import cufflinks as cf\n",
    "from plotly.offline import download_plotlyjs, init_notebook_mode #,plot,iplot\n",
    "import plotly.graph_objects as go\n",
    "\n",
    "init_notebook_mode(connected=True)\n",
    "# cf.go_offline()"
   ]
  },
  {
   "cell_type": "code",
   "execution_count": 3,
   "metadata": {},
   "outputs": [
    {
     "data": {
      "text/plain": [
       "'115 indicators, 217 countries'"
      ]
     },
     "execution_count": 3,
     "metadata": {},
     "output_type": "execute_result"
    }
   ],
   "source": [
    "# load data and apply filters\n",
    "# the sort_index calls are unnecessary but helps when visually comparing 2 tables side-by-side\n",
    "data = pd.read_feather('../data/ESG_wdi.feather')\n",
    "data = data[(data.date>=2000)&(data.date<=2018)]\n",
    "\n",
    "# calculate an MRV table with indicators as rows and countries and columns\n",
    "mrv = data.pivot_table(index='indicatorID',columns='iso3c',values='date',aggfunc=max).sort_index(axis=1)\n",
    "\n",
    "nIndicators = len(mrv.index)\n",
    "nCountries  = len(mrv.columns)\n",
    "'{} indicators, {} countries'.format(nIndicators, nCountries)"
   ]
  },
  {
   "cell_type": "code",
   "execution_count": 4,
   "metadata": {},
   "outputs": [
    {
     "data": {
      "text/html": [
       "<div>\n",
       "<style scoped>\n",
       "    .dataframe tbody tr th:only-of-type {\n",
       "        vertical-align: middle;\n",
       "    }\n",
       "\n",
       "    .dataframe tbody tr th {\n",
       "        vertical-align: top;\n",
       "    }\n",
       "\n",
       "    .dataframe thead th {\n",
       "        text-align: right;\n",
       "    }\n",
       "</style>\n",
       "<table border=\"1\" class=\"dataframe\">\n",
       "  <thead>\n",
       "    <tr style=\"text-align: right;\">\n",
       "      <th>iso3c</th>\n",
       "      <th>ABW</th>\n",
       "      <th>AFG</th>\n",
       "      <th>AGO</th>\n",
       "      <th>ALB</th>\n",
       "      <th>AND</th>\n",
       "      <th>ARE</th>\n",
       "      <th>ARG</th>\n",
       "      <th>ARM</th>\n",
       "      <th>ASM</th>\n",
       "      <th>ATG</th>\n",
       "      <th>...</th>\n",
       "      <th>VGB</th>\n",
       "      <th>VIR</th>\n",
       "      <th>VNM</th>\n",
       "      <th>VUT</th>\n",
       "      <th>WSM</th>\n",
       "      <th>XKX</th>\n",
       "      <th>YEM</th>\n",
       "      <th>ZAF</th>\n",
       "      <th>ZMB</th>\n",
       "      <th>ZWE</th>\n",
       "    </tr>\n",
       "    <tr>\n",
       "      <th>indicatorID</th>\n",
       "      <th></th>\n",
       "      <th></th>\n",
       "      <th></th>\n",
       "      <th></th>\n",
       "      <th></th>\n",
       "      <th></th>\n",
       "      <th></th>\n",
       "      <th></th>\n",
       "      <th></th>\n",
       "      <th></th>\n",
       "      <th></th>\n",
       "      <th></th>\n",
       "      <th></th>\n",
       "      <th></th>\n",
       "      <th></th>\n",
       "      <th></th>\n",
       "      <th></th>\n",
       "      <th></th>\n",
       "      <th></th>\n",
       "      <th></th>\n",
       "      <th></th>\n",
       "    </tr>\n",
       "  </thead>\n",
       "  <tbody>\n",
       "    <tr>\n",
       "      <td>AG.LND.AGRI.ZS</td>\n",
       "      <td>2016.0</td>\n",
       "      <td>2016.0</td>\n",
       "      <td>2016.0</td>\n",
       "      <td>2016.0</td>\n",
       "      <td>2016.0</td>\n",
       "      <td>2016.0</td>\n",
       "      <td>2016.0</td>\n",
       "      <td>2016.0</td>\n",
       "      <td>2016.0</td>\n",
       "      <td>2016.0</td>\n",
       "      <td>...</td>\n",
       "      <td>2016.0</td>\n",
       "      <td>2016.0</td>\n",
       "      <td>2016.0</td>\n",
       "      <td>2016.0</td>\n",
       "      <td>2016.0</td>\n",
       "      <td>2007.0</td>\n",
       "      <td>2016.0</td>\n",
       "      <td>2016.0</td>\n",
       "      <td>2016.0</td>\n",
       "      <td>2016.0</td>\n",
       "    </tr>\n",
       "    <tr>\n",
       "      <td>AG.LND.FRST.ZS</td>\n",
       "      <td>2016.0</td>\n",
       "      <td>2016.0</td>\n",
       "      <td>2016.0</td>\n",
       "      <td>2016.0</td>\n",
       "      <td>2016.0</td>\n",
       "      <td>2016.0</td>\n",
       "      <td>2016.0</td>\n",
       "      <td>2016.0</td>\n",
       "      <td>2016.0</td>\n",
       "      <td>2016.0</td>\n",
       "      <td>...</td>\n",
       "      <td>2016.0</td>\n",
       "      <td>2016.0</td>\n",
       "      <td>2016.0</td>\n",
       "      <td>2016.0</td>\n",
       "      <td>2016.0</td>\n",
       "      <td>NaN</td>\n",
       "      <td>2016.0</td>\n",
       "      <td>2016.0</td>\n",
       "      <td>2016.0</td>\n",
       "      <td>2016.0</td>\n",
       "    </tr>\n",
       "    <tr>\n",
       "      <td>AG.LND.TOTL.K2</td>\n",
       "      <td>2018.0</td>\n",
       "      <td>2018.0</td>\n",
       "      <td>2018.0</td>\n",
       "      <td>2018.0</td>\n",
       "      <td>2018.0</td>\n",
       "      <td>2018.0</td>\n",
       "      <td>2018.0</td>\n",
       "      <td>2018.0</td>\n",
       "      <td>2018.0</td>\n",
       "      <td>2018.0</td>\n",
       "      <td>...</td>\n",
       "      <td>2018.0</td>\n",
       "      <td>2018.0</td>\n",
       "      <td>2018.0</td>\n",
       "      <td>2018.0</td>\n",
       "      <td>2018.0</td>\n",
       "      <td>2017.0</td>\n",
       "      <td>2018.0</td>\n",
       "      <td>2018.0</td>\n",
       "      <td>2018.0</td>\n",
       "      <td>2018.0</td>\n",
       "    </tr>\n",
       "    <tr>\n",
       "      <td>AG.PRD.FOOD.XD</td>\n",
       "      <td>NaN</td>\n",
       "      <td>2016.0</td>\n",
       "      <td>2016.0</td>\n",
       "      <td>2016.0</td>\n",
       "      <td>NaN</td>\n",
       "      <td>2016.0</td>\n",
       "      <td>2016.0</td>\n",
       "      <td>2016.0</td>\n",
       "      <td>2016.0</td>\n",
       "      <td>2016.0</td>\n",
       "      <td>...</td>\n",
       "      <td>2016.0</td>\n",
       "      <td>2016.0</td>\n",
       "      <td>2016.0</td>\n",
       "      <td>2016.0</td>\n",
       "      <td>2016.0</td>\n",
       "      <td>NaN</td>\n",
       "      <td>2016.0</td>\n",
       "      <td>2016.0</td>\n",
       "      <td>2016.0</td>\n",
       "      <td>2016.0</td>\n",
       "    </tr>\n",
       "    <tr>\n",
       "      <td>BN.CAB.XOKA.GD.ZS</td>\n",
       "      <td>2016.0</td>\n",
       "      <td>2018.0</td>\n",
       "      <td>2018.0</td>\n",
       "      <td>2018.0</td>\n",
       "      <td>NaN</td>\n",
       "      <td>NaN</td>\n",
       "      <td>2018.0</td>\n",
       "      <td>2018.0</td>\n",
       "      <td>NaN</td>\n",
       "      <td>2018.0</td>\n",
       "      <td>...</td>\n",
       "      <td>NaN</td>\n",
       "      <td>NaN</td>\n",
       "      <td>2018.0</td>\n",
       "      <td>2018.0</td>\n",
       "      <td>2018.0</td>\n",
       "      <td>2018.0</td>\n",
       "      <td>2016.0</td>\n",
       "      <td>2018.0</td>\n",
       "      <td>2018.0</td>\n",
       "      <td>2017.0</td>\n",
       "    </tr>\n",
       "  </tbody>\n",
       "</table>\n",
       "<p>5 rows × 217 columns</p>\n",
       "</div>"
      ],
      "text/plain": [
       "iso3c                 ABW     AFG     AGO     ALB     AND     ARE     ARG  \\\n",
       "indicatorID                                                                 \n",
       "AG.LND.AGRI.ZS     2016.0  2016.0  2016.0  2016.0  2016.0  2016.0  2016.0   \n",
       "AG.LND.FRST.ZS     2016.0  2016.0  2016.0  2016.0  2016.0  2016.0  2016.0   \n",
       "AG.LND.TOTL.K2     2018.0  2018.0  2018.0  2018.0  2018.0  2018.0  2018.0   \n",
       "AG.PRD.FOOD.XD        NaN  2016.0  2016.0  2016.0     NaN  2016.0  2016.0   \n",
       "BN.CAB.XOKA.GD.ZS  2016.0  2018.0  2018.0  2018.0     NaN     NaN  2018.0   \n",
       "\n",
       "iso3c                 ARM     ASM     ATG  ...     VGB     VIR     VNM  \\\n",
       "indicatorID                                ...                           \n",
       "AG.LND.AGRI.ZS     2016.0  2016.0  2016.0  ...  2016.0  2016.0  2016.0   \n",
       "AG.LND.FRST.ZS     2016.0  2016.0  2016.0  ...  2016.0  2016.0  2016.0   \n",
       "AG.LND.TOTL.K2     2018.0  2018.0  2018.0  ...  2018.0  2018.0  2018.0   \n",
       "AG.PRD.FOOD.XD     2016.0  2016.0  2016.0  ...  2016.0  2016.0  2016.0   \n",
       "BN.CAB.XOKA.GD.ZS  2018.0     NaN  2018.0  ...     NaN     NaN  2018.0   \n",
       "\n",
       "iso3c                 VUT     WSM     XKX     YEM     ZAF     ZMB     ZWE  \n",
       "indicatorID                                                                \n",
       "AG.LND.AGRI.ZS     2016.0  2016.0  2007.0  2016.0  2016.0  2016.0  2016.0  \n",
       "AG.LND.FRST.ZS     2016.0  2016.0     NaN  2016.0  2016.0  2016.0  2016.0  \n",
       "AG.LND.TOTL.K2     2018.0  2018.0  2017.0  2018.0  2018.0  2018.0  2018.0  \n",
       "AG.PRD.FOOD.XD     2016.0  2016.0     NaN  2016.0  2016.0  2016.0  2016.0  \n",
       "BN.CAB.XOKA.GD.ZS  2018.0  2018.0  2018.0  2016.0  2018.0  2018.0  2017.0  \n",
       "\n",
       "[5 rows x 217 columns]"
      ]
     },
     "execution_count": 4,
     "metadata": {},
     "output_type": "execute_result"
    }
   ],
   "source": [
    "# here's what the layout looks like\n",
    "mrv.head()"
   ]
  },
  {
   "cell_type": "code",
   "execution_count": 5,
   "metadata": {},
   "outputs": [],
   "source": [
    "# scale values to a 0:1 range at the country/series level\n",
    "\n",
    "## calculate mins and maxes for each country/series\n",
    "mm = data.groupby(['indicatorID', 'iso3c']).value.agg([np.min, np.max])\n",
    "data = data.merge(mm, left_on=['indicatorID', 'iso3c'], right_index=True)\n",
    "data['value2'] = (data.value-data.amin) / (data.amax-data.amin)\n",
    "\n",
    "# where max==min the scaled result will be NaN. We set this to 0.5 for compatibility with R\n",
    "data.loc[(pd.isna(data.value)==False) & pd.isna(data.value2), 'value2'] = 0.5"
   ]
  },
  {
   "cell_type": "markdown",
   "metadata": {},
   "source": [
    "Here we create a similar pivot table but with CV values. For compatibility with R\n",
    "we calculate the sample standard deviation (dof=N-1) instead of the population standard\n",
    "deviation (dof=N).\n",
    "The R code includes an alternate (slower) function to calculate the population stdev, so\n",
    "we could switch if we so decide, so long as the approaches are consistent.\n",
    "\n",
    "Series with only 1 element will produce a CV of either 0 or NaN depending on dof. Neither is acceptable\n",
    "but NaN is particularly problematic since it results in the ensuing calculations producing fewer\n",
    "observations than with no extrapolations. Instead the CV function returns a very high value\n",
    "so that the corresponding series will never be extrapolated, leaving the original MRV."
   ]
  },
  {
   "cell_type": "code",
   "execution_count": 6,
   "metadata": {},
   "outputs": [
    {
     "data": {
      "text/plain": [
       "'115 indicators, 217 countries'"
      ]
     },
     "execution_count": 6,
     "metadata": {},
     "output_type": "execute_result"
    }
   ],
   "source": [
    "def cv(s):\n",
    "    m = np.mean(s)\n",
    "    if m == 0:\n",
    "        return np.nan   # avoid div/0\n",
    "    elif len(s) == 1:\n",
    "        return np.inf      # return a CV value high enough that it will never be extrapolated\n",
    "    \n",
    "    return np.std(s, ddof=1) / m\n",
    "\n",
    "cvs = data.pivot_table(index='indicatorID', columns='iso3c', values='value2', aggfunc=cv).sort_index(axis=1)\n",
    "'{} indicators, {} countries'.format(len(cvs.index), len(cvs.columns))"
   ]
  },
  {
   "cell_type": "code",
   "execution_count": 7,
   "metadata": {},
   "outputs": [
    {
     "data": {
      "text/plain": [
       "0.00    0.000\n",
       "0.05    0.000\n",
       "0.10    0.375\n",
       "0.25    0.551\n",
       "0.50    0.688\n",
       "0.75    0.873\n",
       "0.90    1.204\n",
       "0.95    1.414\n",
       "1.00    4.243\n",
       "Name: value, dtype: float64"
      ]
     },
     "execution_count": 7,
     "metadata": {},
     "output_type": "execute_result"
    }
   ],
   "source": [
    "# confirm we're consistent with the R tools by calculating quintiles\n",
    "flat_cvs = pd.melt(cvs)\n",
    "flat_cvs = flat_cvs[flat_cvs.value!=np.inf]\n",
    "qt = flat_cvs.quantile([0, 0.05, 0.1, 0.25, 0.5, 0.75, 0.9, 0.95, 1]).value\n",
    "qt.round(3)"
   ]
  },
  {
   "cell_type": "code",
   "execution_count": 8,
   "metadata": {},
   "outputs": [
    {
     "data": {
      "image/png": "[encoded data removed]",
      "text/plain": [
       "<Figure size 720x432 with 1 Axes>"
      ]
     },
     "metadata": {
      "needs_background": "light"
     },
     "output_type": "display_data"
    }
   ],
   "source": [
    "# recreate the MRV availability chart from the first report\n",
    "fig, ax = plt.subplots(figsize=(10,6))\n",
    "plt.title('ESG Availability by MRV')\n",
    "ax.xaxis.set_major_formatter(mtick.PercentFormatter(xmax=1))\n",
    "ax.yaxis.set_major_formatter(mtick.PercentFormatter(xmax=1))\n",
    "ax.set_ylabel('Indicators')\n",
    "ax.set_xlabel('Countries')\n",
    "\n",
    "x = np.arange(0.1,1,0.1)\n",
    "\n",
    "for year in range(2015,2019):\n",
    "    y = list()\n",
    "    for t in x:\n",
    "        y.append((mrv.apply(lambda x: x>=year).sum(axis=1)/nCountries >= t).sum()/nIndicators)\n",
    "    \n",
    "    plt.plot(x, y, label='At least {}'.format(year))\n",
    "\n",
    "plt.legend()\n",
    "print()"
   ]
  },
  {
   "cell_type": "code",
   "execution_count": 9,
   "metadata": {},
   "outputs": [
    {
     "data": {
      "image/png": "[encoded data removed]",
      "text/plain": [
       "<Figure size 720x432 with 1 Axes>"
      ]
     },
     "metadata": {
      "needs_background": "light"
     },
     "output_type": "display_data"
    }
   ],
   "source": [
    "# Here's the same chart but with axes swapped and indicators in absolute counts to match the interactive tool below\n",
    "\n",
    "# recreate the MRV availability chart from the first report\n",
    "fig, ax = plt.subplots(figsize=(10,6))\n",
    "plt.title('ESG Availability by MRV')\n",
    "ax.yaxis.set_major_formatter(mtick.PercentFormatter(xmax=1))\n",
    "ax.set_ylabel('Countries')\n",
    "ax.set_xlabel('Indicators')\n",
    "\n",
    "x = range(nIndicators)\n",
    "\n",
    "for year in range(2015,2019):\n",
    "    y = (mrv.apply(lambda x: x>=year).sum(axis=1)/nCountries).sort_values(ascending=False)    \n",
    "    plt.plot(x, y, label='At least {}'.format(year))\n",
    "\n",
    "plt.legend()\n",
    "print()"
   ]
  },
  {
   "cell_type": "markdown",
   "metadata": {},
   "source": [
    "We can calculate a coverage score *V* b/t 0 and 1 for a given year *y* as follows:\n",
    "\n",
    "$$V_y = \\frac{\\sum_{i=1}^C \\sum_{j=1}^S \\left[M_{ij}>=y\\right]}{CS}$$\n",
    "\n",
    "* $S$ = number of indicators\n",
    "* $C$ = number of countries\n",
    "* $M$ = MRV for country $i$ and series $j$\n",
    "\n",
    "This is the same as \"area under the curve\" in the charts above and below"
   ]
  },
  {
   "cell_type": "code",
   "execution_count": 10,
   "metadata": {},
   "outputs": [
    {
     "data": {
      "text/plain": [
       "'7659: 0.3069124423963134'"
      ]
     },
     "execution_count": 10,
     "metadata": {},
     "output_type": "execute_result"
    }
   ],
   "source": [
    "# calculate baseline score for 2018\n",
    "year = 2018\n",
    "nYears = mrv.apply(lambda x: x>=year).to_numpy().sum()\n",
    "'{}: {}'.format(nYears, nYears/(nIndicators * nCountries))\n"
   ]
  },
  {
   "cell_type": "code",
   "execution_count": 14,
   "metadata": {},
   "outputs": [
    {
     "data": {
      "text/html": [
       "<div>\n",
       "<style scoped>\n",
       "    .dataframe tbody tr th:only-of-type {\n",
       "        vertical-align: middle;\n",
       "    }\n",
       "\n",
       "    .dataframe tbody tr th {\n",
       "        vertical-align: top;\n",
       "    }\n",
       "\n",
       "    .dataframe thead th {\n",
       "        text-align: right;\n",
       "    }\n",
       "</style>\n",
       "<table border=\"1\" class=\"dataframe\">\n",
       "  <thead>\n",
       "    <tr style=\"text-align: right;\">\n",
       "      <th></th>\n",
       "      <th>Year</th>\n",
       "      <th>Quantile</th>\n",
       "      <th>CV Threshold</th>\n",
       "      <th>Years To Extrapolate</th>\n",
       "      <th>Obs</th>\n",
       "      <th>Coverage</th>\n",
       "    </tr>\n",
       "  </thead>\n",
       "  <tbody>\n",
       "    <tr>\n",
       "      <td>0</td>\n",
       "      <td>2018</td>\n",
       "      <td>0.00</td>\n",
       "      <td>0.000000</td>\n",
       "      <td>0</td>\n",
       "      <td>7659</td>\n",
       "      <td>0.306912</td>\n",
       "    </tr>\n",
       "    <tr>\n",
       "      <td>1</td>\n",
       "      <td>2018</td>\n",
       "      <td>0.25</td>\n",
       "      <td>0.550934</td>\n",
       "      <td>1</td>\n",
       "      <td>8559</td>\n",
       "      <td>0.342977</td>\n",
       "    </tr>\n",
       "    <tr>\n",
       "      <td>2</td>\n",
       "      <td>2018</td>\n",
       "      <td>0.50</td>\n",
       "      <td>0.687533</td>\n",
       "      <td>1</td>\n",
       "      <td>9615</td>\n",
       "      <td>0.385294</td>\n",
       "    </tr>\n",
       "    <tr>\n",
       "      <td>3</td>\n",
       "      <td>2018</td>\n",
       "      <td>0.75</td>\n",
       "      <td>0.872532</td>\n",
       "      <td>1</td>\n",
       "      <td>10732</td>\n",
       "      <td>0.430054</td>\n",
       "    </tr>\n",
       "    <tr>\n",
       "      <td>4</td>\n",
       "      <td>2018</td>\n",
       "      <td>0.75</td>\n",
       "      <td>0.872532</td>\n",
       "      <td>2</td>\n",
       "      <td>12542</td>\n",
       "      <td>0.502585</td>\n",
       "    </tr>\n",
       "  </tbody>\n",
       "</table>\n",
       "</div>"
      ],
      "text/plain": [
       "   Year  Quantile  CV Threshold  Years To Extrapolate    Obs  Coverage\n",
       "0  2018      0.00      0.000000                     0   7659  0.306912\n",
       "1  2018      0.25      0.550934                     1   8559  0.342977\n",
       "2  2018      0.50      0.687533                     1   9615  0.385294\n",
       "3  2018      0.75      0.872532                     1  10732  0.430054\n",
       "4  2018      0.75      0.872532                     2  12542  0.502585"
      ]
     },
     "execution_count": 14,
     "metadata": {},
     "output_type": "execute_result"
    }
   ],
   "source": [
    "# Here we calculate the effect of imputing the MRV ahead by a number of\n",
    "# years for any cv below a threshold\n",
    "\n",
    "def estimate_model_obs(year=2018, cv_max=0.5, years_to_extrapolate=1):\n",
    "\n",
    "    test_mrv = mrv + cvs.applymap(lambda x: years_to_extrapolate if x<=cv_max else 0)\n",
    "    return test_mrv.apply(lambda x: x>=year).to_numpy().sum()\n",
    "\n",
    "def estimate_model_impact(year=2018, cv_max=0.5, years_to_extrapolate=1):\n",
    "\n",
    "\n",
    "    return estimate_model_obs(year, cv_max, years_to_extrapolate)/(nIndicators * nCountries)\n",
    "\n",
    "examples = pd.DataFrame({'Year': [2018, 2018, 2018, 2018, 2018],\n",
    "                         'Quantile': [0, 0.25, 0.5, 0.75, 0.75],\n",
    "                         'CV Threshold': 0,\n",
    "                         'Years To Extrapolate': [0, 1, 1, 1, 2]})\n",
    "\n",
    "examples['CV Threshold'] = examples['Quantile'].apply(lambda x: qt[x])\n",
    "examples['Obs'] = examples.apply(lambda x: estimate_model_obs(x['Year'], x['CV Threshold'], x['Years To Extrapolate']), axis=1)\n",
    "examples['Coverage'] = examples.apply(lambda x: estimate_model_impact(x['Year'], x['CV Threshold'], x['Years To Extrapolate']), axis=1)\n",
    "examples"
   ]
  },
  {
   "cell_type": "code",
   "execution_count": 102,
   "metadata": {},
   "outputs": [
    {
     "data": {
      "application/vnd.jupyter.widget-view+json": {
       "model_id": "78b297d8e10045d98775bfa5a859008e",
       "version_major": 2,
       "version_minor": 0
      },
      "text/plain": [
       "interactive(children=(IntSlider(value=2018, continuous_update=False, description='year', max=2019, min=2010), …"
      ]
     },
     "metadata": {},
     "output_type": "display_data"
    }
   ],
   "source": [
    "def mrv_plot(year=2018, cv_max=0.65, years_to_impute=1):\n",
    "    \n",
    "    # cv_max = 0.688\n",
    "    annots = []\n",
    "    # plot the unadjusted line as a reference\n",
    "    m = pd.DataFrame((mrv.apply(lambda x: x>=year).sum(axis=1)/nCountries),columns=['baseline'])\n",
    "    z = data.set_index('indicatorID')[['indicator']].drop_duplicates()\n",
    "    m['label'] = m.index.map(lambda x: z.loc[x].indicator)\n",
    "    \n",
    "    if years_to_impute > 0:\n",
    "        test_mrv = mrv + cvs.applymap(lambda x: years_to_impute if x<=cv_max else 0)\n",
    "        m['imputed'] = (test_mrv.apply(lambda x: x>=year).sum(axis=1)/nCountries)\n",
    "        m['gain'] = m['imputed'] - m['baseline']\n",
    "        m.sort_values('imputed', ascending=False, inplace=True)\n",
    "        \n",
    "        chart_data = [\n",
    "            go.Bar(name='Original Values<br>(n={}, AUC={:.2f})'. \\\n",
    "                   format(sum(m.baseline>0), m.baseline.sum()/nIndicators), x=m.label, y=m.baseline, marker_color=\"red\"),\n",
    "            go.Bar(name='With Imputation<br>(n={}, AUC={:.2f})'. \\\n",
    "                   format(sum(m.imputed>0), m.imputed.sum()/nIndicators), x=m.label, y=m.gain, marker_color=\"blue\")            \n",
    "        ]\n",
    "                        \n",
    "    else:\n",
    "        m.sort_values('baseline', ascending=False, inplace=True)\n",
    "        layout = go.Layout(xaxis=dict(showticklabels=False), yaxis=dict(tickformat=',.0%'))\n",
    "        chart_data = [\n",
    "            go.Bar(name='Original Values<br>(AUC={:.2f})'.format(m.baseline.sum()/nIndicators), x=m.label, y=m.baseline, marker_color=\"red\")            \n",
    "        ]\n",
    "        \n",
    "    layout = go.Layout(xaxis=dict(showticklabels=False), yaxis=dict(tickformat=',.0%'),hovermode='x')\n",
    "    fig = go.Figure(data=chart_data, layout=layout)\n",
    "    fig.update_layout(barmode=\"stack\",\n",
    "                      title='ESG Ranked Country Coverage for {}'.format(year),\n",
    "                      xaxis_title=\"Indicators\",\n",
    "                      yaxis_title=\"Country Coverage\",\n",
    "                      legend=dict(x=0.8, y=0.95),\n",
    "                      width=950, height=600,\n",
    "                      annotations=[dict(\n",
    "                          x=0.9, y=0.75,\n",
    "                          text='<br>'.join(annots),\n",
    "                          xref='paper', yref='paper', showarrow=False\n",
    "                      )]\n",
    "                      # hovermode='compare'\n",
    "                     )\n",
    "    fig.show()\n",
    "\n",
    "interact(mrv_plot,\n",
    "         year=IntSlider(min=2010,max=2019, value=2018, continuous_update=False),\n",
    "         cv_max=FloatSlider(min=0.0,max=qt[1], value=0.5, step=0.05, continuous_update=False),\n",
    "         years_to_impute=IntSlider(min=0,max=3, value=1, continuous_update=False))\n",
    "#mrv_plot()\n",
    "print()"
   ]
  },
  {
   "cell_type": "markdown",
   "metadata": {},
   "source": [
    "This section allows you to define test parameters and see the result in terms of coverage improvement."
   ]
  },
  {
   "cell_type": "code",
   "execution_count": 87,
   "metadata": {},
   "outputs": [
    {
     "name": "stdout",
     "output_type": "stream",
     "text": [
      "Total Indicators:                            115\n",
      "Indicators with MRV>=2018 (before/after):    54/77\n",
      "Improved Indicators (previously 0%/all):     23/51\n",
      "Indicators with 50% coverage (before/after): 38/43\n"
     ]
    }
   ],
   "source": [
    "# input parameters\n",
    "cv_max = 0.688\n",
    "years_to_impute = 1\n",
    "target_year = 2018\n",
    "coverage_pct = 0.5\n",
    "\n",
    "tmp = mrv\n",
    "s = tmp.apply(lambda x: x>=target_year).sum(axis=1) / nCountries\n",
    "baselineCoverage = len(s[s>=coverage_pct])\n",
    "\n",
    "# now calculate the level of improvement, if we extrapolate values for observations above a given CV threshold\n",
    "tmp = mrv + cvs.applymap(lambda x: years_to_impute if x<=cv_max else 0)\n",
    "s2 = tmp.apply(lambda x: x>=target_year).sum(axis=1) / nCountries\n",
    "\n",
    "# s2 > s gives an array of improved indicators. We can use this to query the original series\n",
    "improvedIndicators = len(s[s2 > s])\n",
    "\n",
    "reallyImprovedIndicators = len(s[(s2 > s) & (s == 0)])\n",
    "\n",
    "improvedCoverage = len(s2[s2>=coverage_pct])\n",
    "\n",
    "print('Total Indicators:                            {}'.format(nIndicators))\n",
    "print('Indicators with MRV>={} (before/after):    {}/{}'.format(target_year, len(s[s>0]), len(s2[s2>0])))\n",
    "print('Improved Indicators (previously 0%/all):     {}/{}'.format(reallyImprovedIndicators, improvedIndicators))\n",
    "print('Indicators with 50% coverage (before/after): {}/{}'.format(baselineCoverage, improvedCoverage))"
   ]
  },
  {
   "cell_type": "code",
   "execution_count": 13,
   "metadata": {},
   "outputs": [],
   "source": [
    "# other implementatons of the above\n",
    "\n",
    "def mrv_calc(year,cv_max,years_to_impute):\n",
    "    \n",
    "    if cv_max > 0:\n",
    "        test_mrv = mrv + cvs.applymap(lambda x: years_to_impute if x<=cv_max else 0)\n",
    "    else:\n",
    "        test_mrv = mrv\n",
    "        \n",
    "    return test_mrv.apply(lambda x: x>=year).to_numpy().sum()/(nIndicators * nCountries)\n",
    "\n",
    "def mrv_plot1(year=2018, cv_max=0.5, years_to_impute=1):\n",
    "    \n",
    "    fig, ax = plt.subplots(figsize=(16,8))\n",
    "    plt.title('ESG Ranked Country Coverage for {:.0f}'.format(year))\n",
    "    ax.yaxis.set_major_formatter(mtick.PercentFormatter(xmax=1))\n",
    "    ax.set_ylabel('Country Coverage')\n",
    "    ax.set_xlabel('Indicators')\n",
    "    x = range(len(mrv.index))\n",
    "\n",
    "    # plot the unadjusted line as a reference\n",
    "    m = pd.DataFrame((mrv.apply(lambda x: x>=year).sum(axis=1)/nCountries),columns=['baseline'])\n",
    "    if cv_max > 0:\n",
    "        test_mrv = mrv + cvs.applymap(lambda x: years_to_impute if x<=cv_max else 0)\n",
    "        m['imputed'] = (test_mrv.apply(lambda x: x>=year).sum(axis=1)/nCountries)\n",
    "        m['gain'] = m['imputed'] - m['baseline']\n",
    "        m.sort_values('imputed', ascending=False, inplace=True)\n",
    "        plt.bar(x, m.baseline, color=\"red\", label='Original Values\\n(AUC={:.2f})'.format(m.baseline.sum()/nIndicators))\n",
    "        plt.bar(x, m.gain, bottom=m.baseline, color=\"blue\", label='With Imputation\\n(AUC={:.2f})'.format(m.imputed.sum()/nIndicators))\n",
    "\n",
    "        # plt.annotate('AUC={:0.2f}'.format(m.baseline.sum()/nIndicators), xy=(0,0), xytext=(nIndicators, 0.85), color=\"red\", ha=\"right\")\n",
    "        # plt.annotate('AUC={:0.2f}'.format(m.imputed.sum()/nIndicators), xy=(0,0), xytext=(nIndicators, 0.82), color=\"blue\", ha=\"right\")\n",
    "        \n",
    "    else:\n",
    "        m.sort_values('baseline', ascending=False, inplace=True)\n",
    "        plt.bar(x, m.baseline, color=\"red\", label='Original Values\\n(AUC={:.2f})'.format(m.baseline.sum()/nIndicators))\n",
    "        \n",
    "\n",
    "    plt.legend()\n",
    "    \n",
    "def mrv_plot2(year=2018, cv_max=0.5, years_to_impute=1):\n",
    "    \n",
    "    fig, ax = plt.subplots(figsize=(16,8))\n",
    "    plt.title('ESG Ranked Country Coverage for {:.0f}'.format(year))\n",
    "    ax.yaxis.set_major_formatter(mtick.PercentFormatter(xmax=1))\n",
    "    ax.set_ylabel('Country Coverage')\n",
    "    ax.set_xlabel('Indicators')\n",
    "    x = range(len(mrv.index))\n",
    "        \n",
    "    if cv_max > 0:\n",
    "        test_mrv = mrv + cvs.applymap(lambda x: years_to_impute if x<=cv_max else 0)\n",
    "        y = (test_mrv.apply(lambda x: x>=year).sum(axis=1)/nCountries).sort_values(ascending=False)\n",
    "        plt.fill_between(x, y,alpha=0.25)\n",
    "        plt.plot(x, y, label='With Imputation', color=\"blue\")\n",
    "        plt.annotate('AUC={:0.2f}'.format(y.sum()/nIndicators), xy=(0,0), xytext=(2,0.07), color=\"blue\")\n",
    "\n",
    "    # plot the unadjusted line as a reference\n",
    "    y = (mrv.apply(lambda x: x>=year).sum(axis=1)/nCountries).sort_values(ascending=False)\n",
    "    plt.plot(x, y, color=\"red\", label='Original values')\n",
    "    plt.annotate('AUC={:0.2f}'.format(y.sum()/nIndicators), xy=(0,0), xytext=(2,0.02), color=\"red\")\n",
    "    plt.legend()\n",
    "\n",
    "# mrv_plot1()\n",
    "# mrv_plot2()"
   ]
  }
 ],
 "metadata": {
  "finalized": {
   "timestamp": 1594353272533,
   "trusted": true
  },
  "kernelspec": {
   "display_name": "Python 3",
   "language": "python",
   "name": "python3"
  },
  "language_info": {
   "codemirror_mode": {
    "name": "ipython",
    "version": 3
   },
   "file_extension": ".py",
   "mimetype": "text/x-python",
   "name": "python",
   "nbconvert_exporter": "python",
   "pygments_lexer": "ipython3",
   "version": "3.7.4"
  }
 },
 "nbformat": 4,
 "nbformat_minor": 2
}
