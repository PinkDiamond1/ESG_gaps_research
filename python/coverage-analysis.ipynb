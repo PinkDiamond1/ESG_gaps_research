{
 "cells": [
  {
   "cell_type": "code",
   "execution_count": 19,
   "metadata": {},
   "outputs": [],
   "source": [
    "import pandas as pd\n",
    "import numpy as np\n",
    "import matplotlib.pyplot as plt\n",
    "import matplotlib.ticker as mtick\n",
    "from ipywidgets import interact, fixed, FloatSlider\n",
    "%matplotlib inline"
   ]
  },
  {
   "cell_type": "code",
   "execution_count": 2,
   "metadata": {},
   "outputs": [],
   "source": [
    "# load data and the pre-calculated table of CV values\n",
    "# the sort_index calls are unnecessary but helps when visually comparing 2 tables side-by-side\n",
    "cvs = pd.read_feather('../data/ESG_cv.feather').set_index('cetsid').sort_index(axis=1)\n",
    "data = pd.read_feather('../data/ESG_wdi.feather')\n",
    "\n",
    "# calculate an MRV table that has the same structure as the cvs table\n",
    "mrv = data.pivot_table(index='indicatorID',columns='iso3c',values='date',aggfunc='max').sort_index(axis=1)"
   ]
  },
  {
   "cell_type": "code",
   "execution_count": 3,
   "metadata": {},
   "outputs": [
    {
     "data": {
      "text/html": [
       "<div>\n",
       "<style scoped>\n",
       "    .dataframe tbody tr th:only-of-type {\n",
       "        vertical-align: middle;\n",
       "    }\n",
       "\n",
       "    .dataframe tbody tr th {\n",
       "        vertical-align: top;\n",
       "    }\n",
       "\n",
       "    .dataframe thead th {\n",
       "        text-align: right;\n",
       "    }\n",
       "</style>\n",
       "<table border=\"1\" class=\"dataframe\">\n",
       "  <thead>\n",
       "    <tr style=\"text-align: right;\">\n",
       "      <th>iso3c</th>\n",
       "      <th>ABW</th>\n",
       "      <th>AFG</th>\n",
       "      <th>AGO</th>\n",
       "      <th>ALB</th>\n",
       "      <th>AND</th>\n",
       "      <th>ARE</th>\n",
       "      <th>ARG</th>\n",
       "      <th>ARM</th>\n",
       "      <th>ASM</th>\n",
       "      <th>ATG</th>\n",
       "      <th>...</th>\n",
       "      <th>VGB</th>\n",
       "      <th>VIR</th>\n",
       "      <th>VNM</th>\n",
       "      <th>VUT</th>\n",
       "      <th>WSM</th>\n",
       "      <th>XKX</th>\n",
       "      <th>YEM</th>\n",
       "      <th>ZAF</th>\n",
       "      <th>ZMB</th>\n",
       "      <th>ZWE</th>\n",
       "    </tr>\n",
       "    <tr>\n",
       "      <th>indicatorID</th>\n",
       "      <th></th>\n",
       "      <th></th>\n",
       "      <th></th>\n",
       "      <th></th>\n",
       "      <th></th>\n",
       "      <th></th>\n",
       "      <th></th>\n",
       "      <th></th>\n",
       "      <th></th>\n",
       "      <th></th>\n",
       "      <th></th>\n",
       "      <th></th>\n",
       "      <th></th>\n",
       "      <th></th>\n",
       "      <th></th>\n",
       "      <th></th>\n",
       "      <th></th>\n",
       "      <th></th>\n",
       "      <th></th>\n",
       "      <th></th>\n",
       "      <th></th>\n",
       "    </tr>\n",
       "  </thead>\n",
       "  <tbody>\n",
       "    <tr>\n",
       "      <td>AG.LND.AGRI.ZS</td>\n",
       "      <td>2016.0</td>\n",
       "      <td>2016.0</td>\n",
       "      <td>2016.0</td>\n",
       "      <td>2016.0</td>\n",
       "      <td>2016.0</td>\n",
       "      <td>2016.0</td>\n",
       "      <td>2016.0</td>\n",
       "      <td>2016.0</td>\n",
       "      <td>2016.0</td>\n",
       "      <td>2016.0</td>\n",
       "      <td>...</td>\n",
       "      <td>2016.0</td>\n",
       "      <td>2016.0</td>\n",
       "      <td>2016.0</td>\n",
       "      <td>2016.0</td>\n",
       "      <td>2016.0</td>\n",
       "      <td>2007.0</td>\n",
       "      <td>2016.0</td>\n",
       "      <td>2016.0</td>\n",
       "      <td>2016.0</td>\n",
       "      <td>2016.0</td>\n",
       "    </tr>\n",
       "    <tr>\n",
       "      <td>AG.LND.FRST.ZS</td>\n",
       "      <td>2016.0</td>\n",
       "      <td>2016.0</td>\n",
       "      <td>2016.0</td>\n",
       "      <td>2016.0</td>\n",
       "      <td>2016.0</td>\n",
       "      <td>2016.0</td>\n",
       "      <td>2016.0</td>\n",
       "      <td>2016.0</td>\n",
       "      <td>2016.0</td>\n",
       "      <td>2016.0</td>\n",
       "      <td>...</td>\n",
       "      <td>2016.0</td>\n",
       "      <td>2016.0</td>\n",
       "      <td>2016.0</td>\n",
       "      <td>2016.0</td>\n",
       "      <td>2016.0</td>\n",
       "      <td>NaN</td>\n",
       "      <td>2016.0</td>\n",
       "      <td>2016.0</td>\n",
       "      <td>2016.0</td>\n",
       "      <td>2016.0</td>\n",
       "    </tr>\n",
       "    <tr>\n",
       "      <td>AG.LND.TOTL.K2</td>\n",
       "      <td>2018.0</td>\n",
       "      <td>2018.0</td>\n",
       "      <td>2018.0</td>\n",
       "      <td>2018.0</td>\n",
       "      <td>2018.0</td>\n",
       "      <td>2018.0</td>\n",
       "      <td>2018.0</td>\n",
       "      <td>2018.0</td>\n",
       "      <td>2018.0</td>\n",
       "      <td>2018.0</td>\n",
       "      <td>...</td>\n",
       "      <td>2018.0</td>\n",
       "      <td>2018.0</td>\n",
       "      <td>2018.0</td>\n",
       "      <td>2018.0</td>\n",
       "      <td>2018.0</td>\n",
       "      <td>2017.0</td>\n",
       "      <td>2018.0</td>\n",
       "      <td>2018.0</td>\n",
       "      <td>2018.0</td>\n",
       "      <td>2018.0</td>\n",
       "    </tr>\n",
       "    <tr>\n",
       "      <td>AG.PRD.FOOD.XD</td>\n",
       "      <td>NaN</td>\n",
       "      <td>2016.0</td>\n",
       "      <td>2016.0</td>\n",
       "      <td>2016.0</td>\n",
       "      <td>NaN</td>\n",
       "      <td>2016.0</td>\n",
       "      <td>2016.0</td>\n",
       "      <td>2016.0</td>\n",
       "      <td>2016.0</td>\n",
       "      <td>2016.0</td>\n",
       "      <td>...</td>\n",
       "      <td>2016.0</td>\n",
       "      <td>2016.0</td>\n",
       "      <td>2016.0</td>\n",
       "      <td>2016.0</td>\n",
       "      <td>2016.0</td>\n",
       "      <td>NaN</td>\n",
       "      <td>2016.0</td>\n",
       "      <td>2016.0</td>\n",
       "      <td>2016.0</td>\n",
       "      <td>2016.0</td>\n",
       "    </tr>\n",
       "    <tr>\n",
       "      <td>BN.CAB.XOKA.GD.ZS</td>\n",
       "      <td>2016.0</td>\n",
       "      <td>2018.0</td>\n",
       "      <td>2018.0</td>\n",
       "      <td>2018.0</td>\n",
       "      <td>NaN</td>\n",
       "      <td>NaN</td>\n",
       "      <td>2018.0</td>\n",
       "      <td>2018.0</td>\n",
       "      <td>NaN</td>\n",
       "      <td>2018.0</td>\n",
       "      <td>...</td>\n",
       "      <td>NaN</td>\n",
       "      <td>NaN</td>\n",
       "      <td>2018.0</td>\n",
       "      <td>2018.0</td>\n",
       "      <td>2018.0</td>\n",
       "      <td>2018.0</td>\n",
       "      <td>2016.0</td>\n",
       "      <td>2018.0</td>\n",
       "      <td>2018.0</td>\n",
       "      <td>2017.0</td>\n",
       "    </tr>\n",
       "  </tbody>\n",
       "</table>\n",
       "<p>5 rows × 217 columns</p>\n",
       "</div>"
      ],
      "text/plain": [
       "iso3c                 ABW     AFG     AGO     ALB     AND     ARE     ARG  \\\n",
       "indicatorID                                                                 \n",
       "AG.LND.AGRI.ZS     2016.0  2016.0  2016.0  2016.0  2016.0  2016.0  2016.0   \n",
       "AG.LND.FRST.ZS     2016.0  2016.0  2016.0  2016.0  2016.0  2016.0  2016.0   \n",
       "AG.LND.TOTL.K2     2018.0  2018.0  2018.0  2018.0  2018.0  2018.0  2018.0   \n",
       "AG.PRD.FOOD.XD        NaN  2016.0  2016.0  2016.0     NaN  2016.0  2016.0   \n",
       "BN.CAB.XOKA.GD.ZS  2016.0  2018.0  2018.0  2018.0     NaN     NaN  2018.0   \n",
       "\n",
       "iso3c                 ARM     ASM     ATG  ...     VGB     VIR     VNM  \\\n",
       "indicatorID                                ...                           \n",
       "AG.LND.AGRI.ZS     2016.0  2016.0  2016.0  ...  2016.0  2016.0  2016.0   \n",
       "AG.LND.FRST.ZS     2016.0  2016.0  2016.0  ...  2016.0  2016.0  2016.0   \n",
       "AG.LND.TOTL.K2     2018.0  2018.0  2018.0  ...  2018.0  2018.0  2018.0   \n",
       "AG.PRD.FOOD.XD     2016.0  2016.0  2016.0  ...  2016.0  2016.0  2016.0   \n",
       "BN.CAB.XOKA.GD.ZS  2018.0     NaN  2018.0  ...     NaN     NaN  2018.0   \n",
       "\n",
       "iso3c                 VUT     WSM     XKX     YEM     ZAF     ZMB     ZWE  \n",
       "indicatorID                                                                \n",
       "AG.LND.AGRI.ZS     2016.0  2016.0  2007.0  2016.0  2016.0  2016.0  2016.0  \n",
       "AG.LND.FRST.ZS     2016.0  2016.0     NaN  2016.0  2016.0  2016.0  2016.0  \n",
       "AG.LND.TOTL.K2     2018.0  2018.0  2017.0  2018.0  2018.0  2018.0  2018.0  \n",
       "AG.PRD.FOOD.XD     2016.0  2016.0     NaN  2016.0  2016.0  2016.0  2016.0  \n",
       "BN.CAB.XOKA.GD.ZS  2018.0  2018.0  2018.0  2016.0  2018.0  2018.0  2017.0  \n",
       "\n",
       "[5 rows x 217 columns]"
      ]
     },
     "execution_count": 3,
     "metadata": {},
     "output_type": "execute_result"
    }
   ],
   "source": [
    "# here's what the layout looks like\n",
    "mrv.head()"
   ]
  },
  {
   "cell_type": "code",
   "execution_count": 32,
   "metadata": {},
   "outputs": [
    {
     "name": "stdout",
     "output_type": "stream",
     "text": [
      "\n"
     ]
    },
    {
     "data": {
      "image/png": "[encoded data removed]",
      "text/plain": [
       "<Figure size 720x432 with 1 Axes>"
      ]
     },
     "metadata": {
      "needs_background": "light"
     },
     "output_type": "display_data"
    }
   ],
   "source": [
    "nIndicators = len(mrv.index)\n",
    "nCountries  = len(mrv.columns)\n",
    "\n",
    "# recreate the MRV availability chart from the first report\n",
    "fig, ax = plt.subplots(figsize=(10,6))\n",
    "plt.title('ESG Availability by MRV')\n",
    "ax.xaxis.set_major_formatter(mtick.PercentFormatter(xmax=1))\n",
    "ax.yaxis.set_major_formatter(mtick.PercentFormatter(xmax=1))\n",
    "ax.set_ylabel('Indicators')\n",
    "ax.set_xlabel('Countries')\n",
    "\n",
    "x = np.arange(0.1,1,0.1)\n",
    "\n",
    "for year in range(2015,2019):\n",
    "    y = list()\n",
    "    for t in x:\n",
    "        y.append((mrv.apply(lambda x: x>=year).sum(axis=1)/nCountries >= t).sum()/nIndicators)\n",
    "    \n",
    "    plt.plot(x, y, label='At least {}'.format(year))\n",
    "\n",
    "plt.legend()\n",
    "print()"
   ]
  },
  {
   "cell_type": "markdown",
   "metadata": {},
   "source": [
    "We can calculate a coverage score *V* b/t 0 and 1 for a given year *y* as follows:\n",
    "\n",
    "$$V_y = \\frac{\\sum_{i=1}^C \\sum_{j=1}^S [MRV(X_{ij})>=y]}{CS}$$\n",
    "\n",
    "$S$ = number of indicators  \n",
    "$C$ = number of countries"
   ]
  },
  {
   "cell_type": "code",
   "execution_count": 14,
   "metadata": {},
   "outputs": [
    {
     "data": {
      "text/plain": [
       "0.3347016225845177"
      ]
     },
     "execution_count": 14,
     "metadata": {},
     "output_type": "execute_result"
    }
   ],
   "source": [
    "\n",
    "year = 2018\n",
    "mrv.apply(lambda x: x>=year).to_numpy().sum()/(nIndicators * nCountries)\n",
    "# s = (mrv.apply(lambda x: x>=year).sum(axis=1)/nCountries)\n",
    "# s.where(s>=0.9).dropna()"
   ]
  },
  {
   "cell_type": "code",
   "execution_count": 17,
   "metadata": {},
   "outputs": [
    {
     "data": {
      "text/plain": [
       "0.45928048638810365"
      ]
     },
     "execution_count": 17,
     "metadata": {},
     "output_type": "execute_result"
    }
   ],
   "source": [
    "# Here we calculate the effect of imputing the MRV ahead by a number of\n",
    "# years for any cv below a threshold\n",
    "cv_min = 0.5\n",
    "years_to_impute = 1\n",
    "\n",
    "test_mrv = mrv + cvs.applymap(lambda x: years_to_impute if x<=cv_min else 0)\n",
    "test_mrv.apply(lambda x: x>=year).to_numpy().sum()/(nIndicators * nCountries)"
   ]
  },
  {
   "cell_type": "code",
   "execution_count": 33,
   "metadata": {},
   "outputs": [
    {
     "data": {
      "application/vnd.jupyter.widget-view+json": {
       "model_id": "a940c259ce5346debfb32aefd302347d",
       "version_major": 2,
       "version_minor": 0
      },
      "text/plain": [
       "interactive(children=(FloatSlider(value=2018.0, continuous_update=False, description='year', max=2019.0, min=2…"
      ]
     },
     "metadata": {},
     "output_type": "display_data"
    },
    {
     "name": "stdout",
     "output_type": "stream",
     "text": [
      "\n"
     ]
    }
   ],
   "source": [
    "\n",
    "def mrv_calc(year,cv_min,years_to_impute):\n",
    "    global mrv, cvs\n",
    "    \n",
    "    if cv_min > 0:\n",
    "        test_mrv = mrv + cvs.applymap(lambda x: years_to_impute if x<=cv_min else 0)\n",
    "    else:\n",
    "        test_mrv = mrv\n",
    "        \n",
    "    return test_mrv.apply(lambda x: x>=year).to_numpy().sum()/(nIndicators * nCountries)\n",
    "\n",
    "interact(mrv_calc,\n",
    "         year=FloatSlider(min=2015,max=2019, value=2018, step=1, continuous_update=False,readout_format=\".0f\"),\n",
    "         cv_min=FloatSlider(min=0.0,max=1.0, value=0.5, step=0.05, continuous_update=False),\n",
    "         years_to_impute=FloatSlider(min=1,max=3, value=1, step=1, continuous_update=False,readout_format=\".0f\"))\n",
    "print()"
   ]
  }
 ],
 "metadata": {
  "kernelspec": {
   "display_name": "Python 3",
   "language": "python",
   "name": "python3"
  },
  "language_info": {
   "codemirror_mode": {
    "name": "ipython",
    "version": 3
   },
   "file_extension": ".py",
   "mimetype": "text/x-python",
   "name": "python",
   "nbconvert_exporter": "python",
   "pygments_lexer": "ipython3",
   "version": "3.7.4"
  }
 },
 "nbformat": 4,
 "nbformat_minor": 2
}
