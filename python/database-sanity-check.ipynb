{
 "cells": [
  {
   "cell_type": "code",
   "execution_count": 42,
   "metadata": {},
   "outputs": [],
   "source": [
    "# This is a notebook that checks a compiled ESG database to make sure there's nothing\n",
    "# missing. The \"master\" database is built in R and saved in the repository as ESG_wdi.RData\n",
    "# (see load_data.R). A couple of lines of R code can export a file for analysis here:\n",
    "#\n",
    "# load(file=\"data/ESG_wdi.Rdata\") -- creates a dataframe named 'x'\n",
    "# write.csv(x, \"~/esg.csv\")\n",
    "\n",
    "import pandas as pd\n",
    "import wbgapi as wb"
   ]
  },
  {
   "cell_type": "code",
   "execution_count": 43,
   "metadata": {
    "scrolled": true
   },
   "outputs": [
    {
     "data": {
      "text/plain": [
       "Unnamed: 0     486204\n",
       "iso3c             202\n",
       "date               61\n",
       "value          322438\n",
       "indicatorID       125\n",
       "indicator         125\n",
       "iso2c             202\n",
       "country           224\n",
       "dtype: int64"
      ]
     },
     "execution_count": 43,
     "metadata": {},
     "output_type": "execute_result"
    }
   ],
   "source": [
    "esg = pd.read_csv(\"~/esg.csv\")\n",
    "meta = pd.read_csv(\"../data/esg_metadata.csv\")\n",
    "\n",
    "# ignore indicators in archived databases\n",
    "meta = meta[(meta.database_id!='11') & (meta.database_id!='57')]\n",
    "\n",
    "# quick & dirty report of unique values\n",
    "pd.Series({k:len(esg[k].unique()) for k in esg.columns})"
   ]
  },
  {
   "cell_type": "code",
   "execution_count": 44,
   "metadata": {},
   "outputs": [
    {
     "data": {
      "text/plain": [
       "{'EN.ATM.METH.PC', 'EN.ATM.NOXE.PC', 'WBL'}"
      ]
     },
     "execution_count": 44,
     "metadata": {},
     "output_type": "execute_result"
    }
   ],
   "source": [
    "# find indicators in the metadata file that aren't in the database\n",
    "esg_cets = set(esg['indicatorID'].unique())\n",
    "meta_cets = set(meta['cetsid'])\n",
    "meta_cets - esg_cets"
   ]
  },
  {
   "cell_type": "code",
   "execution_count": 46,
   "metadata": {
    "scrolled": false
   },
   "outputs": [
    {
     "data": {
      "text/html": [
       "<div class=\"wbgapi\"><table>\n",
       "<thead>\n",
       "<tr><th>id  </th><th>value                         </th><th>region  </th><th>incomeLevel  </th></tr>\n",
       "</thead>\n",
       "<tbody>\n",
       "<tr><td>CPV </td><td>Cabo Verde                    </td><td>SSF     </td><td>LMC          </td></tr>\n",
       "<tr><td>CMR </td><td>Cameroon                      </td><td>SSF     </td><td>LMC          </td></tr>\n",
       "<tr><td>COG </td><td>Congo, Rep.                   </td><td>SSF     </td><td>LMC          </td></tr>\n",
       "<tr><td>DMA </td><td>Dominica                      </td><td>LCN     </td><td>UMC          </td></tr>\n",
       "<tr><td>GRD </td><td>Grenada                       </td><td>LCN     </td><td>UMC          </td></tr>\n",
       "<tr><td>KEN </td><td>Kenya                         </td><td>SSF     </td><td>LMC          </td></tr>\n",
       "<tr><td>MDA </td><td>Moldova                       </td><td>ECS     </td><td>LMC          </td></tr>\n",
       "<tr><td>MNG </td><td>Mongolia                      </td><td>EAS     </td><td>LMC          </td></tr>\n",
       "<tr><td>NGA </td><td>Nigeria                       </td><td>SSF     </td><td>LMC          </td></tr>\n",
       "<tr><td>PAK </td><td>Pakistan                      </td><td>SAS     </td><td>LMC          </td></tr>\n",
       "<tr><td>PNG </td><td>Papua New Guinea              </td><td>EAS     </td><td>LMC          </td></tr>\n",
       "<tr><td>LCA </td><td>St. Lucia                     </td><td>LCN     </td><td>UMC          </td></tr>\n",
       "<tr><td>VCT </td><td>St. Vincent and the Grenadines</td><td>LCN     </td><td>UMC          </td></tr>\n",
       "<tr><td>TLS </td><td>Timor-Leste                   </td><td>EAS     </td><td>LMC          </td></tr>\n",
       "<tr><td>UZB </td><td>Uzbekistan                    </td><td>ECS     </td><td>LMC          </td></tr>\n",
       "<tr><td>ZWE </td><td>Zimbabwe                      </td><td>SSF     </td><td>LMC          </td></tr>\n",
       "<tr><td>    </td><td>16 elements                   </td><td>        </td><td>             </td></tr>\n",
       "</tbody>\n",
       "</table></div>"
      ],
      "text/plain": [
       "id    value                           region    incomeLevel\n",
       "----  ------------------------------  --------  -------------\n",
       "CPV   Cabo Verde                      SSF       LMC\n",
       "CMR   Cameroon                        SSF       LMC\n",
       "COG   Congo, Rep.                     SSF       LMC\n",
       "DMA   Dominica                        LCN       UMC\n",
       "GRD   Grenada                         LCN       UMC\n",
       "KEN   Kenya                           SSF       LMC\n",
       "MDA   Moldova                         ECS       LMC\n",
       "MNG   Mongolia                        EAS       LMC\n",
       "NGA   Nigeria                         SSF       LMC\n",
       "PAK   Pakistan                        SAS       LMC\n",
       "PNG   Papua New Guinea                EAS       LMC\n",
       "LCA   St. Lucia                       LCN       UMC\n",
       "VCT   St. Vincent and the Grenadines  LCN       UMC\n",
       "TLS   Timor-Leste                     EAS       LMC\n",
       "UZB   Uzbekistan                      ECS       LMC\n",
       "ZWE   Zimbabwe                        SSF       LMC\n",
       "      16 elements"
      ]
     },
     "execution_count": 46,
     "metadata": {},
     "output_type": "execute_result"
    }
   ],
   "source": [
    "# Find WDI countries not in the database\n",
    "\n",
    "wdi_countries = set([row['id'] for row in wb.economy.list(skipAggs=True)])\n",
    "esg_countries = set(esg['iso3c'].unique())\n",
    "wb.economy.info(wdi_countries - esg_countries)"
   ]
  },
  {
   "cell_type": "code",
   "execution_count": 47,
   "metadata": {},
   "outputs": [],
   "source": [
    "# this database is generated by extract_esg.py\n",
    "esg2 = pd.read_csv(\"esg_api_data.csv\")"
   ]
  },
  {
   "cell_type": "code",
   "execution_count": 53,
   "metadata": {},
   "outputs": [
    {
     "data": {
      "text/plain": [
       "{'WBL'}"
      ]
     },
     "execution_count": 53,
     "metadata": {},
     "output_type": "execute_result"
    }
   ],
   "source": [
    "esg2_cets = set(esg2['series'])\n",
    "meta_cets - esg2_cets"
   ]
  },
  {
   "cell_type": "code",
   "execution_count": 59,
   "metadata": {},
   "outputs": [
    {
     "data": {
      "text/plain": [
       "set()"
      ]
     },
     "execution_count": 59,
     "metadata": {},
     "output_type": "execute_result"
    }
   ],
   "source": [
    "esg2_countries = set(esg2['economy'])\n",
    "wdi_countries - esg2_countries"
   ]
  }
 ],
 "metadata": {
  "kernelspec": {
   "display_name": "Python 3",
   "language": "python",
   "name": "python3"
  },
  "language_info": {
   "codemirror_mode": {
    "name": "ipython",
    "version": 3
   },
   "file_extension": ".py",
   "mimetype": "text/x-python",
   "name": "python",
   "nbconvert_exporter": "python",
   "pygments_lexer": "ipython3",
   "version": "3.7.4"
  }
 },
 "nbformat": 4,
 "nbformat_minor": 2
}
